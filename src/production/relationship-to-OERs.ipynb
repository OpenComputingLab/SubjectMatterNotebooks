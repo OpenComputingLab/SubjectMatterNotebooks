{
 "cells": [
  {
   "cell_type": "markdown",
   "id": "c4ae1653",
   "metadata": {},
   "source": [
    "# Relationship to OERs\n",
    "\n",
    "What then is the relationship between generative documents and open educational resources (OERs)?"
   ]
  },
  {
   "cell_type": "markdown",
   "id": "ad6f0b1b",
   "metadata": {},
   "source": [
    "Part of the promise of open educational resources is that they provide resources that are *licensed* in such a way that the resources are *legally* __reusable with modification__.\n",
    "\n",
    "However, just because a resource is made available under such legal terms doesn't make it reusable *in practice*.\n",
    "\n",
    "For resources that are intended to be reusable at a micro-level, such as a diagram that could be reused as part of a presentation, (compared to *macro* style reuse), if you want to make a minor modification to the diagram, such as changing a label on it, you might end up having to redraw the complete diagram from scratch.\n",
    "\n",
    "In a generative workflow, where the diagram is generated from a text based source description, modifying the diagram then becomes a process of:\n",
    "\n",
    "- modify the source;\n",
    "- (re)generate the (modified) diagram from the (modified) source.\n",
    "\n",
    "*If* the means of production is made available, as well as a the source script, then modifying the diagram simply becomes a matter of updating the generative description and regenerating the asset.\n",
    "\n",
    "This ability to modify and update resources from source descriptions lays at the heart of the processes described in this document. The provision of the means of production is also key: *without* the ability to convert to the text description to the generated asset, the person wanting to reuse the asset, with modification, there is no asset to be reused. *With* the means of production available, the user is free to modify and regenerate assets, from source, as required."
   ]
  }
 ],
 "metadata": {
  "kernelspec": {
   "display_name": "Python 3",
   "language": "python",
   "name": "python3"
  },
  "language_info": {
   "codemirror_mode": {
    "name": "ipython",
    "version": 3
   },
   "file_extension": ".py",
   "mimetype": "text/x-python",
   "name": "python",
   "nbconvert_exporter": "python",
   "pygments_lexer": "ipython3",
   "version": "3.9.7"
  }
 },
 "nbformat": 4,
 "nbformat_minor": 5
}
