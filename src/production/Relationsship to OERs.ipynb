{
 "cells": [
  {
   "cell_type": "markdown",
   "id": "c4ae1653",
   "metadata": {},
   "source": [
    "# Relationship to OERs\n",
    "\n",
    "What then is the relationship between generative documents and open educational resources (OERs)?"
   ]
  },
  {
   "cell_type": "code",
   "execution_count": null,
   "id": "26d3dca0",
   "metadata": {},
   "outputs": [],
   "source": []
  }
 ],
 "metadata": {
  "kernelspec": {
   "display_name": "Python 3",
   "language": "python",
   "name": "python3"
  },
  "language_info": {
   "codemirror_mode": {
    "name": "ipython",
    "version": 3
   },
   "file_extension": ".py",
   "mimetype": "text/x-python",
   "name": "python",
   "nbconvert_exporter": "python",
   "pygments_lexer": "ipython3",
   "version": "3.9.5"
  }
 },
 "nbformat": 4,
 "nbformat_minor": 5
}
