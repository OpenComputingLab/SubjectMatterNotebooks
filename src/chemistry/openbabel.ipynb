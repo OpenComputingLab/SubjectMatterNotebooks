{
 "cells": [
  {
   "cell_type": "markdown",
   "id": "bearing-prerequisite",
   "metadata": {},
   "source": [
    "# OpenBabel\n"
   ]
  },
  {
   "cell_type": "code",
   "execution_count": 1,
   "id": "balanced-justice",
   "metadata": {},
   "outputs": [],
   "source": [
    "%%capture\n",
    "try:\n",
    "    from openbabel import pybel\n",
    "except:\n",
    "    %pip install openbabel-wheel"
   ]
  },
  {
   "cell_type": "code",
   "execution_count": 3,
   "id": "inner-intent",
   "metadata": {},
   "outputs": [
    {
     "ename": "NameError",
     "evalue": "name 'pentanol' is not defined",
     "output_type": "error",
     "traceback": [
      "\u001b[0;31m---------------------------------------------------------------------------\u001b[0m",
      "\u001b[0;31mNameError\u001b[0m                                 Traceback (most recent call last)",
      "\u001b[0;32m<ipython-input-3-9df6b59c2119>\u001b[0m in \u001b[0;36m<module>\u001b[0;34m\u001b[0m\n\u001b[1;32m      1\u001b[0m \u001b[0;32mfrom\u001b[0m \u001b[0mopenbabel\u001b[0m \u001b[0;32mimport\u001b[0m \u001b[0mpybel\u001b[0m\u001b[0;34m\u001b[0m\u001b[0;34m\u001b[0m\u001b[0m\n\u001b[1;32m      2\u001b[0m \u001b[0;34m\u001b[0m\u001b[0m\n\u001b[0;32m----> 3\u001b[0;31m \u001b[0mp\u001b[0m \u001b[0;34m=\u001b[0m \u001b[0mpybel\u001b[0m\u001b[0;34m.\u001b[0m\u001b[0mreadstring\u001b[0m\u001b[0;34m(\u001b[0m \u001b[0;34m\"smi\"\u001b[0m\u001b[0;34m,\u001b[0m \u001b[0mpentanol\u001b[0m\u001b[0;34m.\u001b[0m\u001b[0mcanonical_smiles\u001b[0m \u001b[0;34m)\u001b[0m\u001b[0;34m\u001b[0m\u001b[0;34m\u001b[0m\u001b[0m\n\u001b[0m\u001b[1;32m      4\u001b[0m \u001b[0mp\u001b[0m\u001b[0;34m\u001b[0m\u001b[0;34m\u001b[0m\u001b[0m\n",
      "\u001b[0;31mNameError\u001b[0m: name 'pentanol' is not defined"
     ]
    }
   ],
   "source": [
    "from openbabel import pybel\n",
    "\n",
    "#p = pybel.readstring( \"smi\", pentanol.canonical_smiles )\n",
    "#p\n"
   ]
  },
  {
   "cell_type": "code",
   "execution_count": null,
   "id": "negative-discharge",
   "metadata": {},
   "outputs": [],
   "source": []
  }
 ],
 "metadata": {
  "kernelspec": {
   "display_name": "Python 3",
   "language": "python",
   "name": "python3"
  },
  "language_info": {
   "codemirror_mode": {
    "name": "ipython",
    "version": 3
   },
   "file_extension": ".py",
   "mimetype": "text/x-python",
   "name": "python",
   "nbconvert_exporter": "python",
   "pygments_lexer": "ipython3",
   "version": "3.9.5"
  }
 },
 "nbformat": 4,
 "nbformat_minor": 5
}
