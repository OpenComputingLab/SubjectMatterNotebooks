{
 "cells": [
  {
   "cell_type": "markdown",
   "id": "bearing-prerequisite",
   "metadata": {},
   "source": [
    "# OpenBabel\n"
   ]
  },
  {
   "cell_type": "code",
   "execution_count": null,
   "id": "balanced-justice",
   "metadata": {},
   "outputs": [],
   "source": [
    "#%%capture\n",
    "#try:\n",
    "#    import pybel\n",
    "#except:\n",
    "#    %pip install openbabel"
   ]
  },
  {
   "cell_type": "code",
   "execution_count": null,
   "id": "inner-intent",
   "metadata": {},
   "outputs": [],
   "source": [
    "import pybel\n",
    "\n",
    "p = pybel.readstring( \"smi\", pentanol.canonical_smiles )\n",
    "p\n"
   ]
  }
 ],
 "metadata": {
  "kernelspec": {
   "display_name": "Python 3",
   "language": "python",
   "name": "python3"
  },
  "language_info": {
   "codemirror_mode": {
    "name": "ipython",
    "version": 3
   },
   "file_extension": ".py",
   "mimetype": "text/x-python",
   "name": "python",
   "nbconvert_exporter": "python",
   "pygments_lexer": "ipython3",
   "version": "3.9.4"
  }
 },
 "nbformat": 4,
 "nbformat_minor": 5
}
