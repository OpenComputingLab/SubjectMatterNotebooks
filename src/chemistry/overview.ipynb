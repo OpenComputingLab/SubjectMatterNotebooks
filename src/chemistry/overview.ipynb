{
 "cells": [
  {
   "cell_type": "markdown",
   "id": "lesbian-front",
   "metadata": {},
   "source": [
    "# Chemistry Overview\n",
    "\n",
    "A wide range of tools exist that support workflows in Chemistry, from looking up the structure and properties of a wide variety of elements and compounds, to visualising their structure using interactive HTML widgets.\n",
    "\n",
    "Using automation to help us generate the the lookup of compound structures from their names allows us to create narratives where correctness is guaranteed when moving from one consideration, such as the formula for a particular compound given its common name, to the visualisation of that structure, or to a consideration of its physical, structural or chemical properties.\n",
    "\n",
    ":::{admonition} Hiding Code\n",
    ":class: tip\n",
    "The following example includes the code inline to show how the automation proceeds. In a finished would the code could be hidden but revealable, for example in collapsed code cells, or have all mention of the code removed from the final output document.\n",
    ":::"
   ]
  },
  {
   "cell_type": "markdown",
   "id": "2c3bb825",
   "metadata": {},
   "source": [
    "### Example - Describing a Compound\n",
    "\n",
    "As an exampe of providing a generated description of a compounfd simply from its name, let's consider *ethanol*. (We could just as easily have picked another compound, such as a *methane* or *nitric acid*.\n",
    "\n",
    "Let's define a reference to the compound:"
   ]
  },
  {
   "cell_type": "code",
   "execution_count": 18,
   "id": "bb561957",
   "metadata": {},
   "outputs": [],
   "source": [
    "#Provide the common name of a compound\n",
    "compound_name = \"ethanol\""
   ]
  },
  {
   "cell_type": "markdown",
   "id": "bb88b96f",
   "metadata": {},
   "source": [
    "At the current time, whilst R based `bookdown` workflows *do* support inline embedding of code variables in markdown text, interactive Jupyter notebook markdown cells don't support such a feature (although there is ongoing work to provide this sort of support) other than by extension.\n",
    "\n",
    "However, it is possible to embed variables into markdown text in Jupyter Book workflows using [`jupyter-glue`](https://jupyterbook.org/content/executable/output-insert.html)."
   ]
  },
  {
   "cell_type": "code",
   "execution_count": 19,
   "id": "thick-farming",
   "metadata": {
    "tags": [
     "hide-input"
    ]
   },
   "outputs": [
    {
     "data": {
      "application/papermill.record/text/plain": "'nitric acid'"
     },
     "metadata": {
      "scrapbook": {
       "mime_prefix": "application/papermill.record/",
       "name": "compound"
      }
     },
     "output_type": "display_data"
    }
   ],
   "source": [
    "from myst_nb import glue\n",
    "\n",
    "# Create a reference to a value we can use in our markdown text\n",
    "glue(\"compound\", compound_name, display=False)"
   ]
  },
  {
   "cell_type": "markdown",
   "id": "pediatric-sunglasses",
   "metadata": {},
   "source": [
    "Having declared the compound we want to investigate in code, we can refer to it directly inline in our text using a ``{glue:}`compound` `` reference: {glue:text}`compound`.\n",
    "\n",
    "We can also automatically look-up various properties associated with the compound, such as its chemical formula or a universal compound identifier."
   ]
  },
  {
   "cell_type": "code",
   "execution_count": 20,
   "id": "stable-arbor",
   "metadata": {},
   "outputs": [],
   "source": [
    "import pubchempy as pcp\n",
    "\n",
    "_compound = pcp.get_compounds(compound_name, 'name')[0]"
   ]
  },
  {
   "cell_type": "markdown",
   "id": "certain-modification",
   "metadata": {},
   "source": [
    "The formula can be rendered in an appropriate typographical form from a LaTeX representation of the formula."
   ]
  },
  {
   "cell_type": "code",
   "execution_count": 21,
   "id": "outdoor-rebel",
   "metadata": {
    "tags": [
     "hide-input"
    ]
   },
   "outputs": [
    {
     "data": {
      "text/latex": [
       "$\\ce{HNO3}$"
      ],
      "text/plain": [
       "<IPython.core.display.Latex object>"
      ]
     },
     "execution_count": 21,
     "metadata": {},
     "output_type": "execute_result"
    }
   ],
   "source": [
    "from IPython.display import Latex\n",
    "\n",
    "Latex('$\\ce{'+_compound.molecular_formula+'}$')"
   ]
  },
  {
   "cell_type": "markdown",
   "id": "90249d26",
   "metadata": {},
   "source": [
    "$$\\require{mhchem}$$\n",
    "\n",
    "It is also possible to create `glue` references to things like the compound LaTeX equation.\n",
    "\n",
    "Using the `mhchem` *MathJax* package, we easily add support for inline rendering of chemical equations, just as we can rendered mathematical equations:"
   ]
  },
  {
   "cell_type": "code",
   "execution_count": 5,
   "id": "random-czech",
   "metadata": {
    "tags": [
     "hide-input"
    ]
   },
   "outputs": [
    {
     "data": {
      "application/papermill.record/text/latex": "$\\ce{C2H6O}$",
      "application/papermill.record/text/plain": "<IPython.core.display.Latex object>"
     },
     "metadata": {
      "scrapbook": {
       "mime_prefix": "application/papermill.record/",
       "name": "compound_latex"
      }
     },
     "output_type": "display_data"
    }
   ],
   "source": [
    "_compound_latex = '$\\ce{'+_compound.molecular_formula+'}$' \n",
    "\n",
    "# Save a reference to the Latex equivalent of the compound formula\n",
    "glue(\"compoundLatex\", Latex(_compound_latex), display=False)"
   ]
  },
  {
   "cell_type": "markdown",
   "id": "opponent-estate",
   "metadata": {},
   "source": [
    "This means that we can render the chemical equation for our chosen compound ({glue:text}`compound`) in a markdown content block: \n",
    "\n",
    "```{glue:math} compoundLatex\n",
    ":label: eq-sym\n",
    "```\n",
    "\n",
    "We can also render a free standing HTML+JS 3D interactive version of the molecule into the page from the previously retrieved universal compound ID:"
   ]
  },
  {
   "cell_type": "code",
   "execution_count": 7,
   "id": "fatal-minneapolis",
   "metadata": {
    "tags": [
     "hide-input"
    ]
   },
   "outputs": [
    {
     "data": {
      "application/3dmoljs_load.v0": "<div id=\"3dmolviewer_16325672143232799\"  style=\"position: relative; width: 640px; height: 480px\">\n        <p id=\"3dmolwarning_16325672143232799\" style=\"background-color:#ffcccc;color:black\">You appear to be running in JupyterLab (or JavaScript failed to load for some other reason).  You need to install the 3dmol extension: <br>\n        <tt>jupyter labextension install jupyterlab_3dmol</tt></p>\n        </div>\n<script>\n\nvar loadScriptAsync = function(uri){\n  return new Promise((resolve, reject) => {\n    var tag = document.createElement('script');\n    tag.src = uri;\n    tag.async = true;\n    tag.onload = () => {\n      resolve();\n    };\n  var firstScriptTag = document.getElementsByTagName('script')[0];\n  firstScriptTag.parentNode.insertBefore(tag, firstScriptTag);\n});\n};\n\nif(typeof $3Dmolpromise === 'undefined') {\n$3Dmolpromise = null;\n  $3Dmolpromise = loadScriptAsync('https://3dmol.org/build/3Dmol.js');\n}\n\nvar viewer_16325672143232799 = null;\nvar warn = document.getElementById(\"3dmolwarning_16325672143232799\");\nif(warn) {\n    warn.parentNode.removeChild(warn);\n}\n$3Dmolpromise.then(function() {\nviewer_16325672143232799 = $3Dmol.createViewer($(\"#3dmolviewer_16325672143232799\"),{backgroundColor:\"white\"});\n$3Dmol.download(\"cid:702\", viewer_16325672143232799, {}, function() {\nviewer_16325672143232799.zoomTo();\n\tviewer_16325672143232799.setStyle({\"stick\": {\"radius\": 0.1}, \"sphere\": {\"scale\": 0.25}});\nviewer_16325672143232799.render();\n})\n});\n</script>",
      "text/html": [
       "<div id=\"3dmolviewer_16325672143232799\"  style=\"position: relative; width: 640px; height: 480px\">\n",
       "        <p id=\"3dmolwarning_16325672143232799\" style=\"background-color:#ffcccc;color:black\">You appear to be running in JupyterLab (or JavaScript failed to load for some other reason).  You need to install the 3dmol extension: <br>\n",
       "        <tt>jupyter labextension install jupyterlab_3dmol</tt></p>\n",
       "        </div>\n",
       "<script>\n",
       "\n",
       "var loadScriptAsync = function(uri){\n",
       "  return new Promise((resolve, reject) => {\n",
       "    var tag = document.createElement('script');\n",
       "    tag.src = uri;\n",
       "    tag.async = true;\n",
       "    tag.onload = () => {\n",
       "      resolve();\n",
       "    };\n",
       "  var firstScriptTag = document.getElementsByTagName('script')[0];\n",
       "  firstScriptTag.parentNode.insertBefore(tag, firstScriptTag);\n",
       "});\n",
       "};\n",
       "\n",
       "if(typeof $3Dmolpromise === 'undefined') {\n",
       "$3Dmolpromise = null;\n",
       "  $3Dmolpromise = loadScriptAsync('https://3dmol.org/build/3Dmol.js');\n",
       "}\n",
       "\n",
       "var viewer_16325672143232799 = null;\n",
       "var warn = document.getElementById(\"3dmolwarning_16325672143232799\");\n",
       "if(warn) {\n",
       "    warn.parentNode.removeChild(warn);\n",
       "}\n",
       "$3Dmolpromise.then(function() {\n",
       "viewer_16325672143232799 = $3Dmol.createViewer($(\"#3dmolviewer_16325672143232799\"),{backgroundColor:\"white\"});\n",
       "$3Dmol.download(\"cid:702\", viewer_16325672143232799, {}, function() {\n",
       "viewer_16325672143232799.zoomTo();\n",
       "\tviewer_16325672143232799.setStyle({\"stick\": {\"radius\": 0.1}, \"sphere\": {\"scale\": 0.25}});\n",
       "viewer_16325672143232799.render();\n",
       "})\n",
       "});\n",
       "</script>"
      ]
     },
     "metadata": {},
     "output_type": "display_data"
    }
   ],
   "source": [
    "import py3Dmol\n",
    "\n",
    "# Lookup a molecule using its CID (PubChem Compound Identification) code\n",
    "p=py3Dmol.view(query = f'cid:{_compound.cid}')\n",
    "\n",
    "# Set the render style\n",
    "p.setStyle({'stick': {'radius': .1}, 'sphere': {'scale': 0.25}})\n",
    "p.show()"
   ]
  },
  {
   "cell_type": "markdown",
   "id": "informed-poker",
   "metadata": {},
   "source": [
    "If we were to change the name of the compound in the first code cell in our original source document and reflow the notebook, *everything* would be updated and there would be no mismatches between the compound name, its formula, or its visualised structure.\n",
    "\n",
    "This ability to write *general* templated content and then generate final versions of it that reference *particular* compounds allows easy updating of materials if you want to change the focus of discussion. It might be particularly appropriate when creating worksheets or reference sheets associated with a particular compound, for example. It also provides an easy way to generate templated assessment questions and marking guides that can be \"refreshed\" simply by aupdating a question to apply to a compound not previously the focus of the same assessment question.\n",
    "\n",
    ":::{admonition} Code visibility in rendered documents\n",
    ":class: tip\n",
    "Recall that there is no requirement for the original generating code to be visible, or even present, in the final rendered document.\n",
    ":::"
   ]
  }
 ],
 "metadata": {
  "celltoolbar": "Tags",
  "kernelspec": {
   "display_name": "Python 3",
   "language": "python",
   "name": "python3"
  },
  "language_info": {
   "codemirror_mode": {
    "name": "ipython",
    "version": 3
   },
   "file_extension": ".py",
   "mimetype": "text/x-python",
   "name": "python",
   "nbconvert_exporter": "python",
   "pygments_lexer": "ipython3",
   "version": "3.9.7"
  }
 },
 "nbformat": 4,
 "nbformat_minor": 5
}
