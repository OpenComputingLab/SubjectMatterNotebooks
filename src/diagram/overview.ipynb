{
 "cells": [
  {
   "cell_type": "markdown",
   "id": "attempted-criminal",
   "metadata": {},
   "source": [
    "# Diagrams Overview\n",
    "\n",
    "One piece generate document workflows allow for the creation of materials containing a wide variety of simple diagrams produced from simple text descriptions contained within the body of the document.\n",
    "\n",
    "Making changes to the diagram simply requires a change to the original text description of it. When the document is reflowed, the diagram will be directly updated. There is no distance between the source material and the rendered diagram. The source material contains the description of the diagram and rendered directly from it.\n",
    "\n",
    "By providing learners with tools of production related to diagram generation, we also make it easier for them to create their own diagrams and explore appropriate visual ways of supporting their own learning.\n",
    "\n",
    "Several package exists that support the generation of diagrams from simple text descriptions of them. Through the creation of simple magics, we can use cell block magic to configure a code cell to accept these various description types and then render diagrams directly from them.\n",
    "\n",
    "By including the the textual generator script in the source document, output assets can be generated *in situ*. Updating or maintaining the images takes place in the context within which the asset is used, minimising opportunities for the asset and the surrounding text context to become disjointed.\n",
    "\n",
    "The availability of simple text descriptions of a diagram, from which diagrams are typically rendered according to a fixed convention (although layout algorithms may determine the specific location of diagram components within a particular diagram) might also be used as mimimally sufficient text description of many key features of the diagram.\n",
    "\n",
    "Currently, meaningful human readable \"long description\" text descriptions to support accessibility are *not* generated from the original generative text descriptions, but the potential is there for such development if the will is there to exploit it.\n",
    "\n",
    "Several different approaches are possible for generating diagrams, both static and interactive, in a Jupyter Book publishing workflow from diagram source scripts:\n",
    "\n",
    "- using Python packages that render output diagrams as code cell outputs;\n",
    "- using magics to parse diagram scripts and generate output diagrams;\n",
    "- using hybrid approaches, for example magicked diagram script cells to generate output cells in a live interactive notebook or a Sphinx/Jupyter Book plugin to render the generated diagram in the output document from a code cell script.\n",
    "\n",
    "In this chapter, we will review the use of magics and also explore how these might integrate with a diagram rendering workflow provided by the Sphinx/Jupyter Book publishing workflow."
   ]
  }
 ],
 "metadata": {
  "celltoolbar": "Tags",
  "kernelspec": {
   "display_name": "Python 3",
   "language": "python",
   "name": "python3"
  },
  "language_info": {
   "codemirror_mode": {
    "name": "ipython",
    "version": 3
   },
   "file_extension": ".py",
   "mimetype": "text/x-python",
   "name": "python",
   "nbconvert_exporter": "python",
   "pygments_lexer": "ipython3",
   "version": "3.9.7"
  }
 },
 "nbformat": 4,
 "nbformat_minor": 5
}
