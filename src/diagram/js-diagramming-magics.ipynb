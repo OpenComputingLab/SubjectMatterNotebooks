{
 "cells": [
  {
   "cell_type": "markdown",
   "id": "cognitive-weapon",
   "metadata": {},
   "source": [
    "# JavaScript Rendered Diagramming\n",
    "\n",
    "A variety of JavaScript based text to diagram tools exist that can be used to render diagrams from simple text based source scripts. Examples include:\n",
    "\n",
    "- [`js-sequence-diagrams`](https://bramp.github.io/js-sequence-diagrams/);\n",
    "- [`mermaid.js`](https://mermaid-js.github.io/mermaid/#/)\n",
    "- [timing diagrams (`wavedrom`)](https://wavedrom.com/)\n",
    "\n",
    "The [`innovationOUtside/nb_js_diagrammers`](https://github.com/innovationOUtside/nb_js_diagrammers) Python package provides a range of IPyhton magics for supporting the generation of diagrams using all these packages using simple cell block magics. "
   ]
  },
  {
   "cell_type": "markdown",
   "id": "29c92ff4",
   "metadata": {},
   "source": [
    "```{note}\n",
    "The [*Markdown preview enhanced*](https://shd101wyy.github.io/markdown-preview-enhanced/#/) VS Code extension provides a wide range of power tools to support the editing and previewing of native markdown documents. Among other things, the extension will offer rendered previews of diagrams from appropriate scripts using the `mermaid` and `wavedrom` JavaScript packages.\n",
    "\n",
    "See also: [*Previewing Sphinx and Jupyter Book Rendered Mermaid and Wavedrom Diagrams in VS Code*](https://blog.ouseful.info/2021/11/02/previewing-sphinx-and-jupyter-book-rendered-mermaid-and-wavedrom-diagrams-in-vs-code/)\n",
    "```"
   ]
  },
  {
   "cell_type": "code",
   "execution_count": 1,
   "id": "53415e72",
   "metadata": {
    "tags": [
     "remove-cell"
    ]
   },
   "outputs": [],
   "source": [
    "%%capture\n",
    "try:\n",
    "    import nb_js_diagrammers\n",
    "except:\n",
    "    %pip install nb_js_diagrammers"
   ]
  },
  {
   "cell_type": "code",
   "execution_count": 2,
   "id": "cc12de11",
   "metadata": {
    "tags": [
     "hide-input"
    ]
   },
   "outputs": [],
   "source": [
    "%load_ext nb_js_diagrammers"
   ]
  },
  {
   "cell_type": "markdown",
   "id": "ca06dea2",
   "metadata": {},
   "source": [
    "## Generating Timing Diagrams With `wavedrom`"
   ]
  },
  {
   "cell_type": "code",
   "execution_count": 3,
   "id": "55baf956",
   "metadata": {},
   "outputs": [
    {
     "data": {
      "text/html": [
       "<iframe srcdoc=\"&lt;!DOCTYPE html&gt;\n",
       "&lt;html&gt;\n",
       "    &lt;head&gt;\n",
       "        &lt;meta charset=&quot;UTF-8&quot;&gt;\n",
       "        &lt;title&gt;wavedrom.js&lt;/title&gt;\n",
       "&lt;script src=&quot;https://cdnjs.cloudflare.com/ajax/libs/wavedrom/2.6.8/skins/default.js&quot; type=&quot;text/javascript&quot;&gt;&lt;/script&gt;\n",
       "&lt;script src=&quot;https://cdnjs.cloudflare.com/ajax/libs/wavedrom/2.6.8/wavedrom.min.js&quot; type=&quot;text/javascript&quot;&gt;&lt;/script&gt;\n",
       "&lt;/head&gt;\n",
       "        &lt;body onload=&quot;WaveDrom.ProcessAll()&quot;&gt;\n",
       "&lt;script type=&quot;WaveDrom&quot;&gt;\n",
       "\n",
       "{ signal : [\n",
       "  { name: &quot;clk&quot;,  wave: &quot;p......&quot; },\n",
       "  { name: &quot;bus&quot;,  wave: &quot;x.34.5x&quot;,   data: &quot;head body tail&quot; },\n",
       "  { name: &quot;wire&quot;, wave: &quot;0.1..0.&quot; },\n",
       "]}\n",
       "\n",
       "&lt;/script&gt;\n",
       "        &lt;/body&gt;\n",
       "&lt;/html&gt;\n",
       "\" width=\"100%\" height=\"100\"style=\"border:none !important;\" \"allowfullscreen\" \"webkitallowfullscreen\" \"mozallowfullscreen\"></iframe>"
      ],
      "text/plain": [
       "<nb_js_diagrammers.magics.JSDiagram at 0x106226f70>"
      ]
     },
     "execution_count": 3,
     "metadata": {},
     "output_type": "execute_result"
    }
   ],
   "source": [
    "%%wavedrom_magic -h 100 -o wavedrom.html\n",
    "\n",
    "{ signal : [\n",
    "  { name: \"clk\",  wave: \"p......\" },\n",
    "  { name: \"bus\",  wave: \"x.34.5x\",   data: \"head body tail\" },\n",
    "  { name: \"wire\", wave: \"0.1..0.\" },\n",
    "]}"
   ]
  },
  {
   "cell_type": "markdown",
   "id": "74be369d",
   "metadata": {},
   "source": [
    "## Generating Diagrams Using `mermaid.js`\n",
    "\n",
    "Several diagram types can be generated using the `mermaid.js` package.\n",
    "\n",
    "For example, we can generate simple flow charts:"
   ]
  },
  {
   "cell_type": "code",
   "execution_count": 4,
   "id": "ca7ecbcd",
   "metadata": {},
   "outputs": [
    {
     "data": {
      "text/html": [
       "<iframe srcdoc=\"&lt;html&gt;\n",
       "    &lt;body&gt;\n",
       "        &lt;script src=&quot;https://cdn.jsdelivr.net/npm/mermaid/dist/mermaid.min.js&quot;&gt;&lt;/script&gt;\n",
       "        &lt;script&gt;\n",
       "            mermaid.initialize({ startOnLoad: true });\n",
       "        &lt;/script&gt;\n",
       " \n",
       "        &lt;div class=&quot;mermaid&quot;&gt;\n",
       "            \n",
       "flowchart TD\n",
       "    A[Start] --&gt; B{Is it?};\n",
       "    B --&gt;|Yes| C[OK];\n",
       "    C --&gt; D[Rethink];\n",
       "    D --&gt; B;\n",
       "    B ----&gt;|No| E[End];\n",
       "\n",
       "        &lt;/div&gt;\n",
       " \n",
       "    &lt;/body&gt;\n",
       "&lt;/html&gt;\n",
       "\" width=\"100%\" height=\"500\"style=\"border:none !important;\" \"allowfullscreen\" \"webkitallowfullscreen\" \"mozallowfullscreen\"></iframe>"
      ],
      "text/plain": [
       "<nb_js_diagrammers.magics.JSDiagram at 0x1051e2580>"
      ]
     },
     "execution_count": 4,
     "metadata": {},
     "output_type": "execute_result"
    }
   ],
   "source": [
    "%%mermaid_magic -h 500 -o mermaid-flowchart.html\n",
    "\n",
    "flowchart TD\n",
    "    A[Start] --> B{Is it?};\n",
    "    B -->|Yes| C[OK];\n",
    "    C --> D[Rethink];\n",
    "    D --> B;\n",
    "    B ---->|No| E[End];"
   ]
  },
  {
   "cell_type": "markdown",
   "id": "fd21a611",
   "metadata": {},
   "source": [
    "More generally, we can also create simple graph diagrams:"
   ]
  },
  {
   "cell_type": "code",
   "execution_count": 5,
   "id": "3ebca1c8",
   "metadata": {},
   "outputs": [
    {
     "data": {
      "text/html": [
       "<iframe srcdoc=\"&lt;html&gt;\n",
       "    &lt;body&gt;\n",
       "        &lt;script src=&quot;https://cdn.jsdelivr.net/npm/mermaid/dist/mermaid.min.js&quot;&gt;&lt;/script&gt;\n",
       "        &lt;script&gt;\n",
       "            mermaid.initialize({ startOnLoad: true });\n",
       "        &lt;/script&gt;\n",
       " \n",
       "        &lt;div class=&quot;mermaid&quot;&gt;\n",
       "            \n",
       "graph TD;\n",
       "    A--&gt;B;\n",
       "    A--&gt;C;\n",
       "    B--&gt;D;\n",
       "    C--&gt;D;\n",
       "\n",
       "        &lt;/div&gt;\n",
       " \n",
       "    &lt;/body&gt;\n",
       "&lt;/html&gt;\n",
       "\" width=\"100%\" height=\"250\"style=\"border:none !important;\" \"allowfullscreen\" \"webkitallowfullscreen\" \"mozallowfullscreen\"></iframe>"
      ],
      "text/plain": [
       "<nb_js_diagrammers.magics.JSDiagram at 0x1051e2130>"
      ]
     },
     "execution_count": 5,
     "metadata": {},
     "output_type": "execute_result"
    }
   ],
   "source": [
    "%%mermaid_magic -h 250 -o mermaid-graph.html\n",
    "\n",
    "graph TD;\n",
    "    A-->B;\n",
    "    A-->C;\n",
    "    B-->D;\n",
    "    C-->D;"
   ]
  },
  {
   "cell_type": "markdown",
   "id": "415ff2be",
   "metadata": {},
   "source": [
    "We can also generate sequence diagrams:"
   ]
  },
  {
   "cell_type": "code",
   "execution_count": 6,
   "id": "59871973",
   "metadata": {},
   "outputs": [
    {
     "data": {
      "text/html": [
       "<iframe srcdoc=\"&lt;html&gt;\n",
       "    &lt;body&gt;\n",
       "        &lt;script src=&quot;https://cdn.jsdelivr.net/npm/mermaid/dist/mermaid.min.js&quot;&gt;&lt;/script&gt;\n",
       "        &lt;script&gt;\n",
       "            mermaid.initialize({ startOnLoad: true });\n",
       "        &lt;/script&gt;\n",
       " \n",
       "        &lt;div class=&quot;mermaid&quot;&gt;\n",
       "            \n",
       "sequenceDiagram\n",
       "    Alice-&gt;&gt;John: Hello John, how are you?\n",
       "    John--&gt;&gt;Alice: Great!\n",
       "    Alice-)John: See you later!\n",
       "\n",
       "        &lt;/div&gt;\n",
       " \n",
       "    &lt;/body&gt;\n",
       "&lt;/html&gt;\n",
       "\" width=\"100%\" height=\"350\"style=\"border:none !important;\" \"allowfullscreen\" \"webkitallowfullscreen\" \"mozallowfullscreen\"></iframe>"
      ],
      "text/plain": [
       "<nb_js_diagrammers.magics.JSDiagram at 0x1051e28e0>"
      ]
     },
     "execution_count": 6,
     "metadata": {},
     "output_type": "execute_result"
    }
   ],
   "source": [
    "%%mermaid_magic -h 350 -o mermaid-sequence.html\n",
    "\n",
    "sequenceDiagram\n",
    "    Alice->>John: Hello John, how are you?\n",
    "    John-->>Alice: Great!\n",
    "    Alice-)John: See you later!"
   ]
  },
  {
   "cell_type": "markdown",
   "id": "f4595e05",
   "metadata": {},
   "source": [
    "And entity relationship diagrams:"
   ]
  },
  {
   "cell_type": "code",
   "execution_count": 7,
   "id": "6849288c",
   "metadata": {},
   "outputs": [
    {
     "data": {
      "text/html": [
       "<iframe srcdoc=\"&lt;html&gt;\n",
       "    &lt;body&gt;\n",
       "        &lt;script src=&quot;https://cdn.jsdelivr.net/npm/mermaid/dist/mermaid.min.js&quot;&gt;&lt;/script&gt;\n",
       "        &lt;script&gt;\n",
       "            mermaid.initialize({ startOnLoad: true });\n",
       "        &lt;/script&gt;\n",
       " \n",
       "        &lt;div class=&quot;mermaid&quot;&gt;\n",
       "            \n",
       "erDiagram\n",
       "    CUSTOMER ||--o{ ORDER : places\n",
       "    CUSTOMER {\n",
       "        string name\n",
       "        string custNumber\n",
       "        string sector\n",
       "    }\n",
       "    ORDER {\n",
       "        int orderNumber\n",
       "        string deliveryAddress\n",
       "    }\n",
       "\n",
       "        &lt;/div&gt;\n",
       " \n",
       "    &lt;/body&gt;\n",
       "&lt;/html&gt;\n",
       "\" width=\"100%\" height=\"330\"style=\"border:none !important;\" \"allowfullscreen\" \"webkitallowfullscreen\" \"mozallowfullscreen\"></iframe>"
      ],
      "text/plain": [
       "<nb_js_diagrammers.magics.JSDiagram at 0x10623a160>"
      ]
     },
     "execution_count": 7,
     "metadata": {},
     "output_type": "execute_result"
    }
   ],
   "source": [
    "%%mermaid_magic -h 330 -o mermaid-er.html\n",
    "\n",
    "erDiagram\n",
    "    CUSTOMER ||--o{ ORDER : places\n",
    "    CUSTOMER {\n",
    "        string name\n",
    "        string custNumber\n",
    "        string sector\n",
    "    }\n",
    "    ORDER {\n",
    "        int orderNumber\n",
    "        string deliveryAddress\n",
    "    }"
   ]
  },
  {
   "cell_type": "markdown",
   "id": "a369fd27",
   "metadata": {},
   "source": [
    "## Visualising Audio Files with `wavesurfer`"
   ]
  },
  {
   "cell_type": "code",
   "execution_count": 8,
   "id": "a5ccbfdf",
   "metadata": {},
   "outputs": [
    {
     "data": {
      "text/html": [
       "<iframe srcdoc=\"&lt;html&gt;\n",
       "    &lt;body&gt;\n",
       "        &lt;script src=&quot;https://unpkg.com/wavesurfer.js/dist/wavesurfer.js&quot;&gt;&lt;/script&gt;\n",
       "        &lt;div id=&quot;wavesurfer&quot;&gt;\n",
       "            &lt;div id=&quot;waveform&quot;&gt;&lt;/div&gt;\n",
       "            &lt;div class=&quot;controls&quot;&gt;\n",
       "                &lt;button class=&quot;btn btn-primary&quot; data-action=&quot;play&quot;&gt;\n",
       "                    &lt;i class=&quot;glyphicon glyphicon-play&quot;&gt;&lt;/i&gt;\n",
       "                    Play\n",
       "                    /\n",
       "                    &lt;i class=&quot;glyphicon glyphicon-pause&quot;&gt;&lt;/i&gt;\n",
       "                    Pause\n",
       "                &lt;/button&gt;\n",
       "            &lt;/div&gt;\n",
       "        &lt;/div&gt;\n",
       "        &lt;script&gt;\n",
       "            var GLOBAL_ACTIONS = { // eslint-disable-line\n",
       "                play: function() {\n",
       "                    window.wavesurfer.playPause();\n",
       "                },\n",
       " \n",
       "                back: function() {\n",
       "                    window.wavesurfer.skipBackward();\n",
       "                },\n",
       " \n",
       "                forth: function() {\n",
       "                    window.wavesurfer.skipForward();\n",
       "                },\n",
       " \n",
       "                &#x27;toggle-mute&#x27;: function() {\n",
       "                    window.wavesurfer.toggleMute();\n",
       "                }\n",
       "            };\n",
       " \n",
       "            // Bind actions to buttons and keypresses\n",
       "            document.addEventListener(&#x27;DOMContentLoaded&#x27;, function() {\n",
       "                document.addEventListener(&#x27;keydown&#x27;, function(e) {\n",
       "                    let map = {\n",
       "                        32: &#x27;play&#x27;, // space\n",
       "                        37: &#x27;back&#x27;, // left\n",
       "                        39: &#x27;forth&#x27; // right\n",
       "                    };\n",
       "                    let action = map[e.keyCode];\n",
       "                    if (action in GLOBAL_ACTIONS) {\n",
       "                        if (document == e.target || document.body == e.target || e.target.attributes[&quot;data-action&quot;]) {\n",
       "                            e.preventDefault();\n",
       "                        }\n",
       "                        GLOBAL_ACTIONS[action](e);\n",
       "                    }\n",
       "                });\n",
       " \n",
       "                [].forEach.call(document.querySelectorAll(&#x27;[data-action]&#x27;), function(el) {\n",
       "                    el.addEventListener(&#x27;click&#x27;, function(e) {\n",
       "                        let action = e.currentTarget.dataset.action;\n",
       "                        if (action in GLOBAL_ACTIONS) {\n",
       "                            e.preventDefault();\n",
       "                            GLOBAL_ACTIONS[action](e);\n",
       "                        }\n",
       "                    });\n",
       "                });\n",
       "            });\n",
       "        &lt;/script&gt;\n",
       " \n",
       "        &lt;script&gt;\n",
       "            var wavesurfer = WaveSurfer.create({\n",
       "                container: &#x27;#waveform&#x27;,\n",
       "                waveColor: &#x27;violet&#x27;,\n",
       "                backend: &#x27;MediaElement&#x27;,\n",
       "                progressColor: &#x27;purple&#x27;\n",
       "            });\n",
       "        &lt;/script&gt;\n",
       "        &lt;script&gt;\n",
       "            wavesurfer.load(&quot;https://ia902606.us.archive.org/35/items/shortpoetry_047_librivox/song_cjrg_teasdale_64kb.mp3&quot;);\n",
       "        &lt;/script&gt;\n",
       "    &lt;/body&gt;\n",
       "&lt;/html&gt;\n",
       "\" width=\"100%\" height=\"200\"style=\"border:none !important;\" \"allowfullscreen\" \"webkitallowfullscreen\" \"mozallowfullscreen\"></iframe>"
      ],
      "text/plain": [
       "<nb_js_diagrammers.magics.JSDiagram at 0x1051e2280>"
      ]
     },
     "execution_count": 8,
     "metadata": {},
     "output_type": "execute_result"
    }
   ],
   "source": [
    "%wavesurfer_magic -o wavesurfer.html -f https://ia902606.us.archive.org/35/items/shortpoetry_047_librivox/song_cjrg_teasdale_64kb.mp3"
   ]
  },
  {
   "cell_type": "markdown",
   "id": "51bc09ca",
   "metadata": {},
   "source": [
    "## Flow Charts\n",
    "\n",
    "As well as flow charts generated using `mermaid.js` we can also use the `flowchart.js` package.\n",
    "\n",
    "In an interactive notebook, we can simply use the `%%flowchart_magic` block magic to render a flowchart from a flowchart definition."
   ]
  },
  {
   "cell_type": "markdown",
   "id": "6d3def5f",
   "metadata": {},
   "source": [
    "```{note}\n",
    "For an earlier attempt at embedding `flowchart.js` diagrams in notebooks as an `ipywidget`, see [`flowchart_js_jp_proxy_widget`](https://github.com/innovationOUtside/flowchart_js_jp_proxy_widget).\n",
    "```"
   ]
  },
  {
   "cell_type": "code",
   "execution_count": 9,
   "id": "d493902c",
   "metadata": {},
   "outputs": [
    {
     "data": {
      "text/html": [
       "<iframe srcdoc=\"&lt;!DOCTYPE html&gt;\n",
       "&lt;html&gt;\n",
       "    &lt;head&gt;\n",
       "        &lt;meta charset=&quot;UTF-8&quot;&gt;\n",
       "        &lt;title&gt;Flowchart.js&lt;/title&gt;\n",
       "        &lt;script type=&quot;text/javascript&quot; src=&quot;https://cdnjs.cloudflare.com/ajax/libs/raphael/2.3.0/raphael.min.js&quot;&gt;&lt;/script&gt;\n",
       "        &lt;script type=&quot;text/javascript&quot; src=&quot;https://cdnjs.cloudflare.com/ajax/libs/flowchart/1.14.1/flowchart.js&quot;&gt;&lt;/script&gt;\n",
       "        &lt;/head&gt;\n",
       "        &lt;body&gt;\n",
       "         \n",
       "        &lt;div id=&quot;diagram&quot;&gt;&lt;/div&gt;\n",
       "&lt;script&gt;\n",
       "  var diagram = flowchart.parse(`\n",
       "st=&gt;start: Start\n",
       "e=&gt;end: End\n",
       "op1=&gt;operation: Generate\n",
       "op2=&gt;parallel: Evaluate\n",
       "st(right)-&gt;op1(right)-&gt;op2\n",
       "op2(path1, top)-&gt;op1\n",
       "op2(path2, right)-&gt;e\n",
       "`);\n",
       "  diagram.drawSVG(&#x27;diagram&#x27;);\n",
       "&lt;/script&gt;\n",
       " \n",
       "        &lt;/body&gt;\n",
       "&lt;/html&gt;\n",
       "\" width=\"100%\" height=\"100\"style=\"border:none !important;\" \"allowfullscreen\" \"webkitallowfullscreen\" \"mozallowfullscreen\"></iframe>"
      ],
      "text/plain": [
       "<nb_js_diagrammers.magics.JSDiagram at 0x1051e2d60>"
      ]
     },
     "execution_count": 9,
     "metadata": {},
     "output_type": "execute_result"
    }
   ],
   "source": [
    "%%flowchart_magic -h 100 -o flowchart.html\n",
    "\n",
    "st=>start: Start\n",
    "e=>end: End\n",
    "op1=>operation: Generate\n",
    "op2=>parallel: Evaluate\n",
    "st(right)->op1(right)->op2\n",
    "op2(path1, top)->op1\n",
    "op2(path2, right)->e"
   ]
  },
  {
   "cell_type": "markdown",
   "id": "1a29af1f",
   "metadata": {},
   "source": [
    "It is also possible to generate a flowchart based on the contents of a code cell (in an interactive notebook, we can do this directly using the `%%pyflowchart_magic` block magic):"
   ]
  },
  {
   "cell_type": "code",
   "execution_count": 10,
   "id": "dec246c0",
   "metadata": {},
   "outputs": [
    {
     "data": {
      "text/html": [
       "<iframe srcdoc=\"&lt;!DOCTYPE html&gt;\n",
       "&lt;html&gt;\n",
       "    &lt;head&gt;\n",
       "        &lt;meta charset=&quot;UTF-8&quot;&gt;\n",
       "        &lt;title&gt;Flowchart.js&lt;/title&gt;\n",
       "        &lt;script type=&quot;text/javascript&quot; src=&quot;https://cdnjs.cloudflare.com/ajax/libs/raphael/2.3.0/raphael.min.js&quot;&gt;&lt;/script&gt;\n",
       "        &lt;script type=&quot;text/javascript&quot; src=&quot;https://cdnjs.cloudflare.com/ajax/libs/flowchart/1.14.1/flowchart.js&quot;&gt;&lt;/script&gt;\n",
       "        &lt;/head&gt;\n",
       "        &lt;body&gt;\n",
       "         \n",
       "        &lt;div id=&quot;diagram&quot;&gt;&lt;/div&gt;\n",
       "&lt;script&gt;\n",
       "  var diagram = flowchart.parse(`op4380828384=&gt;operation: import time\n",
       "st4380830832=&gt;start: start demo\n",
       "io4397968736=&gt;inputoutput: input: msg\n",
       "cond4397965952=&gt;condition: for i in range(10)\n",
       "sub4397968400=&gt;subroutine: print(f&#x27;{msg} loopcount is {i}&#x27;)\n",
       "sub4397968352=&gt;subroutine: time.sleep(i)\n",
       "e4397968688=&gt;end: end demo\n",
       "\n",
       "op4380828384-&gt;st4380830832\n",
       "st4380830832-&gt;io4397968736\n",
       "io4397968736-&gt;cond4397965952\n",
       "cond4397965952(yes)-&gt;sub4397968400\n",
       "sub4397968400-&gt;sub4397968352\n",
       "sub4397968352(left)-&gt;cond4397965952\n",
       "cond4397965952(no)-&gt;e4397968688\n",
       "`);\n",
       "  diagram.drawSVG(&#x27;diagram&#x27;);\n",
       "&lt;/script&gt;\n",
       " \n",
       "        &lt;/body&gt;\n",
       "&lt;/html&gt;\n",
       "\" width=\"100%\" height=\"800\"style=\"border:none !important;\" \"allowfullscreen\" \"webkitallowfullscreen\" \"mozallowfullscreen\"></iframe>"
      ],
      "text/plain": [
       "<nb_js_diagrammers.magics.JSDiagram at 0x10623a1c0>"
      ]
     },
     "execution_count": 10,
     "metadata": {},
     "output_type": "execute_result"
    }
   ],
   "source": [
    "%%pyflowchart_magic -h 800 -o pyflowchart.html -x\n",
    "import time\n",
    "\n",
    "def demo(msg='demo'):\n",
    "    for i in range(10):\n",
    "        print(f'{msg} loopcount is {i}')\n",
    "        time.sleep(i)"
   ]
  },
  {
   "cell_type": "markdown",
   "id": "ff427ddb",
   "metadata": {},
   "source": [
    "The `-x / --execute` flag executes the code in the current notebook scope. *Without the flag, the code is not executed.*\n",
    "\n",
    "Another, lett friendly approach, is to have a normal code cell:"
   ]
  },
  {
   "cell_type": "code",
   "execution_count": 11,
   "id": "2f73ebd9",
   "metadata": {},
   "outputs": [],
   "source": [
    "import time\n",
    "\n",
    "def demo(msg='demo'):\n",
    "    for i in range(10):\n",
    "        print(f'{msg} loopcount is {i}')\n",
    "        time.sleep(i)"
   ]
  },
  {
   "cell_type": "markdown",
   "id": "d48faeab",
   "metadata": {},
   "source": [
    "And then capture the code from this code cell and render it."
   ]
  },
  {
   "cell_type": "code",
   "execution_count": 12,
   "id": "a7a096e2",
   "metadata": {
    "tags": [
     "hide-input"
    ]
   },
   "outputs": [],
   "source": [
    "%%capture code\n",
    "# This gets the content of the previous cell\n",
    "# and stores it in the variable: code\n",
    "%history -l 1"
   ]
  },
  {
   "cell_type": "code",
   "execution_count": 13,
   "id": "38a0aa8b",
   "metadata": {
    "tags": [
     "hide-input"
    ]
   },
   "outputs": [
    {
     "data": {
      "text/html": [
       "\n",
       "        <iframe\n",
       "            width=\"100%\"\n",
       "            height=\"800\"\n",
       "            src=\"pyflowchart_grab.html\"\n",
       "            frameborder=\"0\"\n",
       "            allowfullscreen\n",
       "            \n",
       "        ></iframe>\n",
       "        "
      ],
      "text/plain": [
       "<IPython.lib.display.IFrame at 0x1051e2190>"
      ]
     },
     "execution_count": 13,
     "metadata": {},
     "output_type": "execute_result"
    }
   ],
   "source": [
    "from pyflowchart import Flowchart\n",
    "\n",
    "from nb_js_diagrammers.flowchartjs import TEMPLATE_FLOWCHARTJS\n",
    "from nb_js_diagrammers.magics import js_ui\n",
    "\n",
    "# Generate a flowchart from the grabbed code\n",
    "fc = Flowchart.from_code(code.stdout)\n",
    "\n",
    "# Render the flowchart\n",
    "js_ui({\"src\":fc.flowchart()}, TEMPLATE_FLOWCHARTJS,\n",
    "      out_fn='pyflowchart_grab.html', height=800)"
   ]
  }
 ],
 "metadata": {
  "celltoolbar": "Tags",
  "kernelspec": {
   "display_name": "Python 3",
   "language": "python",
   "name": "python3"
  },
  "language_info": {
   "codemirror_mode": {
    "name": "ipython",
    "version": 3
   },
   "file_extension": ".py",
   "mimetype": "text/x-python",
   "name": "python",
   "nbconvert_exporter": "python",
   "pygments_lexer": "ipython3",
   "version": "3.9.7"
  }
 },
 "nbformat": 4,
 "nbformat_minor": 5
}
