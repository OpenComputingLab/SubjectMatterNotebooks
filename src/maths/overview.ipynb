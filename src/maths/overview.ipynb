{
 "cells": [
  {
   "cell_type": "markdown",
   "id": "limiting-question",
   "metadata": {},
   "source": [
    "# Maths Overview\n",
    "\n",
    "Trivially, notebooks provide us with a simple editing environment for combining markdown text, simple inline LaTeX and LateX blocks, and code cells prefixed with the `%%latex` block cell magic.\n",
    "\n",
    "This also us to notebooks a medium for creating content blends narrative text with mathematical notation.\n",
    "\n",
    "```{note}\n",
    "Within a notebook user interface, native support for LaTeX inline in markdown cells is limited to that subset of LaTeX that can be parsed by the MathJax parser.\n",
    "\n",
    "LaTeX parsing magics and code output transclusion can be used to provide access to a full featured LaTeX parser.\n",
    "```\n",
    "\n",
    "In addition, code cells allow us to perform mathematical computations and generate graphical outputs.\n",
    "\n",
    "In a complete one piece generative document flow publishing system where we guarantee the correctness of calculations and formal arguments, as wel as the correctness of output graphics in relation to the body of the content, we ideally need to find a way to relate the (symobolic) mathematical content to the code that is executed.\n",
    "\n",
    "Using a symbolic maths package such as `sympy`, we can create symbolic computational expressions that can be used to calculate (compute) expressions at a symbolic level as well as rendering those expressions in mathematical form using LaTeX (Mathjax). For rendering integrated one piece content in Jupyter book, the Python `myst_nb.glue()` provides a means for inline code outputs, but this requires a Python kernel. For bookdown workflows, outputs from all supported languages can be inlined [ *TO DO — CHECK* ].\n",
    "\n",
    "If tight integration with the text is not required, or if markdown output can be generated from code, computation using a wide range of other languages can is enabled by installing the appropriate Jupyter kernel ([curated list of Jupyter kernels](https://github.com/jupyter/jupyter/wiki/Jupyter-kernels)). For example, several kernels are available that are particularly suited to a range of mathematics related activities such as statistical computing, symbolic maths and numerical computation. For example:\n",
    "\n",
    "- [`R`](https://irkernel.github.io/) statistical computing and graphics;\n",
    "- [`Stata`](https://github.com/TiesdeKok/ipystata) statistical computing;\n",
    "- [`SageMath`](https://doc.sagemath.org/html/en/installation/launching.html#setting-up-sagemath-as-a-jupyter-kernel-in-an-existing-jupyter-notebook-or-jupyterlab-installation) computer algebra system;\n",
    "- [`Maxima`](https://github.com/robert-dodier/maxima-jupyter) computer algebra system;\n",
    "- [`Octave`](https://github.com/Calysto/octave_kernel) numerical computation;\n",
    "- [`SciLab`](https://github.com/calysto/scilab_kernel) numerical computation;\n",
    "- [*Matlab*](https://github.com/calysto/matlab_kernel) mathematical computing;\n",
    "- [*Wolfram Language*](https://github.com/WolframResearch/WolframLanguageForJupyter) mathematical computing;\n",
    "- [`Gnuplot`](https://github.com/has2k1/gnuplot_kernel) charts.\n"
   ]
  },
  {
   "cell_type": "markdown",
   "id": "basic-consensus",
   "metadata": {},
   "source": [
    "```{note}\n",
    "We can also write markdown in a code cell by converting to the code cell to a *de facto* markdown cell using the `%%markdown` block magic.\n",
    "```"
   ]
  },
  {
   "cell_type": "markdown",
   "id": "exposed-quality",
   "metadata": {},
   "source": [
    "## Rendering equations Using MathJax\n",
    "Equations can be rendered as a block using MathJax in a markdown cell.\n",
    "\n",
    "$$\n",
    "\\begin{align}\n",
    "\\sqrt{3x-1}+(1+x^2)\n",
    "\\end{align}\n",
    "$$\n",
    "\n",
    "See this third party [Typesetting Equations](https://nbviewer.jupyter.org/github/ipython/ipython/blob/4.0.x/examples/Notebook/Typesetting%20Equations.ipynb) demonstration notebook for further examples.\n",
    "\n",
    "MathJax content can also be rendered inline. For example, we can include the expression  $\\sqrt{3x-1}+(1+x^2)$ embedded *within* a line of text."
   ]
  },
  {
   "cell_type": "markdown",
   "id": "52864104",
   "metadata": {},
   "source": [
    "## Rendering equations from `sympy`\n",
    "\n",
    "Guaranteeing the truth of a derived mathematical expression is often difficult if multiple steps of working are required and is further complicated particulalry if the expression is a complicated one.\n",
    "\n",
    "Using a symbolic maths package such as `sympy` allows derived expressions to be generated automatically and then embedded into book output.\n",
    "\n",
    "*The following example is taken from [\"Technical writing: using math\", Nicolás Guarín-Zapata](https://nicoguaro.github.io/posts/tech_writing_math/).*\n",
    "\n",
    "Given the expression:"
   ]
  },
  {
   "cell_type": "code",
   "execution_count": null,
   "id": "3fa74951",
   "metadata": {
    "tags": [
     "hide-input"
    ]
   },
   "outputs": [],
   "source": [
    "from sympy import symbols, exp, sin\n",
    "\n",
    "x = symbols(\"x\")\n",
    "\n",
    "f = exp(-x**2)*sin(3*x)\n",
    "f"
   ]
  },
  {
   "cell_type": "markdown",
   "id": "45c7919f",
   "metadata": {},
   "source": [
    "we can find its second derivative as:"
   ]
  },
  {
   "cell_type": "code",
   "execution_count": null,
   "id": "592a46a8",
   "metadata": {
    "tags": [
     "hide-input"
    ]
   },
   "outputs": [],
   "source": [
    "from sympy import diff\n",
    "\n",
    "fxx = diff(f, x, 2)\n",
    "fxx"
   ]
  },
  {
   "cell_type": "markdown",
   "id": "b2fdfa92",
   "metadata": {},
   "source": [
    "Since the second derivative is calculated, and the equation is then rendered to a *LaTeX* form automatically, we know that the expression is correct (although it may not be in the form we require)."
   ]
  },
  {
   "cell_type": "markdown",
   "id": "1143a552",
   "metadata": {},
   "source": [
    "### Rendering Matrices\n",
    "\n",
    "If we have a `numpy` array, we can render it as a LaTeX styled matrix using a Python package such as `numpyarray_to_latex`.\n",
    "\n",
    "For example, here's a random 4 x 5 array with round brackets (the default, although other bracket styles are customisable):"
   ]
  },
  {
   "cell_type": "code",
   "execution_count": 2,
   "id": "96140065",
   "metadata": {
    "scrolled": true,
    "tags": [
     "hide-input"
    ]
   },
   "outputs": [
    {
     "data": {
      "text/latex": [
       "$\\displaystyle \\left(\n",
       "\\begin{array}{}\n",
       "    0.98 &  -0.76 &  -0.82 &    1.12 &    0.12\\\\\n",
       "  -1.26 &  -1.71 &  -1.67 &    0.49 &    1.22\\\\\n",
       "  -1.04 &    0.17 &    0.18 &  -0.59 &    1.21\\\\\n",
       "    0.05 &    0.27 &    1.85 &  -1.15 &    0.17\n",
       "\\end{array}\n",
       "\\right)$"
      ],
      "text/plain": [
       "<IPython.core.display.Math object>"
      ]
     },
     "metadata": {},
     "output_type": "display_data"
    }
   ],
   "source": [
    "#https://github.com/benmaier/numpyarray_to_latex\n",
    "#%pip install --upgrade numpyarray_to_latex\n",
    "import numpy as np\n",
    "from numpyarray_to_latex.jupyter import to_jup\n",
    "\n",
    "array = np.random.randn(4,5)\n",
    "\n",
    "to_jup(array)"
   ]
  },
  {
   "cell_type": "markdown",
   "id": "9639f6b7",
   "metadata": {},
   "source": [
    "We can access the raw LaTeX if required:"
   ]
  },
  {
   "cell_type": "code",
   "execution_count": 3,
   "id": "89c11774",
   "metadata": {
    "tags": [
     "hide-input"
    ]
   },
   "outputs": [
    {
     "name": "stdout",
     "output_type": "stream",
     "text": [
      "\\left(\n",
      "\\begin{array}{}\n",
      "  0.9752 & -0.7629 & -0.8192 &  1.1152 &  0.1160\\\\\n",
      " -1.2629 & -1.7068 & -1.6683 &  0.4853 &  1.2185\\\\\n",
      " -1.0446 &  0.1705 &  0.1847 & -0.5852 &  1.2059\\\\\n",
      "  0.0474 &  0.2737 &  1.8477 & -1.1480 &  0.1711\n",
      "\\end{array}\n",
      "\\right)\n"
     ]
    }
   ],
   "source": [
    "from numpyarray_to_latex import to_ltx\n",
    "\n",
    "latex_txt = to_ltx(array)\n",
    "print(latex_txt)"
   ]
  },
  {
   "cell_type": "markdown",
   "id": "94f48d41",
   "metadata": {},
   "source": [
    "Matrices can also be rendered via `sympy` (using square brackets), as can the results of matrix calculations. For example, let's cast the above array as a `sympy.Matrix` and add it to itself:"
   ]
  },
  {
   "cell_type": "code",
   "execution_count": 5,
   "id": "a5a7dee6",
   "metadata": {},
   "outputs": [
    {
     "data": {
      "text/latex": [
       "$\\displaystyle \\left[\\begin{matrix}1.95031844930636 & -1.52573498570827 & -1.63848094559338 & 2.23036030020092 & 0.232069228555355\\\\-2.52584160621578 & -3.41356387618327 & -3.33667226592755 & 0.970506979299136 & 2.43708864310567\\\\-2.08929947857012 & 0.340943496173498 & 0.369321669583589 & -1.17043961672008 & 2.41184728145124\\\\0.0947048905289055 & 0.547414340249613 & 3.69542839395078 & -2.29598669946454 & 0.342193659945731\\end{matrix}\\right]$"
      ],
      "text/plain": [
       "Matrix([\n",
       "[  1.95031844930636, -1.52573498570827, -1.63848094559338,  2.23036030020092, 0.232069228555355],\n",
       "[ -2.52584160621578, -3.41356387618327, -3.33667226592755, 0.970506979299136,  2.43708864310567],\n",
       "[ -2.08929947857012, 0.340943496173498, 0.369321669583589, -1.17043961672008,  2.41184728145124],\n",
       "[0.0947048905289055, 0.547414340249613,  3.69542839395078, -2.29598669946454, 0.342193659945731]])"
      ]
     },
     "execution_count": 5,
     "metadata": {},
     "output_type": "execute_result"
    }
   ],
   "source": [
    "from sympy import Matrix\n",
    "\n",
    "Matrix(array) + Matrix(array)"
   ]
  },
  {
   "cell_type": "markdown",
   "id": "agreed-destruction",
   "metadata": {},
   "source": [
    "## Embedding LaTex / TikZ Graphical Outputs\n",
    "\n",
    "We can use the [`ipython_magic_tikz`](https://github.com/innovationOUtside/ipython_magic_tikz) magic to provide access to a TikZ/LaTeX parser to allow us to generate diagrams from [TikZ](https://www.overleaf.com/learn/latex/TikZ_package)) scripts."
   ]
  },
  {
   "cell_type": "code",
   "execution_count": null,
   "id": "subtle-mobility",
   "metadata": {},
   "outputs": [],
   "source": [
    "#%pip install git+https://github.com/innovationOUtside/ipython_magic_tikz.git\n",
    "%load_ext tikz_magic"
   ]
  },
  {
   "cell_type": "code",
   "execution_count": null,
   "id": "coordinated-current",
   "metadata": {
    "tags": [
     "hide-input"
    ]
   },
   "outputs": [],
   "source": [
    "%%tikz\n",
    "\\usetikzlibrary{shapes.geometric, calc}\n",
    "\\def\\numsides{7} % regular polygon sides\n",
    "\\node (a) \n",
    "[draw,  blue!0!black,rotate=90,minimum size=3cm,regular polygon, regular polygon sides=\\numsides] at (0, 0) {}; \n",
    "\n",
    "\\foreach \\x in {1,2,...,\\numsides}\n",
    "  \\fill (a.corner \\x) circle[radius=.5pt];\n",
    "\n",
    "\\foreach \\x in {1,2,...,\\numsides}{\n",
    "  \\draw [red,dashed, shorten <=-0.5cm,shorten >=-0.5cm](a.center) -- (a.side \\x);\n",
    "  \\draw [red,dashed, shorten <=-0.5cm,shorten >=-0.5cm](a.center) -- (a.corner \\x);}"
   ]
  }
 ],
 "metadata": {
  "celltoolbar": "Tags",
  "kernelspec": {
   "display_name": "Python 3",
   "language": "python",
   "name": "python3"
  },
  "language_info": {
   "codemirror_mode": {
    "name": "ipython",
    "version": 3
   },
   "file_extension": ".py",
   "mimetype": "text/x-python",
   "name": "python",
   "nbconvert_exporter": "python",
   "pygments_lexer": "ipython3",
   "version": "3.9.7"
  }
 },
 "nbformat": 4,
 "nbformat_minor": 5
}
