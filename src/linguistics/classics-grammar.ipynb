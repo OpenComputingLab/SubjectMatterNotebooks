{
 "cells": [
  {
   "cell_type": "markdown",
   "id": "preliminary-deployment",
   "metadata": {},
   "source": [
    "# Classical Languages — Grammar\n",
    "\n",
    "When discussing and analysing texts in terms of grammar, a one piece generative document workflow provides us with a means for reducing the number of errors in terms of incorrectly presented matters of fact (for example, the analysis of a specific piece of text).\n",
    "\n",
    "For example, inflection patterns of arbitrary regular verbs and nouns can be generated directly for a particular root word (lemma), or when analysing the syllabic structure of a piece of text.\n",
    "\n",
    "Where the means of production are shared with learners, the ability to check declensions and conjugations for arbitrary words, or analyse a text for its syllabic structure, provides an opportunity to support curiosty driven, self-directed learning.\n",
    "\n",
    "To provide a few examples of what's possible, let's use the `cltk` package and explore some simple Latin texts."
   ]
  },
  {
   "cell_type": "code",
   "execution_count": 1,
   "id": "exciting-constant",
   "metadata": {},
   "outputs": [],
   "source": [
    "from cltk.data.fetch import FetchCorpus\n",
    "corpus_downloader = FetchCorpus('lat')\n",
    "path = '/Users/tonyhirst/cltk_data/lat/text/lat_text_latin_library'\n",
    "\n",
    "corpus_downloader.import_corpus('lat_models_cltk')"
   ]
  },
  {
   "cell_type": "markdown",
   "id": "behavioral-constitutional",
   "metadata": {},
   "source": [
    "## Inflection Patterns \n",
    "\n",
    "We can automatically generate the inflection (declension / conjugation) for a given word / lemma.\n",
    "\n",
    "*(Lemma - \"the canonical form of an inflected word\".)*"
   ]
  },
  {
   "cell_type": "markdown",
   "id": "industrial-fisher",
   "metadata": {},
   "source": [
    "The morphological character of a word is encoded using a nine character code string (- is used as the null character):\n",
    "\n",
    " \t1: \tpart of speech\n",
    " \t\tn\tnoun\n",
    " \t\tv\tverb\n",
    " \t\tt\tparticiple\n",
    " \t\ta\tadjective\n",
    " \t\td\tadverb\n",
    " \t\tc\tconjunction\n",
    " \t\tr\tpreposition\n",
    " \t\tp\tpronoun\n",
    " \t\tm\tnumeral\n",
    " \t\ti\tinterjection\n",
    " \t\te\texclamation\n",
    " \t\tu\tpunctuation\n",
    " \t2: \tperson\n",
    " \t\t1\tfirst person\n",
    " \t\t2\tsecond person\n",
    " \t\t3\tthird person\n",
    " \t3: \tnumber\n",
    " \t\ts\tsingular\n",
    " \t\tp\tplural\n",
    " \t4: \ttense\n",
    " \t\tp\tpresent\n",
    " \t\ti\timperfect\n",
    " \t\tr\tperfect\n",
    " \t\tl\tpluperfect\n",
    " \t\tt\tfuture perfect\n",
    " \t\tf\tfuture\n",
    " \t5: \tmood\n",
    " \t\ti\tindicative\n",
    " \t\ts\tsubjunctive\n",
    " \t\tn\tinfinitive\n",
    " \t\tm\timperative\n",
    " \t\tp\tparticiple\n",
    " \t\td\tgerund\n",
    " \t\tg\tgerundive\n",
    " \t\tu\tsupine\n",
    " \t6: \tvoice\n",
    " \t\ta\tactive\n",
    " \t\tp\tpassive\n",
    " \t7:\tgender\n",
    " \t\tm\tmasculine\n",
    " \t\tf\tfeminine\n",
    " \t\tn\tneuter\n",
    " \t8: \tcase\n",
    " \t\tn\tnominative\n",
    " \t\tg\tgenitive\n",
    " \t\td\tdative\n",
    " \t\ta\taccusative\n",
    " \t\tb\tablative\n",
    " \t\tv\tvocative\n",
    " \t\tl\tlocative\n",
    " \t9: \tdegree\n",
    " \t\tc\tcomparative\n",
    " \t\ts\tsuperlative\n",
    " \n",
    "Via: https://github.com/cltk/latin_treebank_perseus#readme"
   ]
  },
  {
   "cell_type": "markdown",
   "id": "colored-flight",
   "metadata": {},
   "source": [
    "Consider *amo*. How does it go?"
   ]
  },
  {
   "cell_type": "code",
   "execution_count": 2,
   "id": "czech-thought",
   "metadata": {},
   "outputs": [
    {
     "data": {
      "text/plain": [
       "[('amo', 'v1spia---'),\n",
       " ('amas', 'v2spia---'),\n",
       " ('amat', 'v3spia---'),\n",
       " ('amamus', 'v1ppia---'),\n",
       " ('amatis', 'v2ppia---'),\n",
       " ('amant', 'v3ppia---'),\n",
       " ('amabam', 'v1siia---'),\n",
       " ('amabas', 'v2siia---'),\n",
       " ('amabat', 'v3siia---'),\n",
       " ('amabamus', 'v1piia---'),\n",
       " ('amabatis', 'v2piia---'),\n",
       " ('amabant', 'v3piia---'),\n",
       " ('amabo', 'v1sfia---'),\n",
       " ('amabis', 'v2sfia---'),\n",
       " ('amabit', 'v3sfia---'),\n",
       " ('amabimus', 'v1pfia---'),\n",
       " ('amabitis', 'v2pfia---'),\n",
       " ('amabunt', 'v3pfia---'),\n",
       " ('amavi', 'v1sria---'),\n",
       " ('amavisti', 'v2sria---')]"
      ]
     },
     "execution_count": 2,
     "metadata": {},
     "output_type": "execute_result"
    }
   ],
   "source": [
    "from cltk.morphology.lat import CollatinusDecliner\n",
    "decliner = CollatinusDecliner()\n",
    "\n",
    "decliner.decline(\"amo\")[:20]"
   ]
  },
  {
   "cell_type": "markdown",
   "id": "statewide-genome",
   "metadata": {},
   "source": [
    "Or how anout *canis*?"
   ]
  },
  {
   "cell_type": "code",
   "execution_count": 3,
   "id": "institutional-shooting",
   "metadata": {},
   "outputs": [
    {
     "data": {
      "text/plain": [
       "[('canis', '--s----n-'),\n",
       " ('canis', '--s----v-'),\n",
       " ('canem', '--s----a-'),\n",
       " ('canis', '--s----g-'),\n",
       " ('cani', '--s----d-'),\n",
       " ('cane', '--s----b-'),\n",
       " ('canes', '--p----n-'),\n",
       " ('canes', '--p----v-'),\n",
       " ('canes', '--p----a-'),\n",
       " ('canum', '--p----g-'),\n",
       " ('canibus', '--p----d-'),\n",
       " ('canibus', '--p----b-')]"
      ]
     },
     "execution_count": 3,
     "metadata": {},
     "output_type": "execute_result"
    }
   ],
   "source": [
    "decliner.decline(\"canis\")"
   ]
  },
  {
   "cell_type": "markdown",
   "id": "catholic-input",
   "metadata": {},
   "source": [
    "We can decode the strings to more easily describe the morphological character of a word."
   ]
  },
  {
   "cell_type": "code",
   "execution_count": 4,
   "id": "spectacular-karma",
   "metadata": {
    "tags": [
     "hide-cell"
    ]
   },
   "outputs": [],
   "source": [
    "#Taken from https://github.com/alpheios-project/pyperseus-treebank/blob/master/pyperseus_treebank/latin.py#L44#\n",
    "#Maybe use https://github.com/jazzband/inflect for natural language code2text description?\n",
    "import re\n",
    "\n",
    "# Conversion table for CONLL\n",
    "# Thanks to @epageperron\n",
    "#??Some divergence from README?\n",
    "_CONLL_LA_CONV_DICT = { \"a\": \"adjective\", \"c\": \"conjunction\",\n",
    "                        \"d\": \"adverb\", \"e\": \"exclamation\", \"g\": \"PART\",\n",
    "                        \"i\": \"interjection\", \"l\": \"DET\",\n",
    "                        \"m\": \"numeral\", \"n\": \"noun\",\"p\": \"pronoun\",\n",
    "                        \"r\": \"preposition\", \"t\": \"VERB\", \"u\": \"punctuation\",\n",
    "                        \"v\": \"verb\", \"x\": \"X\" }\n",
    "\n",
    "_NUMBER = {\"s\": \"singular\", \"p\": \"plural\"}\n",
    "_TENSE = {\"p\": \"present\", \"f\": \"future\", \"r\": \"perfect\", \"l\": \"pluperfect\",\n",
    "          \"i\": \"imperfect\", \"t\": \"future perfect\"}\n",
    "_MOOD = {\"i\": \"indicative\", \"s\": \"subjunctive\", \"m\": \"imperative\", 'd':'gerund',\n",
    "         \"g\": \"gerundive\", \"p\": \"participle\", \"u\": \"supine\", \"n\": \"infinitive\"}\n",
    "_VOICE = {\"a\": \"active\", \"p\": \"passive\", \"d\": \"Dep\"}\n",
    "_GENDER = {\"f\": \"feminine\", \"m\": \"masculine\", \"n\": \"neuter\", \"c\": \"Com\"}\n",
    "_CASE = {\"g\": \"genitive\", \"d\": \"dative\", \"a\": \"accusative\", \"v\": \"vocative\",\n",
    "         \"n\": \"nominative\", \"b\": \"ablative\", \"i\": \"Ins\", \"l\": \"locative\"}\n",
    "_DEGREE = {\"p\": \"Pos\", \"c\": \"comparative\", \"s\": \"superlative\"}\n",
    "\n",
    "_PERSON = {\"1\":'first person', \"2\":'second person', \"3\":'third person'}\n",
    "\n",
    "NOTWORD = re.compile(\"^\\W+$\")\n",
    "\n",
    "_NULL_CHAR=\"-\"\n",
    "\n",
    "def parse_features(features):\n",
    "    \"\"\" Parse features from the POSTAG of Perseus Latin XML\n",
    "    .. example :: self.parse_features(\"n-p---na-\")\n",
    "    :param features: A string containing morphological information\n",
    "    :type features: str\n",
    "    :return: Parsed features\n",
    "    :rtype: dict\n",
    "    \"\"\"\n",
    "\n",
    "    if features is None or features.lower()=='unk':\n",
    "        return {}\n",
    "    \n",
    "    features = features.lower()\n",
    "    \n",
    "    feats = {}\n",
    "\n",
    "    feats['POS'] = _CONLL_LA_CONV_DICT[features[0]]\n",
    "\n",
    "    # Person handling : 3 possibilities\n",
    "    if features[1] != _NULL_CHAR:\n",
    "        feats[\"Person\"] = _PERSON[features[1]]\n",
    "\n",
    "    # Number handling : two possibilities\n",
    "    if features[2] != _NULL_CHAR:\n",
    "        feats[\"Number\"] = _NUMBER[features[2]]\n",
    "\n",
    "    # Tense\n",
    "    if features[3] != _NULL_CHAR:\n",
    "        feats[\"Tense\"] = _TENSE[features[3]]\n",
    "\n",
    "    # Mood\n",
    "    if features[4] != _NULL_CHAR:\n",
    "        feats[\"Mood\"] = _MOOD[features[4]]\n",
    "\n",
    "    # Voice\n",
    "    if features[5] != _NULL_CHAR:\n",
    "        feats[\"Voice\"] = _VOICE[features[5]]\n",
    "\n",
    "    # Tense\n",
    "    if features[6] != _NULL_CHAR:\n",
    "        feats[\"Gender\"] = _GENDER[features[6]]\n",
    "\n",
    "    # Tense\n",
    "    if features[7] != _NULL_CHAR:\n",
    "        feats[\"Case\"] = _CASE[features[7]]\n",
    "\n",
    "    # Degree\n",
    "    if features[8] != _NULL_CHAR:\n",
    "        feats[\"Degree\"] = _DEGREE[features[8]]\n",
    "\n",
    "    return feats"
   ]
  },
  {
   "cell_type": "markdown",
   "id": "living-function",
   "metadata": {},
   "source": [
    "For example, how should we interpret the following morphological data feature string?"
   ]
  },
  {
   "cell_type": "code",
   "execution_count": 5,
   "id": "employed-hazard",
   "metadata": {},
   "outputs": [
    {
     "data": {
      "text/plain": [
       "{'POS': 'verb',\n",
       " 'Person': 'third person',\n",
       " 'Number': 'plural',\n",
       " 'Tense': 'pluperfect',\n",
       " 'Mood': 'indicative',\n",
       " 'Voice': 'active'}"
      ]
     },
     "execution_count": 5,
     "metadata": {},
     "output_type": "execute_result"
    }
   ],
   "source": [
    "#Example\n",
    "parse_features('v3plia---')"
   ]
  },
  {
   "cell_type": "markdown",
   "id": "victorian-reply",
   "metadata": {},
   "source": [
    "Looking up words in the decliner provides a way of getting the morphological data for a word. For example, we could look up *amabitis* and get back something like `('amo', 'v2pfia---')`:"
   ]
  },
  {
   "cell_type": "code",
   "execution_count": 6,
   "id": "weird-going",
   "metadata": {
    "tags": [
     "hide-cell"
    ]
   },
   "outputs": [],
   "source": [
    "#hacky way that assumes you know the root\n",
    "def lookupInflection(word, lemma):\n",
    "    ''' Find the inflection of a given word, given its lemma. '''\n",
    "    result=[]\n",
    "    if lemma is None:\n",
    "        return result\n",
    "    \n",
    "    lemma = [lemma] if isinstance(lemma,str) else lemma\n",
    "    for l in lemma:\n",
    "        try:\n",
    "            words = decliner.decline(l)\n",
    "            result.append([(w,d) for w,d in words if w==word])\n",
    "        except:\n",
    "            result.append((l, None))\n",
    "    return result"
   ]
  },
  {
   "cell_type": "markdown",
   "id": "referenced-glasgow",
   "metadata": {},
   "source": [
    "If we know the root, we can lookup the inflection:"
   ]
  },
  {
   "cell_type": "code",
   "execution_count": 7,
   "id": "shared-microphone",
   "metadata": {},
   "outputs": [
    {
     "data": {
      "text/plain": [
       "[[('amabitis', 'v2pfia---')]]"
      ]
     },
     "execution_count": 7,
     "metadata": {},
     "output_type": "execute_result"
    }
   ],
   "source": [
    "lookupInflection('amabitis', 'amo')"
   ]
  },
  {
   "cell_type": "markdown",
   "id": "floppy-outreach",
   "metadata": {},
   "source": [
    "## Lemmatizing a Word\n",
    "\n",
    "Let's see if we can find the root of a word with a simple lemmatizer. The lemmatizer works with tokens, so we need a recipe for generating tokens out of words:"
   ]
  },
  {
   "cell_type": "code",
   "execution_count": 8,
   "id": "about-alignment",
   "metadata": {},
   "outputs": [
    {
     "data": {
      "text/plain": [
       "['amabitis']"
      ]
     },
     "execution_count": 8,
     "metadata": {},
     "output_type": "execute_result"
    }
   ],
   "source": [
    "from cltk.tokenizers.lat.lat import LatinWordTokenizer\n",
    "\n",
    "latin_word_tokenizer = LatinWordTokenizer()\n",
    "\n",
    "latin_word_tokenizer.tokenize('amabitis')"
   ]
  },
  {
   "cell_type": "markdown",
   "id": "pediatric-pleasure",
   "metadata": {},
   "source": [
    "If we create a lemmatizer:"
   ]
  },
  {
   "cell_type": "code",
   "execution_count": 9,
   "id": "complete-warehouse",
   "metadata": {},
   "outputs": [],
   "source": [
    "from cltk.lemmatize.lat import LatinBackoffLemmatizer\n",
    "\n",
    "latin_lemmatizer = LatinBackoffLemmatizer()"
   ]
  },
  {
   "cell_type": "markdown",
   "id": "dutch-powell",
   "metadata": {},
   "source": [
    "We can then see what it makes of *amabitis*:"
   ]
  },
  {
   "cell_type": "code",
   "execution_count": 10,
   "id": "bound-serbia",
   "metadata": {},
   "outputs": [
    {
     "data": {
      "text/plain": [
       "[('amabitis', 'amo')]"
      ]
     },
     "execution_count": 10,
     "metadata": {},
     "output_type": "execute_result"
    }
   ],
   "source": [
    "latin_lemmatizer.lemmatize(latin_word_tokenizer.tokenize('amabitis'))"
   ]
  },
  {
   "cell_type": "markdown",
   "id": "voluntary-blues",
   "metadata": {},
   "source": [
    "We can also lemmatize all the words in a sentence.\n",
    "\n",
    "As before, we need to tokenize the words we present to the lemmatizer, so let's convert our sentence to a list of separate (word) tokens:"
   ]
  },
  {
   "cell_type": "code",
   "execution_count": 11,
   "id": "reflected-planning",
   "metadata": {},
   "outputs": [
    {
     "data": {
      "text/plain": [
       "['progeniem', 'sed', 'enim', 'troiano', 'a', 'sanguine', 'duci', 'audierat']"
      ]
     },
     "execution_count": 11,
     "metadata": {},
     "output_type": "execute_result"
    }
   ],
   "source": [
    "sentence = 'Progeniem sed enim Troiano a sanguine duci audierat'\n",
    "\n",
    "sentence_tokens = latin_word_tokenizer.tokenize(sentence.lower())\n",
    "sentence_tokens"
   ]
  },
  {
   "cell_type": "markdown",
   "id": "boring-wesley",
   "metadata": {},
   "source": [
    "Then we can lemmatize those tokens:"
   ]
  },
  {
   "cell_type": "code",
   "execution_count": 12,
   "id": "delayed-timeline",
   "metadata": {},
   "outputs": [
    {
     "data": {
      "text/plain": [
       "[('progeniem', 'progenies'),\n",
       " ('sed', 'sed'),\n",
       " ('enim', 'enim'),\n",
       " ('troiano', 'troiano'),\n",
       " ('a', 'ab'),\n",
       " ('sanguine', 'sanguis'),\n",
       " ('duci', 'duco'),\n",
       " ('audierat', 'audio')]"
      ]
     },
     "execution_count": 12,
     "metadata": {},
     "output_type": "execute_result"
    }
   ],
   "source": [
    "latin_lemmatizer.lemmatize(sentence_tokens)"
   ]
  },
  {
   "cell_type": "markdown",
   "id": "discrete-disney",
   "metadata": {},
   "source": [
    "We can also lemmatize Roman numerals:"
   ]
  },
  {
   "cell_type": "code",
   "execution_count": 13,
   "id": "interim-demonstration",
   "metadata": {},
   "outputs": [
    {
     "data": {
      "text/plain": [
       "[('i', 'NUM'),\n",
       " ('ii', 'NUM'),\n",
       " ('iii', 'NUM'),\n",
       " ('iv', 'NUM'),\n",
       " ('v', 'NUM'),\n",
       " ('vi', 'NUM'),\n",
       " ('vii', 'NUM'),\n",
       " ('vii', 'NUM'),\n",
       " ('ix', 'NUM'),\n",
       " ('x', 'NUM'),\n",
       " ('xx', 'NUM'),\n",
       " ('xxx', 'NUM'),\n",
       " ('xl', 'NUM'),\n",
       " ('l', 'NUM'),\n",
       " ('lx', 'NUM'),\n",
       " ('c', 'NUM'),\n",
       " ('cc', 'NUM')]"
      ]
     },
     "execution_count": 13,
     "metadata": {},
     "output_type": "execute_result"
    }
   ],
   "source": [
    "from cltk.lemmatize.lat import RomanNumeralLemmatizer\n",
    "\n",
    "#Lemmatizer for identifying roman numerals in Latin text based on regex.\n",
    "lemmatizer = RomanNumeralLemmatizer()\n",
    "\n",
    "lemmatizer.lemmatize(\"i ii iii iv v vi vii vii ix x xx xxx xl l lx c cc\".split())"
   ]
  },
  {
   "cell_type": "markdown",
   "id": "alive-hydrogen",
   "metadata": {},
   "source": [
    "## Syllables\n",
    "\n",
    "One way of helping students read a text is to split the syllables out.m"
   ]
  },
  {
   "cell_type": "code",
   "execution_count": 14,
   "id": "union-resolution",
   "metadata": {},
   "outputs": [],
   "source": [
    "with open(f'{path}/vergil/aen1.txt') as f:\n",
    "    aeneid_1 = f.read()"
   ]
  },
  {
   "cell_type": "code",
   "execution_count": 15,
   "id": "violent-hammer",
   "metadata": {},
   "outputs": [
    {
     "name": "stdout",
     "output_type": "stream",
     "text": [
      "Vergil Aeneid I        P VERGILI MARONIS AENEIDOS LIBER PRIMVS  Arma virumque cano Troiae qui primus ab oris Italiam fato profugus Laviniaque venit litora multum ille et terris iactatus et alto vi superum saevae memorem Iunonis ob iram multa quoque et bello passus dum conderet urbem     inferretque deos Latio genus unde Latinum Albanique patres atque altae moenia Romae  Musa mihi causas memora quo numine laeso quidve dolens regina deum tot volvere casus insignem pietate virum tot adire labores     impulerit Tantaene animis caelestibus irae  Urbs antiqua fuit Tyrii tenuere coloni Karthago Italiam contra Tiberinaque longe ostia dives opum studiisque asperrima belli quam Iuno fertur terris magis omnibus unam     posthabita coluisse Samo hic illius arma hic currus fuit hoc regnum dea gentibus esse si qua fata sinant iam tum tenditque fovetque Progeniem sed enim Troiano a sanguine duci audierat Tyrias olim quae verteret arces     hinc populum late regem belloque superbum venturum excidio Li\n"
     ]
    }
   ],
   "source": [
    "#Here's a manual way of doing a concordance, though we need to clean it for the tokeniser?\n",
    "from cltk.alphabet.text_normalization import remove_non_ascii\n",
    "from cltk.alphabet.text_normalization import remove_non_latin\n",
    "\n",
    "aen1_clean = remove_non_ascii(aeneid_1)\n",
    "aen1_clean = remove_non_latin(aen1_clean)\n",
    "print(aen1_clean[:1000])"
   ]
  },
  {
   "cell_type": "code",
   "execution_count": 16,
   "id": "retained-transcript",
   "metadata": {},
   "outputs": [
    {
     "name": "stdout",
     "output_type": "stream",
     "text": [
      "Displaying 7 of 7 matches:\n",
      "ello -que superbum venturum excidio Libyae sic volvere Parcas Id metuens veter\n",
      "a litora cursu contendunt petere et Libyae vertuntur ad oras Est in secessu lo\n",
      "ulos sic vertice caeli constitit et Libyae defixit lumina regnis Atque illum t\n",
      "e per aera magnum remigio alarum ac Libyae citus adstitit oris Et iam iussa fa\n",
      "o -que supersunt Ipse ignotus egens Libyae deserta peragro Europa atque Asia p\n",
      "e pater optime Teucrum pontus habet Libyae nec spes iam restat Iuli at freta S\n",
      "uidem per litora certos dimittam et Libyae lustrare extrema iubebo si quibus e\n"
     ]
    }
   ],
   "source": [
    "from nltk.text import Text\n",
    "\n",
    "tokens = latin_word_tokenizer.tokenize(aen1_clean)\n",
    "textList = Text(tokens)\n",
    "textList.concordance('Libyae')"
   ]
  },
  {
   "cell_type": "code",
   "execution_count": 17,
   "id": "coastal-prairie",
   "metadata": {},
   "outputs": [
    {
     "data": {
      "text/plain": [
       "'Gallia est omnis divisa in partes tres, quarum unam incolunt Belgae, aliam Aquitani, tertiam qui ipsorum lingua Celtae, nostra Galli appellantur. Hi omnes lingua, institutis, legibus inter se differunt. Gallos ab Aquitanis Garumna flumen, a Belgis Matrona et Sequana dividit. Horum omnium fortissimi sunt Belgae, propterea quod a cultu atque humanitate provinciae longissime absunt, minimeque ad eos mercatores saepe commeant atque ea quae ad effeminandos animos pertinent important, proximique sunt Germanis, qui trans Rhenum incolunt, quibuscum continenter bellum gerunt. Qua de causa Helvetii quoque reliquos Gallos virtute praecedunt, quod fere cotidianis proeliis cum Germanis contendunt, cum aut suis finibus eos prohibent aut ipsi in eorum finibus bellum gerunt. Eorum una, pars, quam Gallos obtinere dictum est, initium capit a flumine Rhodano, continetur Garumna flumine, Oceano, finibus Belgarum, attingit etiam ab Sequanis et Helvetiis flumen Rhenum, vergit ad septentriones. Belgae ab extremis Galliae finibus oriuntur, pertinent ad inferiorem partem fluminis Rheni, spectant in septentrionem et orientem solem. Aquitania a Garumna flumine ad Pyrenaeos montes et eam partem Oceani quae est ad Hispaniam pertinet; spectat inter occasum solis et septentriones.'"
      ]
     },
     "execution_count": 17,
     "metadata": {},
     "output_type": "execute_result"
    }
   ],
   "source": [
    "from cltk.languages.example_texts import get_example_text\n",
    "\n",
    "example_lat = get_example_text('lat')\n",
    "example_lat"
   ]
  },
  {
   "cell_type": "code",
   "execution_count": 18,
   "id": "skilled-preference",
   "metadata": {},
   "outputs": [
    {
     "data": {
      "text/plain": [
       "['Gallia est omnis divisa in partes tres, quarum unam incolunt Belgae, aliam Aquitani, tertiam qui ipsorum lingua Celtae, nostra Galli appellantur.',\n",
       " 'Hi omnes lingua, institutis, legibus inter se differunt.',\n",
       " 'Gallos ab Aquitanis Garumna flumen, a Belgis Matrona et Sequana dividit.',\n",
       " 'Horum omnium fortissimi sunt Belgae, propterea quod a cultu atque humanitate provinciae longissime absunt, minimeque ad eos mercatores saepe commeant atque ea quae ad effeminandos animos pertinent important, proximique sunt Germanis, qui trans Rhenum incolunt, quibuscum continenter bellum gerunt.',\n",
       " 'Qua de causa Helvetii quoque reliquos Gallos virtute praecedunt, quod fere cotidianis proeliis cum Germanis contendunt, cum aut suis finibus eos prohibent aut ipsi in eorum finibus bellum gerunt.',\n",
       " 'Eorum una, pars, quam Gallos obtinere dictum est, initium capit a flumine Rhodano, continetur Garumna flumine, Oceano, finibus Belgarum, attingit etiam ab Sequanis et Helvetiis flumen Rhenum, vergit ad septentriones.',\n",
       " 'Belgae ab extremis Galliae finibus oriuntur, pertinent ad inferiorem partem fluminis Rheni, spectant in septentrionem et orientem solem.',\n",
       " 'Aquitania a Garumna flumine ad Pyrenaeos montes et eam partem Oceani quae est ad Hispaniam pertinet; spectat inter occasum solis et septentriones.']"
      ]
     },
     "execution_count": 18,
     "metadata": {},
     "output_type": "execute_result"
    }
   ],
   "source": [
    "from cltk.sentence.lat import LatinPunktSentenceTokenizer\n",
    "\n",
    "latin_splitter = LatinPunktSentenceTokenizer()\n",
    "\n",
    "sentences = latin_splitter.tokenize(example_lat)\n",
    "\n",
    "sentences"
   ]
  },
  {
   "cell_type": "code",
   "execution_count": 19,
   "id": "amber-joining",
   "metadata": {},
   "outputs": [
    {
     "name": "stdout",
     "output_type": "stream",
     "text": [
      "gallia ['gal', 'li', 'a']\n",
      "est ['est']\n",
      "omnis ['om', 'nis']\n",
      "divisa ['di', 'vi', 'sa']\n",
      "in ['in']\n",
      "partes ['par', 'tes']\n",
      "tres ['tres']\n",
      "quarum ['qua', 'rum']\n",
      "unam ['u', 'nam']\n",
      "incolunt ['in', 'co', 'lunt']\n",
      "belgae ['bel', 'gae']\n",
      "aliam ['a', 'li', 'am']\n",
      "aquitani ['a', 'qui', 'ta', 'ni']\n",
      "tertiam ['ter', 'ti', 'am']\n",
      "qui ['qui']\n",
      "ipsorum ['ip', 'so', 'rum']\n",
      "lingua ['lin', 'gua']\n",
      "celtae ['cel', 'tae']\n",
      "nostra ['nos', 'tra']\n",
      "galli ['gal', 'li']\n",
      "appellantur ['ap', 'pel', 'lan', 'tur']\n"
     ]
    }
   ],
   "source": [
    "from cltk.prosody.lat.syllabifier import Syllabifier\n",
    "\n",
    "syllabifier = Syllabifier()\n",
    "\n",
    "clean_sentence = remove_non_ascii(remove_non_latin(sentences[0])).lower()\n",
    "\n",
    "#Extract syllables for each word\n",
    "for word in latin_word_tokenizer.tokenize(clean_sentence):\n",
    "    syllables = syllabifier.syllabify(word)\n",
    "    print(word, syllables)"
   ]
  },
  {
   "cell_type": "markdown",
   "id": "suburban-bonus",
   "metadata": {},
   "source": [
    "## Pipeline processing"
   ]
  },
  {
   "cell_type": "code",
   "execution_count": 20,
   "id": "offensive-robinson",
   "metadata": {},
   "outputs": [
    {
     "name": "stdout",
     "output_type": "stream",
     "text": [
      "‎𐤀 CLTK version '1.0.14'.\n",
      "Pipeline for language 'Latin' (ISO: 'lat'): `LatinNormalizeProcess`, `LatinStanzaProcess`, `LatinEmbeddingsProcess`, `StopsProcess`, `LatinNERProcess`, `LatinLexiconProcess`.\n",
      "From `from_ud():` Number[psor]: Unrecognized UD feature name\n"
     ]
    }
   ],
   "source": [
    "from cltk import NLP\n",
    "cltk_nlp = NLP(language=\"lat\")\n",
    "\n",
    "# This can be slow\n",
    "# First run, prompts to allow download of Stanza NLP library models\n",
    "# to ~/stanza_resources/la/ (~250MB)\n",
    "# Also word embedding models from the Fasttext project to\n",
    "# ~/cltk_data/lat/embeddings/fasttext 365MB\n",
    "# Also Lewis's *An Elementary Latin Dictionary* (1890)\n",
    "cltk_doc = cltk_nlp.analyze(text=example_lat)"
   ]
  },
  {
   "cell_type": "code",
   "execution_count": 37,
   "id": "interpreted-california",
   "metadata": {},
   "outputs": [
    {
     "data": {
      "text/plain": [
       "[{'id': 1,\n",
       "  'text': 'Gallia',\n",
       "  'lemma': 'iallius',\n",
       "  'upos': 'NOUN',\n",
       "  'xpos': 'A1|grn1|casA|gen2',\n",
       "  'feats': 'Case=Nom|Gender=Fem|Number=Sing',\n",
       "  'head': 0,\n",
       "  'deprel': 'root',\n",
       "  'misc': 'start_char=0|end_char=6'},\n",
       " {'id': 2,\n",
       "  'text': 'est',\n",
       "  'lemma': 'sum',\n",
       "  'upos': 'AUX',\n",
       "  'xpos': 'N3|modA|tem1|gen6',\n",
       "  'feats': 'Mood=Ind|Number=Sing|Person=3|Tense=Pres|VerbForm=Fin|Voice=Act',\n",
       "  'head': 1,\n",
       "  'deprel': 'cop',\n",
       "  'misc': 'start_char=7|end_char=10'},\n",
       " {'id': 3,\n",
       "  'text': 'omnis',\n",
       "  'lemma': 'omnis',\n",
       "  'upos': 'DET',\n",
       "  'xpos': 'C1|grn1|casA|gen2',\n",
       "  'feats': 'Case=Nom|Gender=Fem|Number=Sing|PronType=Ind',\n",
       "  'head': 1,\n",
       "  'deprel': 'det',\n",
       "  'misc': 'start_char=11|end_char=16'}]"
      ]
     },
     "execution_count": 37,
     "metadata": {},
     "output_type": "execute_result"
    }
   ],
   "source": [
    "cltk_doc.stanza_doc.to_dict()[0][:3]"
   ]
  },
  {
   "cell_type": "code",
   "execution_count": null,
   "id": "adjacent-conflict",
   "metadata": {},
   "outputs": [],
   "source": [
    "# Also: cltk_doc.raw\n",
    "cltk_doc.normalized_text"
   ]
  },
  {
   "cell_type": "code",
   "execution_count": null,
   "id": "facial-dressing",
   "metadata": {},
   "outputs": [],
   "source": [
    "cltk_doc.sentences_strings"
   ]
  },
  {
   "cell_type": "code",
   "execution_count": null,
   "id": "eight-jungle",
   "metadata": {},
   "outputs": [],
   "source": [
    "cltk_doc.sentences_tokens"
   ]
  },
  {
   "cell_type": "code",
   "execution_count": null,
   "id": "universal-reception",
   "metadata": {},
   "outputs": [],
   "source": [
    "[ p for p in zip(cltk_doc.tokens, cltk_doc.lemmata,\n",
    "                 cltk_doc.pos, cltk_doc.morphosyntactic_features)]"
   ]
  },
  {
   "cell_type": "code",
   "execution_count": null,
   "id": "grateful-supplement",
   "metadata": {},
   "outputs": [],
   "source": []
  }
 ],
 "metadata": {
  "celltoolbar": "Tags",
  "kernelspec": {
   "display_name": "Python 3",
   "language": "python",
   "name": "python3"
  },
  "language_info": {
   "codemirror_mode": {
    "name": "ipython",
    "version": 3
   },
   "file_extension": ".py",
   "mimetype": "text/x-python",
   "name": "python",
   "nbconvert_exporter": "python",
   "pygments_lexer": "ipython3",
   "version": "3.9.7"
  }
 },
 "nbformat": 4,
 "nbformat_minor": 5
}
