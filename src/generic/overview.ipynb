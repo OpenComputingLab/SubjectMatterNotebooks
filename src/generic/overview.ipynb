{
 "cells": [
  {
   "cell_type": "markdown",
   "id": "900c0210",
   "metadata": {},
   "source": [
    "# Generic Items Overview\n",
    "\n",
    "This section identifies various generic strategies and tools for supporting the creation of subject matter content, such as the use of tools to support quiz creation."
   ]
  }
 ],
 "metadata": {
  "kernelspec": {
   "display_name": "Python 3",
   "language": "python",
   "name": "python3"
  },
  "language_info": {
   "codemirror_mode": {
    "name": "ipython",
    "version": 3
   },
   "file_extension": ".py",
   "mimetype": "text/x-python",
   "name": "python",
   "nbconvert_exporter": "python",
   "pygments_lexer": "ipython3",
   "version": "3.9.7"
  }
 },
 "nbformat": 4,
 "nbformat_minor": 5
}
