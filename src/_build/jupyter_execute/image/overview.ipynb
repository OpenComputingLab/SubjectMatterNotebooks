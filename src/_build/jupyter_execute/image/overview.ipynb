{
 "cells": [
  {
   "cell_type": "markdown",
   "id": "legal-string",
   "metadata": {},
   "source": [
    "# Image Generation and Manipulation Overview\n",
    "\n",
    "A wide range of tools are available for generating and manipulation images programmatically.\n",
    "\n",
    "Where this is done *in situ*, the local context should help the relationship between text and image to remain consistent."
   ]
  },
  {
   "cell_type": "markdown",
   "id": "present-margin",
   "metadata": {},
   "source": [
    "## Generating Images"
   ]
  },
  {
   "cell_type": "markdown",
   "id": "modern-basketball",
   "metadata": {},
   "source": [
    "## Manipulating Images"
   ]
  },
  {
   "cell_type": "code",
   "execution_count": null,
   "id": "extra-azerbaijan",
   "metadata": {},
   "outputs": [],
   "source": []
  }
 ],
 "metadata": {
  "kernelspec": {
   "display_name": "Python 3",
   "language": "python",
   "name": "python3"
  },
  "language_info": {
   "codemirror_mode": {
    "name": "ipython",
    "version": 3
   },
   "file_extension": ".py",
   "mimetype": "text/x-python",
   "name": "python",
   "nbconvert_exporter": "python",
   "pygments_lexer": "ipython3",
   "version": "3.9.5"
  }
 },
 "nbformat": 4,
 "nbformat_minor": 5
}