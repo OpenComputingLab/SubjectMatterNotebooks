{
 "cells": [
  {
   "cell_type": "markdown",
   "id": "historic-hughes",
   "metadata": {},
   "source": [
    "# Classical Languages\n",
    "\n",
    "Some tools to support classics related subject matter, such as retrieving classical texts and searching throuhg them, analysing grammar, inflectng words (declensions, conjugations).\n",
    "\n",
    "The intention, as with the other notebooks in this collection, is to explore ways in which we might create educational resources that are \"reproducible with modification\" through making available the means of production of various analyses, diagrams, etc along with the produced resource.\n",
    "\n",
    "A secondary benefit is that by automating the generation of particular assets or examples, it becomes easier for authors to make use of them, which may open up new teaching lines. A tertiary benefit is that learners may use the same production methods to allow them to explore the topics themselves."
   ]
  },
  {
   "cell_type": "markdown",
   "id": "alpha-payroll",
   "metadata": {},
   "source": [
    "## `cltk`\n",
    "\n",
    "[`cltk`](https://github.com/cltk/cltk), the *[Classical Language Toolkit*](http://cltk.org/), is a natural language processing (NLP) package designed for use with the languages of Ancient, Classical, and Medieval Eurasia (esp. Greek and Latin). I assume it is based on nltk.\n",
    "\n",
    "A selection of tutorial notebooks can be found at cltk/tutorials.\n",
    "\n",
    "cltk provides access to a variety of classical texts in a variety of languages, and as such provides a way for learners to access such texts themselves, if we can find a way of accessing a reliable index to them, or search through metadata provided for them.\n",
    "\n",
    "The natural language processing tools in the package make it easy to search texts, as well as analyse them in some languages.\n",
    "\n",
    "There are also language specific tools, such as a declension generator in Latin, that might be useful for helping check declensions and conjugations, or display particular person/tense combinations for a particular word.\n",
    "\n",
    "OpenLearn units to explore:\n",
    "\n",
    "- [Discovering Acient Greek and Latin](http://www.open.edu/openlearn/history-the-arts/discovering-ancient-greek-and-latin/content-section-0?active-tab=description-tab)\n",
    "- [Getting started on classical Latin](http://www.open.edu/openlearn/history-the-arts/getting-started-on-classical-latin/content-section-0?active-tab=description-tab)\n",
    "- [Continuing classical Latin](http://www.open.edu/openlearn/history-the-arts/history/classical-studies/continuing-classical-latin/content-section-0?active-tab=description-tab)"
   ]
  },
  {
   "cell_type": "code",
   "execution_count": 1,
   "id": "ecological-sigma",
   "metadata": {
    "tags": [
     "hide-cell"
    ]
   },
   "outputs": [],
   "source": [
    "%%capture\n",
    "try:\n",
    "    import cltk\n",
    "except:\n",
    "    %pip install matplotlib\n",
    "    %pip install cltk"
   ]
  },
  {
   "cell_type": "markdown",
   "id": "private-center",
   "metadata": {},
   "source": [
    "```{note}\n",
    "Corproa in a wide range of classical languages are available. For a list, see [here](https://docs.cltk.org/en/latest/languages.html).\n",
    "```\n",
    "\n",
    "We can obtain a list of available Ancient Greek corpora:"
   ]
  },
  {
   "cell_type": "code",
   "execution_count": 2,
   "id": "weird-strap",
   "metadata": {},
   "outputs": [
    {
     "data": {
      "text/plain": [
       "['grc_software_tlgu',\n",
       " 'grc_text_perseus',\n",
       " 'phi7',\n",
       " 'tlg',\n",
       " 'greek_proper_names_cltk',\n",
       " 'grc_models_cltk',\n",
       " 'greek_treebank_perseus',\n",
       " 'greek_treebank_gorman',\n",
       " 'greek_lexica_perseus',\n",
       " 'greek_training_set_sentence_cltk',\n",
       " 'greek_word2vec_cltk',\n",
       " 'greek_text_lacus_curtius',\n",
       " 'grc_text_first1kgreek',\n",
       " 'grc_text_tesserae']"
      ]
     },
     "execution_count": 2,
     "metadata": {},
     "output_type": "execute_result"
    }
   ],
   "source": [
    "from cltk.data.fetch import FetchCorpus\n",
    "\n",
    "FetchCorpus('grc').list_corpora  # Latin: lat, Greek: grc"
   ]
  },
  {
   "cell_type": "markdown",
   "id": "neural-algebra",
   "metadata": {},
   "source": [
    "Or Latin corpora:"
   ]
  },
  {
   "cell_type": "code",
   "execution_count": 3,
   "id": "assigned-advisory",
   "metadata": {},
   "outputs": [
    {
     "data": {
      "text/plain": [
       "['lat_text_perseus',\n",
       " 'lat_treebank_perseus',\n",
       " 'lat_text_latin_library',\n",
       " 'phi5',\n",
       " 'phi7',\n",
       " 'latin_proper_names_cltk',\n",
       " 'lat_models_cltk',\n",
       " 'latin_pos_lemmata_cltk',\n",
       " 'latin_treebank_index_thomisticus',\n",
       " 'latin_lexica_perseus',\n",
       " 'latin_training_set_sentence_cltk',\n",
       " 'latin_word2vec_cltk',\n",
       " 'latin_text_antique_digiliblt',\n",
       " 'latin_text_corpus_grammaticorum_latinorum',\n",
       " 'latin_text_poeti_ditalia',\n",
       " 'lat_text_tesserae',\n",
       " 'cltk_lat_lewis_elementary_lexicon']"
      ]
     },
     "execution_count": 3,
     "metadata": {},
     "output_type": "execute_result"
    }
   ],
   "source": [
    "corpus_downloader = FetchCorpus('lat')\n",
    "corpus_downloader.list_corpora"
   ]
  },
  {
   "cell_type": "markdown",
   "id": "expired-feeling",
   "metadata": {},
   "source": [
    "We can download a corpus from the list of available corpora associated with the selected language:"
   ]
  },
  {
   "cell_type": "code",
   "execution_count": 4,
   "id": "roman-diving",
   "metadata": {},
   "outputs": [],
   "source": [
    "corpus_downloader.import_corpus('lat_text_latin_library')"
   ]
  },
  {
   "cell_type": "markdown",
   "id": "sublime-essex",
   "metadata": {},
   "source": [
    "```{note}\n",
    "By default, the data is download to `~/cltk_data`\n",
    "\n",
    "If we download the Latin corpora, we can find corpus files in:\n",
    "\n",
    "`~/cltk_data/lat/text/lat_text_latin_library/`\n",
    "```"
   ]
  },
  {
   "cell_type": "code",
   "execution_count": 5,
   "id": "sharp-charlotte",
   "metadata": {},
   "outputs": [],
   "source": [
    "from cltk import NLP"
   ]
  },
  {
   "cell_type": "code",
   "execution_count": 6,
   "id": "thermal-scottish",
   "metadata": {},
   "outputs": [
    {
     "name": "stdout",
     "output_type": "stream",
     "text": [
      "‎𐤀 CLTK version '1.0.14'.\n",
      "Pipeline for language 'Latin' (ISO: 'lat'): `LatinNormalizeProcess`, `LatinStanzaProcess`, `LatinEmbeddingsProcess`, `StopsProcess`, `LatinNERProcess`, `LatinLexiconProcess`.\n"
     ]
    }
   ],
   "source": [
    "# Load the default Pipeline for Latin\n",
    "cltk_nlp = NLP(language=\"lat\")"
   ]
  },
  {
   "cell_type": "code",
   "execution_count": 7,
   "id": "valuable-object",
   "metadata": {},
   "outputs": [
    {
     "data": {
      "text/plain": [
       "[cltk.alphabet.processes.LatinNormalizeProcess,\n",
       " cltk.dependency.processes.LatinStanzaProcess,\n",
       " cltk.embeddings.processes.LatinEmbeddingsProcess,\n",
       " cltk.stops.processes.StopsProcess,\n",
       " cltk.ner.processes.LatinNERProcess,\n",
       " cltk.lexicon.processes.LatinLexiconProcess]"
      ]
     },
     "execution_count": 7,
     "metadata": {},
     "output_type": "execute_result"
    }
   ],
   "source": [
    "cltk_nlp.pipeline.processes"
   ]
  },
  {
   "cell_type": "code",
   "execution_count": 8,
   "id": "exact-mozambique",
   "metadata": {},
   "outputs": [],
   "source": [
    "path=\"/Users/tonyhirst/cltk_data/lat/text/lat_text_latin_library/vergil/aen1.txt\"\n",
    "\n",
    "with open(path) as f:\n",
    "    aeneid_1 = f.read()"
   ]
  },
  {
   "cell_type": "code",
   "execution_count": 9,
   "id": "experienced-occupation",
   "metadata": {},
   "outputs": [
    {
     "data": {
      "text/plain": [
       "'Tyrias olim quae verteret arces;    20 \\nhinc populum late regem belloque superbum \\nventurum excidio Libyae: sic volvere Parcas. \\nId metuens, veterisque memor Saturnia belli, \\nprima quod ad Troiam pro '"
      ]
     },
     "execution_count": 9,
     "metadata": {},
     "output_type": "execute_result"
    }
   ],
   "source": [
    "aeneid_1[1000:1200]"
   ]
  },
  {
   "cell_type": "code",
   "execution_count": null,
   "id": "controlling-orange",
   "metadata": {},
   "outputs": [],
   "source": []
  }
 ],
 "metadata": {
  "celltoolbar": "Tags",
  "kernelspec": {
   "display_name": "Python 3",
   "language": "python",
   "name": "python3"
  },
  "language_info": {
   "codemirror_mode": {
    "name": "ipython",
    "version": 3
   },
   "file_extension": ".py",
   "mimetype": "text/x-python",
   "name": "python",
   "nbconvert_exporter": "python",
   "pygments_lexer": "ipython3",
   "version": "3.9.5"
  }
 },
 "nbformat": 4,
 "nbformat_minor": 5
}