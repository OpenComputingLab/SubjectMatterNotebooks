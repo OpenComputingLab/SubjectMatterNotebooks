{
 "cells": [
  {
   "cell_type": "markdown",
   "id": "lesbian-front",
   "metadata": {},
   "source": [
    "# Chemistry Overview\n",
    "\n",
    "A wide range of tools exist that support workflows in Chemistry, from looking up the structure and properties of a wide variety of elements and compounds, to visualising their structure using interactive HTML widgets.\n",
    "\n",
    "Using automation to help us generate the the lookup of compund structures from their names allows us to creative narratives where correctness is guaranteed when moving from one consideration, such as the formula for a particular compound given its common name, to the visualisation of that structure.\n",
    "\n",
    ":::{admonition} Hiding Code\n",
    ":class: tip\n",
    "The following example includes the code inline to show how the automation proceeds. In a finished would the code could be hidden but revealable, for eample in collapsed code cells, or have all mention of the code removed from the final output document.\n",
    ":::"
   ]
  },
  {
   "cell_type": "code",
   "execution_count": 1,
   "id": "thick-farming",
   "metadata": {},
   "outputs": [
    {
     "data": {
      "text/plain": [
       "'ethanol'"
      ]
     },
     "metadata": {
      "scrapbook": {
       "mime_prefix": "application/papermill.record/",
       "name": "compound"
      }
     },
     "output_type": "display_data"
    }
   ],
   "source": [
    "#Provide the common name of a compound\n",
    "compound_name = \"ethanol\"\n",
    "\n",
    "# Create a reference to a value we can use in our markdown text\n",
    "from myst_nb import glue\n",
    "\n",
    "glue(\"compound\", compound_name, display=False)"
   ]
  },
  {
   "cell_type": "markdown",
   "id": "pediatric-sunglasses",
   "metadata": {},
   "source": [
    "Having declared the compound we want to investigate in code, we can refer to it directly inline in our text — {glue:}`compound` is the thing we are interested in, for example — and we can also automatically look-up various things about it and even render a 3D visualisation of it."
   ]
  },
  {
   "cell_type": "code",
   "execution_count": 2,
   "id": "stable-arbor",
   "metadata": {},
   "outputs": [],
   "source": [
    "import pubchempy as pcp\n",
    "\n",
    "_compound = pcp.get_compounds(compound_name, 'name')[0]\n",
    "_compound_latex = '$\\ce{'+_compound.molecular_formula+'}$' "
   ]
  },
  {
   "cell_type": "markdown",
   "id": "certain-modification",
   "metadata": {},
   "source": [
    "$$\\require{mhchem}$$\n",
    "\n",
    "Using the `mhchem` MathJax package, we can add support for the rendering of chemical equations:"
   ]
  },
  {
   "cell_type": "code",
   "execution_count": 3,
   "id": "outdoor-rebel",
   "metadata": {},
   "outputs": [
    {
     "data": {
      "text/latex": [
       "$\\ce{C2H6O}$"
      ],
      "text/plain": [
       "<IPython.core.display.Latex object>"
      ]
     },
     "execution_count": 3,
     "metadata": {},
     "output_type": "execute_result"
    }
   ],
   "source": [
    "from IPython.display import Latex\n",
    "\n",
    "Latex('$\\ce{'+_compound.molecular_formula+'}$')"
   ]
  },
  {
   "cell_type": "code",
   "execution_count": 4,
   "id": "random-czech",
   "metadata": {},
   "outputs": [
    {
     "data": {
      "text/latex": [
       "$\\ce{C2H6O}$"
      ],
      "text/plain": [
       "<IPython.core.display.Latex object>"
      ]
     },
     "metadata": {
      "scrapbook": {
       "mime_prefix": "application/papermill.record/",
       "name": "compound_latex"
      }
     },
     "output_type": "display_data"
    }
   ],
   "source": [
    "glue(\"compound_latex\", Latex('$\\ce{'+_compound.molecular_formula+'}$'), display=False)"
   ]
  },
  {
   "cell_type": "markdown",
   "id": "opponent-estate",
   "metadata": {},
   "source": [
    "Let's start with something simple: a rendering of the chemical equation for {glue:text}`compound`: \n",
    "\n",
    "```{glue:math}compound_latex\n",
    "```\n",
    "\n",
    "We can render a free standing HTML+JS 3D interactive version of the molecule into the page:"
   ]
  },
  {
   "cell_type": "code",
   "execution_count": 5,
   "id": "fatal-minneapolis",
   "metadata": {},
   "outputs": [
    {
     "data": {
      "application/3dmoljs_load.v0": "<div id=\"3dmolviewer_16218843569592252\"  style=\"position: relative; width: 640px; height: 480px\">\n        <p id=\"3dmolwarning_16218843569592252\" style=\"background-color:#ffcccc;color:black\">You appear to be running in JupyterLab (or JavaScript failed to load for some other reason).  You need to install the 3dmol extension: <br>\n        <tt>jupyter labextension install jupyterlab_3dmol</tt></p>\n        </div>\n<script>\n\nvar loadScriptAsync = function(uri){\n  return new Promise((resolve, reject) => {\n    var tag = document.createElement('script');\n    tag.src = uri;\n    tag.async = true;\n    tag.onload = () => {\n      resolve();\n    };\n  var firstScriptTag = document.getElementsByTagName('script')[0];\n  firstScriptTag.parentNode.insertBefore(tag, firstScriptTag);\n});\n};\n\nif(typeof $3Dmolpromise === 'undefined') {\n$3Dmolpromise = null;\n  $3Dmolpromise = loadScriptAsync('https://3dmol.org/build/3Dmol.js');\n}\n\nvar viewer_16218843569592252 = null;\nvar warn = document.getElementById(\"3dmolwarning_16218843569592252\");\nif(warn) {\n    warn.parentNode.removeChild(warn);\n}\n$3Dmolpromise.then(function() {\nviewer_16218843569592252 = $3Dmol.createViewer($(\"#3dmolviewer_16218843569592252\"),{backgroundColor:\"white\"});\n$3Dmol.download(\"cid:702\", viewer_16218843569592252, {}, function() {\nviewer_16218843569592252.zoomTo();\n\tviewer_16218843569592252.setStyle({\"stick\": {\"radius\": 0.1}, \"sphere\": {\"scale\": 0.25}});\nviewer_16218843569592252.render();\n})\n});\n</script>",
      "text/html": [
       "<div id=\"3dmolviewer_16218843569592252\"  style=\"position: relative; width: 640px; height: 480px\">\n",
       "        <p id=\"3dmolwarning_16218843569592252\" style=\"background-color:#ffcccc;color:black\">You appear to be running in JupyterLab (or JavaScript failed to load for some other reason).  You need to install the 3dmol extension: <br>\n",
       "        <tt>jupyter labextension install jupyterlab_3dmol</tt></p>\n",
       "        </div>\n",
       "<script>\n",
       "\n",
       "var loadScriptAsync = function(uri){\n",
       "  return new Promise((resolve, reject) => {\n",
       "    var tag = document.createElement('script');\n",
       "    tag.src = uri;\n",
       "    tag.async = true;\n",
       "    tag.onload = () => {\n",
       "      resolve();\n",
       "    };\n",
       "  var firstScriptTag = document.getElementsByTagName('script')[0];\n",
       "  firstScriptTag.parentNode.insertBefore(tag, firstScriptTag);\n",
       "});\n",
       "};\n",
       "\n",
       "if(typeof $3Dmolpromise === 'undefined') {\n",
       "$3Dmolpromise = null;\n",
       "  $3Dmolpromise = loadScriptAsync('https://3dmol.org/build/3Dmol.js');\n",
       "}\n",
       "\n",
       "var viewer_16218843569592252 = null;\n",
       "var warn = document.getElementById(\"3dmolwarning_16218843569592252\");\n",
       "if(warn) {\n",
       "    warn.parentNode.removeChild(warn);\n",
       "}\n",
       "$3Dmolpromise.then(function() {\n",
       "viewer_16218843569592252 = $3Dmol.createViewer($(\"#3dmolviewer_16218843569592252\"),{backgroundColor:\"white\"});\n",
       "$3Dmol.download(\"cid:702\", viewer_16218843569592252, {}, function() {\n",
       "viewer_16218843569592252.zoomTo();\n",
       "\tviewer_16218843569592252.setStyle({\"stick\": {\"radius\": 0.1}, \"sphere\": {\"scale\": 0.25}});\n",
       "viewer_16218843569592252.render();\n",
       "})\n",
       "});\n",
       "</script>"
      ]
     },
     "metadata": {},
     "output_type": "display_data"
    }
   ],
   "source": [
    "import py3Dmol\n",
    "\n",
    "# Lookup a molecule using its CID (PubChem Compound Identification) code\n",
    "p=py3Dmol.view(query = f'cid:{_compound.cid}')\n",
    "\n",
    "# Set the render style\n",
    "p.setStyle({'stick': {'radius': .1}, 'sphere': {'scale': 0.25}})\n",
    "p.show()"
   ]
  },
  {
   "cell_type": "markdown",
   "id": "informed-poker",
   "metadata": {},
   "source": [
    "If we were to change the name of the compound in the first code cell in our original source document and reflow the notebook, *everything* would be updated and there would be no mismatches between the compound name, it's formula, or its visualised structure.\n",
    "\n",
    ":::{admonition} Code visibility in rendered documents\n",
    ":class: tip\n",
    "Recall that there is no requirement for the original generating code to be visible, or even present, in the final rendered document.\n",
    ":::"
   ]
  }
 ],
 "metadata": {
  "kernelspec": {
   "display_name": "Python 3",
   "language": "python",
   "name": "python3"
  },
  "language_info": {
   "codemirror_mode": {
    "name": "ipython",
    "version": 3
   },
   "file_extension": ".py",
   "mimetype": "text/x-python",
   "name": "python",
   "nbconvert_exporter": "python",
   "pygments_lexer": "ipython3",
   "version": "3.9.5"
  }
 },
 "nbformat": 4,
 "nbformat_minor": 5
}