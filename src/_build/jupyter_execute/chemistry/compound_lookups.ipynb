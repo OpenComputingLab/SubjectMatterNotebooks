{
 "cells": [
  {
   "cell_type": "markdown",
   "id": "sixth-count",
   "metadata": {},
   "source": [
    "# Chemistry — Compound Lookups\n",
    "\n",
    "Several Python packages exist that simplify the process of looking compounds and their chemical structure.\n",
    "\n",
    "For example, we can look-up compounds by name or structure, which allows us to create a readable sequence of steps that allows us obtain the structure of a compound, and various properties of it, simply by starting with its common name.\n",
    "\n",
    "With a representation of the structure to hand, we can then visualise its structure as demonstrated in a later section.\n",
    "\n",
    "This allows us in part to create one-piece workflows where rich outputs are generated from (potentially hidden) generative scripts contained within the source document.\n",
    "\n",
    "Through being able to look up properties of materials, we can also generate factual statements about them or generate quizzes or opportunities for self-text activities around them."
   ]
  },
  {
   "cell_type": "markdown",
   "id": "stable-float",
   "metadata": {},
   "source": [
    "## `pubchempy`\n",
    "\n",
    "The [`pubchempy`](https://pubchempy.readthedocs.io/en/latest/) package provides a Python interface to [PubChem](https://pubchem.ncbi.nlm.nih.gov/), a  freely accessible chemical information lookup service that allows for the searching of chemicals by name, lookups of molecular formulas and structures using conventional representations such as a SMILES representation. (Chemicals can also be looked up via their SMILES string.)\n",
    "\n",
    "```{admonition}SMILES\n",
    "SMILES ([*Simplified molecular-input line-entry system*](https://en.wikipedia.org/wiki/Simplified_molecular-input_line-entry_system)) is a simple text format for desctibing molecular structure.\n",
    "\n",
    "Related: [SMILES tutorial](https://www.epa.gov/sites/production/files/2015-05/documents/appendf.pdf(\n",
    "```\n",
    "\n",
    "Packages like `pubchempy` can be used in conjunction with visualisers such as `py3Dmol` to look up a molecule by name (using `pubchempy`) and then display its structure as an interactive 3D model (using `py3Dmol`)."
   ]
  },
  {
   "cell_type": "code",
   "execution_count": 1,
   "id": "dietary-watershed",
   "metadata": {
    "tags": [
     "remove-cell"
    ]
   },
   "outputs": [],
   "source": [
    "%%capture\n",
    "try:\n",
    "    import pubchempy as pcp\n",
    "except:\n",
    "    %pip install --upgrade pubchempy"
   ]
  },
  {
   "cell_type": "markdown",
   "id": "together-laser",
   "metadata": {},
   "source": [
    "Import the base package:"
   ]
  },
  {
   "cell_type": "code",
   "execution_count": 2,
   "id": "detected-trigger",
   "metadata": {},
   "outputs": [],
   "source": [
    "import pubchempy as pcp"
   ]
  },
  {
   "cell_type": "markdown",
   "id": "steady-lobby",
   "metadata": {},
   "source": [
    "We can look up a chemical by name, select the first result, and then generate the canonical or isomeric SMILES representation:"
   ]
  },
  {
   "cell_type": "code",
   "execution_count": 3,
   "id": "working-programming",
   "metadata": {},
   "outputs": [
    {
     "data": {
      "text/plain": [
       "('CCO', 'CCO')"
      ]
     },
     "execution_count": 3,
     "metadata": {},
     "output_type": "execute_result"
    }
   ],
   "source": [
    "ethanol = pcp.get_compounds('ethanol', 'name')[0]\n",
    "ethanol.canonical_smiles, ethanol.isomeric_smiles"
   ]
  },
  {
   "cell_type": "markdown",
   "id": "decent-communication",
   "metadata": {},
   "source": [
    "We can also look up compounds by formula. If required, responses from look-ups can be returned as *pandas* dataframes:"
   ]
  },
  {
   "cell_type": "code",
   "execution_count": 4,
   "id": "elder-table",
   "metadata": {},
   "outputs": [
    {
     "data": {
      "text/html": [
       "<div>\n",
       "<style scoped>\n",
       "    .dataframe tbody tr th:only-of-type {\n",
       "        vertical-align: middle;\n",
       "    }\n",
       "\n",
       "    .dataframe tbody tr th {\n",
       "        vertical-align: top;\n",
       "    }\n",
       "\n",
       "    .dataframe thead th {\n",
       "        text-align: right;\n",
       "    }\n",
       "</style>\n",
       "<table border=\"1\" class=\"dataframe\">\n",
       "  <thead>\n",
       "    <tr style=\"text-align: right;\">\n",
       "      <th></th>\n",
       "      <th>iupac_name</th>\n",
       "      <th>molecular_formula</th>\n",
       "      <th>canonical_smiles</th>\n",
       "      <th>inchi</th>\n",
       "    </tr>\n",
       "    <tr>\n",
       "      <th>cid</th>\n",
       "      <th></th>\n",
       "      <th></th>\n",
       "      <th></th>\n",
       "      <th></th>\n",
       "    </tr>\n",
       "  </thead>\n",
       "  <tbody>\n",
       "    <tr>\n",
       "      <th>944</th>\n",
       "      <td>nitric acid</td>\n",
       "      <td>HNO3</td>\n",
       "      <td>[N+](=O)(O)[O-]</td>\n",
       "      <td>InChI=1S/HNO3/c2-1(3)4/h(H,2,3,4)</td>\n",
       "    </tr>\n",
       "    <tr>\n",
       "      <th>123349</th>\n",
       "      <td>hydroxy nitrite</td>\n",
       "      <td>HNO3</td>\n",
       "      <td>N(=O)OO</td>\n",
       "      <td>InChI=1S/HNO3/c2-1-4-3/h3H</td>\n",
       "    </tr>\n",
       "    <tr>\n",
       "      <th>12025424</th>\n",
       "      <td>deuterio nitrate</td>\n",
       "      <td>HNO3</td>\n",
       "      <td>[N+](=O)(O)[O-]</td>\n",
       "      <td>InChI=1S/HNO3/c2-1(3)4/h(H,2,3,4)/i/hD</td>\n",
       "    </tr>\n",
       "  </tbody>\n",
       "</table>\n",
       "</div>"
      ],
      "text/plain": [
       "                iupac_name molecular_formula canonical_smiles  \\\n",
       "cid                                                             \n",
       "944            nitric acid              HNO3  [N+](=O)(O)[O-]   \n",
       "123349     hydroxy nitrite              HNO3          N(=O)OO   \n",
       "12025424  deuterio nitrate              HNO3  [N+](=O)(O)[O-]   \n",
       "\n",
       "                                           inchi  \n",
       "cid                                               \n",
       "944            InChI=1S/HNO3/c2-1(3)4/h(H,2,3,4)  \n",
       "123349                InChI=1S/HNO3/c2-1-4-3/h3H  \n",
       "12025424  InChI=1S/HNO3/c2-1(3)4/h(H,2,3,4)/i/hD  "
      ]
     },
     "execution_count": 4,
     "metadata": {},
     "output_type": "execute_result"
    }
   ],
   "source": [
    "nitric_acid_df = pcp.get_compounds('HNO3', 'formula', as_dataframe=True)[:3]\n",
    "\n",
    "nitric_acid_df[['iupac_name', 'molecular_formula', 'canonical_smiles', 'inchi']]"
   ]
  },
  {
   "cell_type": "markdown",
   "id": "broad-hundred",
   "metadata": {},
   "source": [
    "Round tripping is possible by looking up a chemical using its SMILES representation and then displaying the name, for example."
   ]
  },
  {
   "cell_type": "code",
   "execution_count": 5,
   "id": "environmental-island",
   "metadata": {},
   "outputs": [
    {
     "data": {
      "text/plain": [
       "'ethanol'"
      ]
     },
     "execution_count": 5,
     "metadata": {},
     "output_type": "execute_result"
    }
   ],
   "source": [
    "#Look up by SMILES string\n",
    "compound = pcp.get_compounds('CCO', 'smiles')[0]\n",
    "compound.iupac_name"
   ]
  },
  {
   "cell_type": "markdown",
   "id": "italic-notification",
   "metadata": {},
   "source": [
    "We can also use other codes for the lookup:"
   ]
  },
  {
   "cell_type": "code",
   "execution_count": 6,
   "id": "domestic-cutting",
   "metadata": {},
   "outputs": [
    {
     "data": {
      "text/plain": [
       "'nitric acid'"
      ]
     },
     "execution_count": 6,
     "metadata": {},
     "output_type": "execute_result"
    }
   ],
   "source": [
    "pcp.get_compounds(\"InChI=1S/HNO3/c2-1(3)4/h(H,2,3,4)\",\"inchi\",\n",
    "                  as_dataframe=True).iloc[0]['iupac_name']"
   ]
  },
  {
   "cell_type": "markdown",
   "id": "worst-thread",
   "metadata": {},
   "source": [
    "The retrieved representation described a wide range of useful informational properties associated with the compound.\n",
    "\n",
    "For example, looking up the chemical formula (this is described as the *molecular formula* altough I think it's actually the *empirical formula*?):"
   ]
  },
  {
   "cell_type": "code",
   "execution_count": 7,
   "id": "modular-challenge",
   "metadata": {},
   "outputs": [
    {
     "data": {
      "text/plain": [
       "'C2H6O'"
      ]
     },
     "execution_count": 7,
     "metadata": {},
     "output_type": "execute_result"
    }
   ],
   "source": [
    "compound.molecular_formula"
   ]
  },
  {
   "cell_type": "markdown",
   "id": "reasonable-charger",
   "metadata": {},
   "source": [
    "A simple, literally stated formula can be rendered using MathJax if the `mhchem` package is imported.\n",
    "\n",
    "```{note}\n",
    "Support for rendering chemical notation using inline LaTeX markup is enabled by including the following installation requirement into a markdown cell: `$$\\require{mhchem}$$`.\n",
    "\n",
    "Formulas can then be rendered using the an inline LaTeX invocation of the form `$\\ce{C2H6O}$`.\n",
    "```\n",
    "\n",
    "$$\\require{mhchem}$$ \n",
    "For example: $\\ce{C2H6O}$"
   ]
  },
  {
   "cell_type": "markdown",
   "id": "small-declaration",
   "metadata": {},
   "source": [
    "We can also lookup various properties of the compound and use that as the basis of a custom display outputter for the `pubchempy.Compound` object."
   ]
  },
  {
   "cell_type": "code",
   "execution_count": 8,
   "id": "sixth-python",
   "metadata": {
    "tags": [
     "hide-cell",
     "remove-output"
    ]
   },
   "outputs": [],
   "source": [
    "# Create a function to display compound properties\n",
    "def pcp_compound_properties(compound):\n",
    "    \"\"\"Display various compound properties.\"\"\"\n",
    "    properties = []\n",
    "    properties.append(f'Name: <strong>{compound.iupac_name}</strong>')\n",
    "    properties.append(f'Formula: <strong>{compound.molecular_formula}</strong>')\n",
    "    properties.append(f'Common synonyms: <strong>{\", \".join(compound.synonyms[:3])}</strong>')\n",
    "    properties.append(f'SMILES: <strong>{compound.canonical_smiles}</strong>')\n",
    "    properties.append(f'cid:  <strong>{compound.cid}</strong>')\n",
    "    properties.append(f'inchi:  <strong>{compound.inchi}</strong>')\n",
    "    properties.append(f'Molecular weight: <strong>{compound.molecular_weight}</strong>')\n",
    "\n",
    "    return '<br/>'.join(properties)\n",
    "\n",
    "# Get a reference to the Compound class\n",
    "from pubchempy import Compound\n",
    "\n",
    "# Create a custom formatter for the class\n",
    "# https://ipython.readthedocs.io/en/stable/config/integrating.html \n",
    "html_formatter = get_ipython().display_formatter.formatters['text/html']\n",
    "html_formatter.for_type(Compound, pcp_compound_properties);"
   ]
  },
  {
   "cell_type": "markdown",
   "id": "collective-credit",
   "metadata": {},
   "source": [
    "That code can easily be added to a package or included and hidden within source document.\n",
    "\n",
    "Now if we call the compound we get a prettified, custom output for it:"
   ]
  },
  {
   "cell_type": "code",
   "execution_count": 9,
   "id": "funded-arthritis",
   "metadata": {},
   "outputs": [
    {
     "data": {
      "text/html": [
       "Name: <strong>ethanol</strong><br/>Formula: <strong>C2H6O</strong><br/>Common synonyms: <strong>ethanol, ethyl alcohol, alcohol</strong><br/>SMILES: <strong>CCO</strong><br/>cid:  <strong>702</strong><br/>inchi:  <strong>InChI=1S/C2H6O/c1-2-3/h3H,2H2,1H3</strong><br/>Molecular weight: <strong>46.07</strong>"
      ],
      "text/plain": [
       "Compound(702)"
      ]
     },
     "execution_count": 9,
     "metadata": {},
     "output_type": "execute_result"
    }
   ],
   "source": [
    "compound"
   ]
  },
  {
   "cell_type": "markdown",
   "id": "varying-vampire",
   "metadata": {},
   "source": [
    "## `chembl_webresource_client`\n",
    "\n",
    "The [ `chembl_webresource_client`](https://github.com/chembl/chembl_webresource_client) package provides a Python interface to [ChEMBL](https://www.ebi.ac.uk/chembl/) to support the lookup of chemical compounds by common name."
   ]
  },
  {
   "cell_type": "code",
   "execution_count": 10,
   "id": "lesser-survivor",
   "metadata": {
    "tags": [
     "remove-cell"
    ]
   },
   "outputs": [],
   "source": [
    "%%capture\n",
    "try:\n",
    "    import chembl_webresource_client\n",
    "except:\n",
    "    %pip install --upgrade chembl_webresource_client"
   ]
  },
  {
   "cell_type": "markdown",
   "id": "derived-cardiff",
   "metadata": {},
   "source": [
    "Import the package and create a reference for a molecule lookup:"
   ]
  },
  {
   "cell_type": "code",
   "execution_count": 11,
   "id": "selected-glucose",
   "metadata": {},
   "outputs": [],
   "source": [
    "from chembl_webresource_client.new_client import new_client\n",
    "\n",
    "molecule = new_client.molecule"
   ]
  },
  {
   "cell_type": "code",
   "execution_count": 12,
   "id": "occupational-andrews",
   "metadata": {
    "format": "row"
   },
   "outputs": [
    {
     "name": "stdout",
     "output_type": "stream",
     "text": [
      "ASPIRIN\n",
      "ASPIRIN EUGENOL ESTER\n",
      "ASPIRIN DL-LYSINE\n"
     ]
    }
   ],
   "source": [
    "aspirin = molecule.search('aspirin')\n",
    "\n",
    "for r in aspirin:\n",
    "    pref_name = r['pref_name']\n",
    "    if pref_name is not None:\n",
    "        print(pref_name)"
   ]
  },
  {
   "cell_type": "markdown",
   "id": "included-fellowship",
   "metadata": {},
   "source": [
    "We can also look-up syonyms of the compound, which might include trade names:"
   ]
  },
  {
   "cell_type": "code",
   "execution_count": 13,
   "id": "biblical-mirror",
   "metadata": {},
   "outputs": [
    {
     "ename": "NameError",
     "evalue": "name 'res' is not defined",
     "output_type": "error",
     "traceback": [
      "\u001b[0;31m---------------------------------------------------------------------------\u001b[0m",
      "\u001b[0;31mNameError\u001b[0m                                 Traceback (most recent call last)",
      "\u001b[0;32m<ipython-input-13-e16f6c08bea8>\u001b[0m in \u001b[0;36m<module>\u001b[0;34m\u001b[0m\n\u001b[0;32m----> 1\u001b[0;31m \u001b[0maspirin\u001b[0m \u001b[0;34m=\u001b[0m \u001b[0;34m[\u001b[0m\u001b[0mr\u001b[0m \u001b[0;32mfor\u001b[0m \u001b[0mr\u001b[0m \u001b[0;32min\u001b[0m \u001b[0mres\u001b[0m \u001b[0;32mif\u001b[0m \u001b[0mr\u001b[0m\u001b[0;34m[\u001b[0m\u001b[0;34m'pref_name'\u001b[0m\u001b[0;34m]\u001b[0m\u001b[0;34m==\u001b[0m\u001b[0;34m'ASPIRIN'\u001b[0m\u001b[0;34m]\u001b[0m\u001b[0;34m[\u001b[0m\u001b[0;36m0\u001b[0m\u001b[0;34m]\u001b[0m\u001b[0;34m\u001b[0m\u001b[0;34m\u001b[0m\u001b[0m\n\u001b[0m\u001b[1;32m      2\u001b[0m \u001b[0maspirin\u001b[0m\u001b[0;34m[\u001b[0m\u001b[0;34m'molecule_synonyms'\u001b[0m\u001b[0;34m]\u001b[0m\u001b[0;34m[\u001b[0m\u001b[0;34m:\u001b[0m\u001b[0;36m5\u001b[0m\u001b[0;34m]\u001b[0m\u001b[0;34m\u001b[0m\u001b[0;34m\u001b[0m\u001b[0m\n",
      "\u001b[0;31mNameError\u001b[0m: name 'res' is not defined"
     ]
    }
   ],
   "source": [
    "aspirin = [r for r in res if r['pref_name']=='ASPIRIN'][0]\n",
    "aspirin['molecule_synonyms'][:5]"
   ]
  },
  {
   "cell_type": "code",
   "execution_count": 108,
   "id": "detected-classroom",
   "metadata": {},
   "outputs": [],
   "source": [
    "from IPython.display import HTML\n",
    "\n",
    "# Create a function to display compound properties\n",
    "def chembl_wrc_molecule_properties(molecule):\n",
    "    \"\"\"Display various compound properties.\"\"\"\n",
    "    properties = []\n",
    "    _wikipedia_name =  [c['xref_id'] for c in molecule['cross_references'] if c[\"xref_src\"]=='Wikipedia']\n",
    "    _wikipedia_name = '' if not _wikipedia_name else _wikipedia_name[0]\n",
    "    properties.append(f'Name: <strong>{molecule[\"pref_name\"]}</strong>')\n",
    "    properties.append(f'Common Wikipedia (common) name: <strong>{_wikipedia_name}</strong>')\n",
    "    properties.append(f'Formula: <strong>{molecule[\"molecule_properties\"][\"full_molformula\"]}</strong>')\n",
    "    properties.append(f'Species: <strong>{molecule[\"molecule_properties\"][\"molecular_species\"]}</strong>')\n",
    "    properties.append(f'SMILES: <strong>{molecule[\"molecule_structures\"][\"canonical_smiles\"]}</strong>')\n",
    "    properties.append(f'inchi:  <strong>{molecule[\"molecule_structures\"][\"standard_inchi\"]}</strong>')\n",
    "    properties.append(f'CHEMBL id:  <strong>{molecule[\"molecule_chembl_id\"]}</strong>')\n",
    "    properties.append(f'Therapeutic flag: <strong>{molecule[\"therapeutic_flag\"]}</strong>')\n",
    "    properties.append(f'First approval: <strong>{molecule[\"first_approval\"]}</strong>')\n",
    "\n",
    "    return HTML('<br/>'.join(properties))"
   ]
  },
  {
   "cell_type": "code",
   "execution_count": 109,
   "id": "massive-default",
   "metadata": {},
   "outputs": [
    {
     "data": {
      "text/html": [
       "Name: <strong>ASPIRIN</strong><br/>Common Wikipedia (common) name: <strong>Aspirin</strong><br/>Formula: <strong>C9H8O4</strong><br/>Species: <strong>ACID</strong><br/>SMILES: <strong>CC(=O)Oc1ccccc1C(=O)O</strong><br/>inchi:  <strong>InChI=1S/C9H8O4/c1-6(10)13-8-5-3-2-4-7(8)9(11)12/h2-5H,1H3,(H,11,12)</strong><br/>CHEMBL id:  <strong>CHEMBL25</strong><br/>Therapeutic flag: <strong>True</strong><br/>First approval: <strong>1950</strong>"
      ],
      "text/plain": [
       "<IPython.core.display.HTML object>"
      ]
     },
     "execution_count": 109,
     "metadata": {},
     "output_type": "execute_result"
    }
   ],
   "source": [
    "chembl_wrc_molecule_properties(aspirin)"
   ]
  },
  {
   "cell_type": "markdown",
   "id": "clear-filling",
   "metadata": {},
   "source": [
    "Lookup a molecule using SMILES:"
   ]
  },
  {
   "cell_type": "code",
   "execution_count": 110,
   "id": "important-workplace",
   "metadata": {},
   "outputs": [
    {
     "data": {
      "text/html": [
       "Name: <strong>ALCOHOL</strong><br/>Common Wikipedia (common) name: <strong>Ethanol</strong><br/>Formula: <strong>C2H6O</strong><br/>Species: <strong>NEUTRAL</strong><br/>SMILES: <strong>CCO</strong><br/>inchi:  <strong>InChI=1S/C2H6O/c1-2-3/h3H,2H2,1H3</strong><br/>CHEMBL id:  <strong>CHEMBL545</strong><br/>Therapeutic flag: <strong>False</strong><br/>First approval: <strong>None</strong>"
      ],
      "text/plain": [
       "<IPython.core.display.HTML object>"
      ]
     },
     "execution_count": 110,
     "metadata": {},
     "output_type": "execute_result"
    }
   ],
   "source": [
    "from chembl_webresource_client.new_client import new_client\n",
    "\n",
    "molecule = new_client.molecule\n",
    "ethanol_chembl = molecule.get(ethanol.canonical_smiles)\n",
    "\n",
    "chembl_wrc_molecule_properties(ethanol_chembl)"
   ]
  },
  {
   "cell_type": "code",
   "execution_count": 119,
   "id": "potential-berkeley",
   "metadata": {},
   "outputs": [
    {
     "data": {
      "image/svg+xml": [
       "<svg xmlns=\"http://www.w3.org/2000/svg\" xmlns:rdkit=\"http://www.rdkit.org/xml\" xmlns:xlink=\"http://www.w3.org/1999/xlink\" version=\"1.1\" baseProfile=\"full\" xml:space=\"preserve\" width=\"300px\" height=\"300px\" viewBox=\"0 0 300 300\">\n",
       "<!-- END OF HEADER -->\n",
       "<path class=\"bond-0\" d=\"M 286.364,175.943 L 196.683,124.057\" style=\"fill:none;fill-rule:evenodd;stroke:#000000;stroke-width:2px;stroke-linecap:butt;stroke-linejoin:miter;stroke-opacity:1\"/>\n",
       "<path class=\"bond-1\" d=\"M 196.683,124.057 L 158.306,146.177\" style=\"fill:none;fill-rule:evenodd;stroke:#000000;stroke-width:2px;stroke-linecap:butt;stroke-linejoin:miter;stroke-opacity:1\"/>\n",
       "<path class=\"bond-1\" d=\"M 158.306,146.177 L 119.93,168.298\" style=\"fill:none;fill-rule:evenodd;stroke:#FF0000;stroke-width:2px;stroke-linecap:butt;stroke-linejoin:miter;stroke-opacity:1\"/>\n",
       "<text x=\"93.4133\" y=\"183.298\" style=\"font-size:15px;font-style:normal;font-weight:normal;fill-opacity:1;stroke:none;font-family:sans-serif;text-anchor:start;fill:#FF0000\"><tspan>HO</tspan></text>\n",
       "</svg>"
      ],
      "text/plain": [
       "<IPython.core.display.SVG object>"
      ]
     },
     "execution_count": 119,
     "metadata": {
      "filenames": {
       "image/svg+xml": "/Users/tonyhirst/Documents/GitHub/SubjectMatterNotebooks/src/_build/jupyter_execute/chemistry/compound_lookups_31_0.svg"
      }
     },
     "output_type": "execute_result"
    }
   ],
   "source": [
    "from IPython.display import SVG\n",
    "from chembl_webresource_client.utils import utils\n",
    "\n",
    "chembl_smiles = ethanol_chembl[\"molecule_structures\"][\"canonical_smiles\"]\n",
    "\n",
    "SVG(utils.smiles2svg(chembl_smiles))"
   ]
  },
  {
   "cell_type": "code",
   "execution_count": 6,
   "id": "wanted-jewelry",
   "metadata": {},
   "outputs": [
    {
     "data": {
      "application/vnd.jupyter.widget-view+json": {
       "model_id": "b9fc49a5045b41dfaf6ae1041dd84a9b",
       "version_major": 2,
       "version_minor": 0
      },
      "text/plain": [
       "PTableWidget(allElements=['H', 'He', 'Li', 'Be', 'B', 'C', 'N', 'O', 'F', 'Ne', 'Na', 'Mg', 'Al', 'Si', 'P', '…"
      ]
     },
     "metadata": {},
     "output_type": "display_data"
    }
   ],
   "source": [
    "#%pip install widget_periodictable\n",
    "#https://github.com/osscar-org/widget-periodictable/\n",
    "#!jupyter nbextension enable --py widget_periodictable\n",
    "from widget_periodictable import PTableWidget\n",
    "\n",
    "widget = PTableWidget(states = 3, selected_elements = {\"C\": 0, \"Si\": 1, \"Ge\": 2}, \n",
    "                      selected_colors = ['pink', 'yellow', 'lightblue'], \n",
    "                      disabled_elements = ['B', 'Al', 'Ga'],\n",
    "                      unselected_color='white', border_color = 'black', width = '20px')\n",
    "display(widget)"
   ]
  },
  {
   "cell_type": "markdown",
   "id": "floppy-future",
   "metadata": {},
   "source": [
    "The periodic table widget can return symbols for selected elements, which means we could use it as an interface element for an automated lookup of various properties of selected items.\n",
    "\n",
    "We can also use code to control which elements in the table are highlighted, we means we could also highlight elements in the table that may have been identified through some other lookup service. For example, highlight all the elements in the table contained in a particular compound."
   ]
  },
  {
   "cell_type": "code",
   "execution_count": 7,
   "id": "racial-fortune",
   "metadata": {},
   "outputs": [],
   "source": [
    "widget.selected_elements = {\"La\": 0, \"Ce\": 1, \"Pr\": 2}\n",
    "# Does this all work if we eg pop the periodic table out into a floating widget?"
   ]
  },
  {
   "cell_type": "code",
   "execution_count": 53,
   "id": "dominant-cookie",
   "metadata": {},
   "outputs": [
    {
     "data": {
      "text/plain": [
       "['4FR8',\n",
       " '4FQF',\n",
       " '2ONO',\n",
       " '2ONN',\n",
       " '2ONP',\n",
       " '2ONM',\n",
       " '2LDU',\n",
       " '5HDG',\n",
       " '5D5V',\n",
       " '5D5U',\n",
       " '3INJ',\n",
       " '3INL',\n",
       " '5HDN',\n",
       " '4PW8',\n",
       " '6UD5',\n",
       " '6VBN',\n",
       " '5TIA',\n",
       " '6PYZ',\n",
       " '6PYY',\n",
       " '6A4I',\n",
       " '5TI9']"
      ]
     },
     "execution_count": 53,
     "metadata": {},
     "output_type": "execute_result"
    }
   ],
   "source": [
    "#%pip install pypdb\n",
    "#https://github.com/williamgilpin/pypdb/blob/master/demos/demos.ipynb\n",
    "#A Python 3 toolkit for performing searches with the RCSB Protein Data Bank (PDB). \n",
    "import pypdb\n",
    "\n",
    "pypdb.Query('nitroglycerin').search()"
   ]
  },
  {
   "cell_type": "code",
   "execution_count": null,
   "id": "fitting-palestine",
   "metadata": {},
   "outputs": [],
   "source": []
  }
 ],
 "metadata": {
  "kernelspec": {
   "display_name": "Python 3",
   "language": "python",
   "name": "python3"
  },
  "language_info": {
   "codemirror_mode": {
    "name": "ipython",
    "version": 3
   },
   "file_extension": ".py",
   "mimetype": "text/x-python",
   "name": "python",
   "nbconvert_exporter": "python",
   "pygments_lexer": "ipython3",
   "version": "3.9.5"
  }
 },
 "nbformat": 4,
 "nbformat_minor": 5
}