{
 "cells": [
  {
   "cell_type": "markdown",
   "id": "cross-intellectual",
   "metadata": {},
   "source": [
    "# Audio Overview\n",
    "\n",
    "As well as embedding rich interactive *visual* assets, code can also be used to create and render audio assets.\n",
    "\n",
    "The section on *Music* provides various examples of how the `music21` package can be used to create embedded audio assets, and saved audio files, from musical scores.\n",
    "\n",
    "A wide range of signal processing packages also provide tools for manipulating and analysing audio files and we will explore some of the uses we can put them to in the creation of assets to support teaching and learning materials."
   ]
  },
  {
   "cell_type": "markdown",
   "id": "6e35435f",
   "metadata": {},
   "source": [
    "This section will also review various ways in which we can use sonification techniques to help explore or represent datasets, as well as verious ways in which we might use audio asset generation to help make our materials more accessible, in partiular by generating alternative audio representations of materials."
   ]
  },
  {
   "cell_type": "code",
   "execution_count": null,
   "id": "d7eb7b38",
   "metadata": {},
   "outputs": [],
   "source": []
  }
 ],
 "metadata": {
  "kernelspec": {
   "display_name": "Python 3",
   "language": "python",
   "name": "python3"
  },
  "language_info": {
   "codemirror_mode": {
    "name": "ipython",
    "version": 3
   },
   "file_extension": ".py",
   "mimetype": "text/x-python",
   "name": "python",
   "nbconvert_exporter": "python",
   "pygments_lexer": "ipython3",
   "version": "3.9.5"
  }
 },
 "nbformat": 4,
 "nbformat_minor": 5
}
