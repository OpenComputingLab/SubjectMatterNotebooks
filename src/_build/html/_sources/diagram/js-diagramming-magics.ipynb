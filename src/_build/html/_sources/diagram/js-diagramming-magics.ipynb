{
 "cells": [
  {
   "cell_type": "markdown",
   "id": "cognitive-weapon",
   "metadata": {},
   "source": [
    "# JavaScript Rendered Diagramming\n",
    "\n",
    "A variety of JavaScript based text to diagram tools exist that can be used to render diagrams from simple text based source scripts. Examples include:\n",
    "\n",
    "- [`js-sequence-diagrams`](https://bramp.github.io/js-sequence-diagrams/);\n",
    "- [`mermaid.js`](https://mermaid-js.github.io/mermaid/#/)\n",
    "- [timing diagrams (`wavedrom`)](https://wavedrom.com/)\n",
    "\n",
    "The [`innovationOUtside/nb_js_diagrammers`](https://github.com/innovationOUtside/nb_js_diagrammers) Python package provides a range of IPyhton magics for supporting the generation of diagrams using all these packages using simple cell block magics. "
   ]
  },
  {
   "cell_type": "markdown",
   "id": "29c92ff4",
   "metadata": {},
   "source": [
    "```{note}\n",
    "The [*Markdown preview enhanced*](https://shd101wyy.github.io/markdown-preview-enhanced/#/) VS Code extension provides a wide range of power tools to support the editing and previewing of native markdown documents. Among other things, the extension will offer rendered previews of diagrams from appropriate scripts using the `mermaid` and `wavedrom` JavaScript packages.\n",
    "\n",
    "See also: [*Previewing Sphinx and Jupyter Book Rendered Mermaid and Wavedrom Diagrams in VS Code*](https://blog.ouseful.info/2021/11/02/previewing-sphinx-and-jupyter-book-rendered-mermaid-and-wavedrom-diagrams-in-vs-code/)\n",
    "```"
   ]
  },
  {
   "cell_type": "code",
   "execution_count": null,
   "id": "53415e72",
   "metadata": {
    "tags": [
     "remove-cell"
    ]
   },
   "outputs": [],
   "source": [
    "%%capture\n",
    "try:\n",
    "    import nb_js_diagrammers\n",
    "except:\n",
    "    %pip install nb_js_diagrammers"
   ]
  },
  {
   "cell_type": "code",
   "execution_count": 1,
   "id": "cc12de11",
   "metadata": {
    "tags": [
     "hide-input"
    ]
   },
   "outputs": [],
   "source": [
    "%load_ext nb_js_diagrammers"
   ]
  },
  {
   "cell_type": "markdown",
   "id": "ca06dea2",
   "metadata": {},
   "source": [
    "## Generating Timing Diagrams With `wavedrom`"
   ]
  },
  {
   "cell_type": "code",
   "execution_count": 2,
   "id": "55baf956",
   "metadata": {},
   "outputs": [
    {
     "data": {
      "text/html": [
       "\n",
       "        <iframe\n",
       "            width=\"100%\"\n",
       "            height=\"100\"\n",
       "            src=\"wavedrom.html\"\n",
       "            frameborder=\"0\"\n",
       "            allowfullscreen\n",
       "            \n",
       "        ></iframe>\n",
       "        "
      ],
      "text/plain": [
       "<IPython.lib.display.IFrame at 0x111f434f0>"
      ]
     },
     "execution_count": 2,
     "metadata": {},
     "output_type": "execute_result"
    }
   ],
   "source": [
    "%%wavedrom_magic -h 100 -o wavedrom.html\n",
    "\n",
    "{ signal : [\n",
    "  { name: \"clk\",  wave: \"p......\" },\n",
    "  { name: \"bus\",  wave: \"x.34.5x\",   data: \"head body tail\" },\n",
    "  { name: \"wire\", wave: \"0.1..0.\" },\n",
    "]}"
   ]
  },
  {
   "cell_type": "markdown",
   "id": "74be369d",
   "metadata": {},
   "source": [
    "## Generating Diagrams Using `mermaid.js`\n",
    "\n",
    "Several diagram types can be generated using the `mermaid.js` package.\n",
    "\n",
    "For example, we can generate simple flow charts:"
   ]
  },
  {
   "cell_type": "code",
   "execution_count": 3,
   "id": "ca7ecbcd",
   "metadata": {},
   "outputs": [
    {
     "data": {
      "text/html": [
       "\n",
       "        <iframe\n",
       "            width=\"100%\"\n",
       "            height=\"500\"\n",
       "            src=\"mermaid-flowchart.html\"\n",
       "            frameborder=\"0\"\n",
       "            allowfullscreen\n",
       "            \n",
       "        ></iframe>\n",
       "        "
      ],
      "text/plain": [
       "<IPython.lib.display.IFrame at 0x111fdfd90>"
      ]
     },
     "execution_count": 3,
     "metadata": {},
     "output_type": "execute_result"
    }
   ],
   "source": [
    "%%mermaid_magic -h 500 -o mermaid-flowchart.html\n",
    "\n",
    "flowchart TD\n",
    "    A[Start] --> B{Is it?};\n",
    "    B -->|Yes| C[OK];\n",
    "    C --> D[Rethink];\n",
    "    D --> B;\n",
    "    B ---->|No| E[End];"
   ]
  },
  {
   "cell_type": "markdown",
   "id": "fd21a611",
   "metadata": {},
   "source": [
    "More generally, we can also create simple graph diagrams:"
   ]
  },
  {
   "cell_type": "code",
   "execution_count": 4,
   "id": "3ebca1c8",
   "metadata": {},
   "outputs": [
    {
     "data": {
      "text/html": [
       "\n",
       "        <iframe\n",
       "            width=\"100%\"\n",
       "            height=\"250\"\n",
       "            src=\"mermaid-graph.html\"\n",
       "            frameborder=\"0\"\n",
       "            allowfullscreen\n",
       "            \n",
       "        ></iframe>\n",
       "        "
      ],
      "text/plain": [
       "<IPython.lib.display.IFrame at 0x111f431f0>"
      ]
     },
     "execution_count": 4,
     "metadata": {},
     "output_type": "execute_result"
    }
   ],
   "source": [
    "%%mermaid_magic -h 250 -o mermaid-graph.html\n",
    "\n",
    "graph TD;\n",
    "    A-->B;\n",
    "    A-->C;\n",
    "    B-->D;\n",
    "    C-->D;"
   ]
  },
  {
   "cell_type": "markdown",
   "id": "415ff2be",
   "metadata": {},
   "source": [
    "We can also generate sequence diagrams:"
   ]
  },
  {
   "cell_type": "code",
   "execution_count": 5,
   "id": "59871973",
   "metadata": {},
   "outputs": [
    {
     "data": {
      "text/html": [
       "\n",
       "        <iframe\n",
       "            width=\"100%\"\n",
       "            height=\"350\"\n",
       "            src=\"mermaid-sequence.html\"\n",
       "            frameborder=\"0\"\n",
       "            allowfullscreen\n",
       "            \n",
       "        ></iframe>\n",
       "        "
      ],
      "text/plain": [
       "<IPython.lib.display.IFrame at 0x111f2a4c0>"
      ]
     },
     "execution_count": 5,
     "metadata": {},
     "output_type": "execute_result"
    }
   ],
   "source": [
    "%%mermaid_magic -h 350 -o mermaid-sequence.html\n",
    "\n",
    "sequenceDiagram\n",
    "    Alice->>John: Hello John, how are you?\n",
    "    John-->>Alice: Great!\n",
    "    Alice-)John: See you later!"
   ]
  },
  {
   "cell_type": "markdown",
   "id": "f4595e05",
   "metadata": {},
   "source": [
    "And entity relationship diagrams:"
   ]
  },
  {
   "cell_type": "code",
   "execution_count": 6,
   "id": "6849288c",
   "metadata": {},
   "outputs": [
    {
     "data": {
      "text/html": [
       "\n",
       "        <iframe\n",
       "            width=\"100%\"\n",
       "            height=\"330\"\n",
       "            src=\"mermaid-er.html\"\n",
       "            frameborder=\"0\"\n",
       "            allowfullscreen\n",
       "            \n",
       "        ></iframe>\n",
       "        "
      ],
      "text/plain": [
       "<IPython.lib.display.IFrame at 0x111fdfd60>"
      ]
     },
     "execution_count": 6,
     "metadata": {},
     "output_type": "execute_result"
    }
   ],
   "source": [
    "%%mermaid_magic -h 330 -o mermaid-er.html\n",
    "\n",
    "erDiagram\n",
    "    CUSTOMER ||--o{ ORDER : places\n",
    "    CUSTOMER {\n",
    "        string name\n",
    "        string custNumber\n",
    "        string sector\n",
    "    }\n",
    "    ORDER {\n",
    "        int orderNumber\n",
    "        string deliveryAddress\n",
    "    }"
   ]
  },
  {
   "cell_type": "markdown",
   "id": "a369fd27",
   "metadata": {},
   "source": [
    "## Visualising Audio Files with `wavesurfer`"
   ]
  },
  {
   "cell_type": "code",
   "execution_count": 7,
   "id": "a5ccbfdf",
   "metadata": {},
   "outputs": [
    {
     "data": {
      "text/html": [
       "\n",
       "        <iframe\n",
       "            width=\"100%\"\n",
       "            height=\"200\"\n",
       "            src=\"wavesurfer.html\"\n",
       "            frameborder=\"0\"\n",
       "            allowfullscreen\n",
       "            \n",
       "        ></iframe>\n",
       "        "
      ],
      "text/plain": [
       "<IPython.lib.display.IFrame at 0x11204cee0>"
      ]
     },
     "execution_count": 7,
     "metadata": {},
     "output_type": "execute_result"
    }
   ],
   "source": [
    "%wavesurfer_magic -o wavesurfer.html -f https://ia902606.us.archive.org/35/items/shortpoetry_047_librivox/song_cjrg_teasdale_64kb.mp3"
   ]
  },
  {
   "cell_type": "markdown",
   "id": "51bc09ca",
   "metadata": {},
   "source": [
    "## Flow Charts\n",
    "\n",
    "As well as flow charts generated using `mermaid.js` we can also use the `flowchart.js` package.\n",
    "\n",
    "In an interactive notebook, we can simply use the `%%flowchart_magic` block magic to render a flowchart from a flowchart definition."
   ]
  },
  {
   "cell_type": "markdown",
   "id": "6d3def5f",
   "metadata": {},
   "source": [
    "```{note}\n",
    "For an earlier attempt at embedding `flowchart.js` diagrams in notebooks as an `ipywidget`, see [`flowchart_js_jp_proxy_widget`](https://github.com/innovationOUtside/flowchart_js_jp_proxy_widget).\n",
    "```"
   ]
  },
  {
   "cell_type": "code",
   "execution_count": 8,
   "id": "d493902c",
   "metadata": {},
   "outputs": [
    {
     "data": {
      "text/html": [
       "\n",
       "        <iframe\n",
       "            width=\"100%\"\n",
       "            height=\"100\"\n",
       "            src=\"flowchart.html\"\n",
       "            frameborder=\"0\"\n",
       "            allowfullscreen\n",
       "            \n",
       "        ></iframe>\n",
       "        "
      ],
      "text/plain": [
       "<IPython.lib.display.IFrame at 0x112034e20>"
      ]
     },
     "execution_count": 8,
     "metadata": {},
     "output_type": "execute_result"
    }
   ],
   "source": [
    "%%flowchart_magic -h 100 -o flowchart.html\n",
    "\n",
    "st=>start: Start\n",
    "e=>end: End\n",
    "op1=>operation: Generate\n",
    "op2=>parallel: Evaluate\n",
    "st(right)->op1(right)->op2\n",
    "op2(path1, top)->op1\n",
    "op2(path2, right)->e"
   ]
  },
  {
   "cell_type": "markdown",
   "id": "1a29af1f",
   "metadata": {},
   "source": [
    "It is also possible to generate a flowchart based on the contents of a code cell (in an interactive notebook, we can do this directly using the `%%pyflowchart_magic` block magic):"
   ]
  },
  {
   "cell_type": "code",
   "execution_count": 9,
   "id": "dec246c0",
   "metadata": {},
   "outputs": [
    {
     "data": {
      "text/html": [
       "\n",
       "        <iframe\n",
       "            width=\"100%\"\n",
       "            height=\"800\"\n",
       "            src=\"pyflowchart.html\"\n",
       "            frameborder=\"0\"\n",
       "            allowfullscreen\n",
       "            \n",
       "        ></iframe>\n",
       "        "
      ],
      "text/plain": [
       "<IPython.lib.display.IFrame at 0x11202d3d0>"
      ]
     },
     "execution_count": 9,
     "metadata": {},
     "output_type": "execute_result"
    }
   ],
   "source": [
    "%%pyflowchart_magic -h 800 -o pyflowchart.html\n",
    "import time\n",
    "\n",
    "def demo(msg='demo'):\n",
    "    for i in range(10):\n",
    "        print(f'{msg} loopcount is {i}')\n",
    "        time.sleep(i)"
   ]
  },
  {
   "cell_type": "markdown",
   "id": "ff427ddb",
   "metadata": {},
   "source": [
    "Using this approach *does not* run the code however.\n",
    "\n",
    "Another approach is to have a normal code cell:"
   ]
  },
  {
   "cell_type": "code",
   "execution_count": 10,
   "id": "2f73ebd9",
   "metadata": {},
   "outputs": [],
   "source": [
    "import time\n",
    "\n",
    "def demo(msg='demo'):\n",
    "    for i in range(10):\n",
    "        print(f'{msg} loopcount is {i}')\n",
    "        time.sleep(i)"
   ]
  },
  {
   "cell_type": "markdown",
   "id": "d48faeab",
   "metadata": {},
   "source": [
    "And then capture the code from this code cell and render it."
   ]
  },
  {
   "cell_type": "code",
   "execution_count": 11,
   "id": "a7a096e2",
   "metadata": {
    "tags": [
     "hide-input"
    ]
   },
   "outputs": [],
   "source": [
    "%%capture code\n",
    "# This gets the content of the previous cell\n",
    "# and stores it in the variable: code\n",
    "%history -l 1"
   ]
  },
  {
   "cell_type": "code",
   "execution_count": 12,
   "id": "38a0aa8b",
   "metadata": {
    "tags": [
     "hide-input"
    ]
   },
   "outputs": [
    {
     "data": {
      "text/html": [
       "\n",
       "        <iframe\n",
       "            width=\"100%\"\n",
       "            height=\"800\"\n",
       "            src=\"pyflowchart_grab.html\"\n",
       "            frameborder=\"0\"\n",
       "            allowfullscreen\n",
       "            \n",
       "        ></iframe>\n",
       "        "
      ],
      "text/plain": [
       "<IPython.lib.display.IFrame at 0x11204cfd0>"
      ]
     },
     "execution_count": 12,
     "metadata": {},
     "output_type": "execute_result"
    }
   ],
   "source": [
    "from pyflowchart import Flowchart\n",
    "\n",
    "from nb_js_diagrammers.flowchartjs import TEMPLATE_FLOWCHARTJS\n",
    "from nb_js_diagrammers.magics import js_ui\n",
    "\n",
    "# Generate a flowchart from the grabbed code\n",
    "fc = Flowchart.from_code(code.stdout)\n",
    "\n",
    "# Render the flowchart\n",
    "js_ui({\"src\":fc.flowchart()}, TEMPLATE_FLOWCHARTJS,\n",
    "      out_fn='pyflowchart_grab.html', height=800)"
   ]
  }
 ],
 "metadata": {
  "celltoolbar": "Tags",
  "kernelspec": {
   "display_name": "Python 3",
   "language": "python",
   "name": "python3"
  },
  "language_info": {
   "codemirror_mode": {
    "name": "ipython",
    "version": 3
   },
   "file_extension": ".py",
   "mimetype": "text/x-python",
   "name": "python",
   "nbconvert_exporter": "python",
   "pygments_lexer": "ipython3",
   "version": "3.9.7"
  }
 },
 "nbformat": 4,
 "nbformat_minor": 5
}
