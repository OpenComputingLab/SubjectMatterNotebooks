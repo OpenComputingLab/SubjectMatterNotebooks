{
 "cells": [
  {
   "cell_type": "markdown",
   "id": "1a3bd327",
   "metadata": {},
   "source": [
    "# Sphinx / Jupyter Book Diagramming Plugins\n",
    "\n",
    "Several Sphinx plugins exist that can be used to generate diagrams from simple text descriptions wrapped in appropriately labeled fenced code blocks.\n",
    "\n",
    "For example:\n",
    "\n",
    "- [`mgaitan/sphinxcontrib-mermaid`](https://github.com/mgaitan/sphinxcontrib-mermaid#markdown-support), and\n",
    "- [`bavovanachte/sphinx-wavedrom`](https://github.com/bavovanachte/sphinx-wavedrom)"
   ]
  },
  {
   "cell_type": "markdown",
   "id": "ced7648f",
   "metadata": {},
   "source": [
    "After installing the packages from PyPi, these extensions are enabled in a Jupyter Book workflow by adding the following to the `_config.yml` file:\n",
    "\n",
    "```yaml\n",
    "sphinx:\n",
    "  extra_extensions:\n",
    "    - sphinxcontrib.mermaid\n",
    "    - sphinxcontrib.wavedrom\n",
    "```"
   ]
  },
  {
   "cell_type": "markdown",
   "id": "82f8867e",
   "metadata": {},
   "source": [
    "On inspection of the source document, the following diagram (as rendered by Jupyter Book) is actually a markdown cell containing a `{mermaid}` labeled fenced code block and appropriate diagram source script:"
   ]
  },
  {
   "cell_type": "markdown",
   "id": "a40657df",
   "metadata": {},
   "source": [
    "```{mermaid}\n",
    "\n",
    "flowchart TD\n",
    "    A[Start] --> B{Is it?};\n",
    "    B -->|Yes| C[OK];\n",
    "    C --> D[Rethink];\n",
    "    D --> B;\n",
    "    B ---->|No| E[End];\n",
    "    \n",
    "```"
   ]
  },
  {
   "cell_type": "markdown",
   "id": "b7c16394",
   "metadata": {},
   "source": [
    "On inspection of the source document, the following diagram (as rendered by Jupyter Book) is actually a markdown cell containing a `{wavedrom}` labeled fenced code block and appropriate diagram source script:"
   ]
  },
  {
   "cell_type": "markdown",
   "id": "0fd179cd",
   "metadata": {},
   "source": [
    "```{wavedrom}\n",
    "{ signal : [\n",
    "  { name: \"clk\",  wave: \"p......\" },\n",
    "  { name: \"bus\",  wave: \"x.34.5x\",   data: \"head body tail\" },\n",
    "  { name: \"wire\", wave: \"0.1..0.\" },\n",
    "]}\n",
    "```"
   ]
  },
  {
   "cell_type": "markdown",
   "id": "20b65365",
   "metadata": {},
   "source": [
    "```{note}\n",
    "See also: [Previewing Sphinx and Jupyter Book Rendered Mermaid and Wavedrom Diagrams in VS Code](https://blog.ouseful.info/2021/11/02/previewing-sphinx-and-jupyter-book-rendered-mermaid-and-wavedrom-diagrams-in-vs-code/)\n",
    "```"
   ]
  }
 ],
 "metadata": {
  "celltoolbar": "Tags",
  "kernelspec": {
   "display_name": "Python 3",
   "language": "python",
   "name": "python3"
  },
  "language_info": {
   "codemirror_mode": {
    "name": "ipython",
    "version": 3
   },
   "file_extension": ".py",
   "mimetype": "text/x-python",
   "name": "python",
   "nbconvert_exporter": "python",
   "pygments_lexer": "ipython3",
   "version": "3.9.7"
  }
 },
 "nbformat": 4,
 "nbformat_minor": 5
}
