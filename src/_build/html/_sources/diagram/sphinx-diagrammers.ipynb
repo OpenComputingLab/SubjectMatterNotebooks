{
 "cells": [
  {
   "cell_type": "markdown",
   "id": "1a3bd327",
   "metadata": {},
   "source": [
    "# Sphinx / Jupyter Book Diagramming Plugins\n",
    "\n",
    "Several Sphinx plugins exist that can be used to generate diagrams from simple text descriptions wrapped in appropriately labeled fenced code blocks.\n",
    "\n",
    "For example:\n",
    "\n",
    "- [`mgaitan/sphinxcontrib-mermaid`](https://github.com/mgaitan/sphinxcontrib-mermaid#markdown-support): a wide range of diagram types rendered using `mermaid.js`;\n",
    "- [`bavovanachte/sphinx-wavedrom`](https://github.com/bavovanachte/sphinx-wavedrom): timing diagrams rendered using `wavedrom`;\n",
    "- [`sphinx-contrib/plantuml`](https://github.com/sphinx-contrib/plantuml/): a wide range of diagram types rendered using the [*PlantUML*](https://plantuml.com/) Java package;\n",
    "- [`sphinx-contrib/tikz`](https://github.com/sphinx-contrib/tikz): renderer for LaTeX/`tikz` diagram scripts;\n",
    "- [`blockdiag/sphinxcontrib-blockdiag`](https://github.com/blockdiag/sphinxcontrib-blockdiag): renderer for `blockdiag` diagrams."
   ]
  },
  {
   "cell_type": "markdown",
   "id": "7cbf586f",
   "metadata": {
    "tags": [
     "alert-success"
    ]
   },
   "source": [
    "In many cases, Jupyter notebook extensions also exist that provide magics that can render equivalent scripts in block magicked cells to render corresponding diagrams as part of the magicked cell output."
   ]
  },
  {
   "cell_type": "markdown",
   "id": "ced7648f",
   "metadata": {},
   "source": [
    "After installing the packages from PyPi, these extensions are enabled in a Jupyter Book workflow by adding the following sort of configuration data to the `_config.yml` file:\n",
    "\n",
    "```yaml\n",
    "sphinx:\n",
    "  extra_extensions:\n",
    "    - sphinxcontrib.mermaid\n",
    "    - sphinxcontrib.wavedrom\n",
    "    - sphinxcontrib.plantuml\n",
    "    - sphinxcontrib.tikz\n",
    "    - sphinxcontrib.blockdiag\n",
    "```"
   ]
  },
  {
   "cell_type": "markdown",
   "id": "82f8867e",
   "metadata": {},
   "source": [
    "On inspection of the source document, the following diagram (as rendered by Jupyter Book) is actually a markdown cell containing a `{mermaid}` labeled fenced code block and appropriate diagram source script:"
   ]
  },
  {
   "cell_type": "markdown",
   "id": "a40657df",
   "metadata": {
    "tags": [
     "render-mermaid"
    ]
   },
   "source": [
    "```{mermaid}\n",
    "flowchart LR\n",
    "    .ipynb --jupytext--> .md--> id1{{process Markdown}}--jupytext--> ipynb2[.ipynb]\n",
    "```"
   ]
  },
  {
   "cell_type": "markdown",
   "id": "b7c16394",
   "metadata": {},
   "source": [
    "On inspection of the source document, the following diagram (as rendered by Jupyter Book) is actually a markdown cell containing a `{wavedrom}` labeled fenced code block and appropriate diagram source script:"
   ]
  },
  {
   "cell_type": "markdown",
   "id": "0fd179cd",
   "metadata": {
    "tags": [
     "render-wavedrom"
    ]
   },
   "source": [
    "```{wavedrom}\n",
    "{ signal : [\n",
    "  { name: \"clk\",  wave: \"p......\" },\n",
    "  { name: \"bus\",  wave: \"x.34.5x\",   data: \"head body tail\" },\n",
    "  { name: \"wire\", wave: \"0.1..0.\" },\n",
    "]}\n",
    "```"
   ]
  },
  {
   "cell_type": "markdown",
   "id": "91345c2a",
   "metadata": {},
   "source": [
    "On inspection of the source document, the following diagram (as rendered by Jupyter Book) is actually a markdown cell containing a `{uml}` (*PlantUML*) labeled fenced code block and appropriate diagram source script:"
   ]
  },
  {
   "cell_type": "markdown",
   "id": "b9545040",
   "metadata": {
    "tags": [
     "render-plantuml"
    ]
   },
   "source": [
    "```{uml}\n",
    "@startuml\n",
    "Alice -> Bob: Authentication Request\n",
    "Bob --> Alice: Authentication Response\n",
    "\n",
    "Alice -> Bob: Another authentication Request\n",
    "Alice <-- Bob: Another authentication Response\n",
    "@enduml\n",
    "```"
   ]
  },
  {
   "cell_type": "markdown",
   "id": "5dcc7d20",
   "metadata": {},
   "source": [
    "On inspection of the source document, the following diagram (as rendered by Jupyter Book) is actually a markdown cell containing a `{tikz}` labeled fenced code block and appropriate diagram source script:"
   ]
  },
  {
   "cell_type": "markdown",
   "id": "f2f858c4",
   "metadata": {
    "tags": [
     "render-tikz"
    ]
   },
   "source": [
    "```{tikz}\n",
    "   \\draw[thick,rounded corners=8pt]\n",
    "   (0,0)--(0,2)--(1,3.25)--(2,2)--(2,0)--(0,2)--(2,2)--(0,0)--(2,0);\n",
    "```"
   ]
  },
  {
   "cell_type": "markdown",
   "id": "d3cb128d",
   "metadata": {},
   "source": [
    "On inspection of the source document, the following diagram (as rendered by Jupyter Book) is actually a markdown cell containing a `{blockdiag}` labeled fenced code block and appropriate diagram source script:"
   ]
  },
  {
   "cell_type": "markdown",
   "id": "1bda2ee6",
   "metadata": {
    "tags": [
     "render-blockdiag"
    ]
   },
   "source": [
    "```{blockdiag}\n",
    "A -> B;\n",
    "```"
   ]
  },
  {
   "cell_type": "markdown",
   "id": "20b65365",
   "metadata": {},
   "source": [
    "```{note}\n",
    "See also: [Previewing Sphinx and Jupyter Book Rendered Mermaid and Wavedrom Diagrams in VS Code](https://blog.ouseful.info/2021/11/02/previewing-sphinx-and-jupyter-book-rendered-mermaid-and-wavedrom-diagrams-in-vs-code/)\n",
    "```"
   ]
  }
 ],
 "metadata": {
  "celltoolbar": "Tags",
  "kernelspec": {
   "display_name": "Python 3",
   "language": "python",
   "name": "python3"
  },
  "language_info": {
   "codemirror_mode": {
    "name": "ipython",
    "version": 3
   },
   "file_extension": ".py",
   "mimetype": "text/x-python",
   "name": "python",
   "nbconvert_exporter": "python",
   "pygments_lexer": "ipython3",
   "version": "3.9.7"
  }
 },
 "nbformat": 4,
 "nbformat_minor": 5
}
