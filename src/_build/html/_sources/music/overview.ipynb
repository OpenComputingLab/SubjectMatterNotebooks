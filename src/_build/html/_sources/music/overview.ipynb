{
 "cells": [
  {
   "cell_type": "markdown",
   "id": "sophisticated-paragraph",
   "metadata": {},
   "source": [
    "# Music Overview\n",
    "\n",
    "The *music* topic area is rich in opportunity for the creation of one piece production workflows. Musical scores can be created within the body of the document then rendered as sheet music as well audio files that can be played via an embedded audio player."
   ]
  },
  {
   "cell_type": "markdown",
   "id": "faced-impact",
   "metadata": {},
   "source": [
    "## `music21`\n",
    "\n",
    "The [`music21`](https://web.mit.edu/music21/) package provides a wide ranging toolkit for computer-aided musicology. "
   ]
  },
  {
   "cell_type": "code",
   "execution_count": 1,
   "id": "extreme-railway",
   "metadata": {
    "tags": [
     "remove-cell"
    ]
   },
   "outputs": [
    {
     "name": "stdout",
     "output_type": "stream",
     "text": [
      "Collecting music21\n",
      "  Downloading music21-6.7.1.tar.gz (19.2 MB)\n",
      "\u001b[K     |████████████████████████████████| 19.2 MB 8.6 MB/s eta 0:00:01\n",
      "\u001b[?25hRequirement already satisfied: chardet in /usr/local/lib/python3.9/site-packages (from music21) (3.0.4)\n",
      "Requirement already satisfied: joblib in /usr/local/lib/python3.9/site-packages (from music21) (1.0.0)\n",
      "Collecting more-itertools\n",
      "  Downloading more_itertools-8.7.0-py3-none-any.whl (48 kB)\n",
      "\u001b[K     |████████████████████████████████| 48 kB 6.4 MB/s eta 0:00:011\n",
      "\u001b[?25hRequirement already satisfied: webcolors in /usr/local/lib/python3.9/site-packages (from music21) (1.11.1)\n",
      "Building wheels for collected packages: music21\n",
      "  Building wheel for music21 (setup.py) ... \u001b[?25ldone\n",
      "\u001b[?25h  Created wheel for music21: filename=music21-6.7.1-py3-none-any.whl size=21941692 sha256=b63218e83b09dbdc74839ee3729dce50239099234bc9d5a6d9c14914d6bb5058\n",
      "  Stored in directory: /Users/tonyhirst/Library/Caches/pip/wheels/71/cb/93/dc4747504212dcec3fed965cfab9589750f8b337ca7c451ff1\n",
      "Successfully built music21\n",
      "Installing collected packages: more-itertools, music21\n",
      "Successfully installed more-itertools-8.7.0 music21-6.7.1\n",
      "\u001b[33mWARNING: You are using pip version 21.0.1; however, version 21.1.1 is available.\n",
      "You should consider upgrading via the '/usr/local/opt/python@3.9/bin/python3.9 -m pip install --upgrade pip' command.\u001b[0m\n",
      "Note: you may need to restart the kernel to use updated packages.\n"
     ]
    }
   ],
   "source": [
    "%%capture\n",
    "try:\n",
    "    import music21\n",
    "except:\n",
    "    %pip install --upgrade music21"
   ]
  },
  {
   "cell_type": "code",
   "execution_count": 1,
   "id": "atomic-format",
   "metadata": {},
   "outputs": [],
   "source": [
    "from music21 import *"
   ]
  },
  {
   "cell_type": "code",
   "execution_count": 2,
   "id": "casual-grave",
   "metadata": {},
   "outputs": [
    {
     "data": {
      "text/plain": [
       "<music21.chord.Chord C4 E4 G4>"
      ]
     },
     "execution_count": 2,
     "metadata": {},
     "output_type": "execute_result"
    }
   ],
   "source": [
    "c = chord.Chord(\"C4 E4 G4\")\n",
    "c"
   ]
  },
  {
   "cell_type": "code",
   "execution_count": 3,
   "id": "stupid-lawsuit",
   "metadata": {},
   "outputs": [
    {
     "data": {
      "image/png": "[encoded data removed]",
      "text/plain": [
       "<IPython.core.display.Image object>"
      ]
     },
     "metadata": {
      "image/png": {
       "height": 50,
       "width": 136
      }
     },
     "output_type": "display_data"
    }
   ],
   "source": [
    "c.show()"
   ]
  },
  {
   "cell_type": "code",
   "execution_count": 12,
   "id": "proprietary-swift",
   "metadata": {},
   "outputs": [],
   "source": [
    "import os\n",
    "from IPython.display import Audio\n",
    "\n",
    "c = chord.Chord(\"C4 E4 G4\")\n"
   ]
  },
  {
   "cell_type": "code",
   "execution_count": 13,
   "id": "touched-violin",
   "metadata": {},
   "outputs": [
    {
     "data": {
      "text/html": [
       "\n",
       "                <div id='midiPlayerDiv141'></div>\n",
       "                <link rel=\"stylesheet\" href=\"//cuthbertLab.github.io/music21j/css/m21.css\"\n",
       "                    type=\"text/css\" />\n",
       "                <script>\n",
       "                require.config({\n",
       "                    paths: {'music21': '//cuthbertLab.github.io/music21j/src/music21'}\n",
       "                });\n",
       "                require(['music21'], function() {\n",
       "                               mp = new music21.miditools.MidiPlayer();\n",
       "                               mp.addPlayer('#midiPlayerDiv141');\n",
       "                               mp.base64Load('data:audio/midi;base64,TVRoZAAAAAYAAQACBABNVHJrAAAAFAD/UQMHoSAA/1gEBAIYCIgA/y8ATVRyawAAACcA/wMAAOAAQIgAkDxaAJBAWgCQQ1qIAIA8AACAQAAAgEMAiAD/LwA=');\n",
       "                        });\n",
       "                </script>"
      ],
      "text/plain": [
       "<IPython.core.display.HTML object>"
      ]
     },
     "metadata": {},
     "output_type": "display_data"
    }
   ],
   "source": [
    "c.show('midi')"
   ]
  },
  {
   "cell_type": "code",
   "execution_count": 7,
   "id": "qualified-northeast",
   "metadata": {},
   "outputs": [
    {
     "data": {
      "image/png": "[encoded data removed]",
      "text/plain": [
       "<IPython.core.display.Image object>"
      ]
     },
     "metadata": {
      "image/png": {
       "height": 46,
       "width": 366
      }
     },
     "output_type": "display_data"
    }
   ],
   "source": [
    "from music21 import converter\n",
    "s = converter.parse('tinyNotation: 4/4 C4 D4 E4 F4 G4 A4 B4 c4')\n",
    "s.show()"
   ]
  },
  {
   "cell_type": "code",
   "execution_count": 8,
   "id": "julian-provincial",
   "metadata": {},
   "outputs": [
    {
     "data": {
      "text/html": [
       "\n",
       "                <div id='midiPlayerDiv493'></div>\n",
       "                <link rel=\"stylesheet\" href=\"//cuthbertLab.github.io/music21j/css/m21.css\"\n",
       "                    type=\"text/css\" />\n",
       "                <script>\n",
       "                require.config({\n",
       "                    paths: {'music21': '//cuthbertLab.github.io/music21j/src/music21'}\n",
       "                });\n",
       "                require(['music21'], function() {\n",
       "                               mp = new music21.miditools.MidiPlayer();\n",
       "                               mp.addPlayer('#midiPlayerDiv493');\n",
       "                               mp.base64Load('data:audio/midi;base64,TVRoZAAAAAYAAQACBABNVHJrAAAAFAD/UQMHoSAA/1gEBAIYCIgA/y8ATVRyawAAAFYA/wMAAOAAQIgAkDBaiACAMAAAkDJaiACAMgAAkDRaiACANAAAkDVaiACANQAAkDdaiACANwAAkDlaiACAOQAAkDtaiACAOwAAkDxaiACAPACIAP8vAA==');\n",
       "                        });\n",
       "                </script>"
      ],
      "text/plain": [
       "<IPython.core.display.HTML object>"
      ]
     },
     "metadata": {},
     "output_type": "display_data"
    }
   ],
   "source": [
    "s.show('midi')"
   ]
  },
  {
   "cell_type": "markdown",
   "id": "mechanical-fiber",
   "metadata": {},
   "source": [
    "## Tiny Notation"
   ]
  },
  {
   "cell_type": "code",
   "execution_count": 1,
   "id": "united-singles",
   "metadata": {},
   "outputs": [
    {
     "data": {
      "text/plain": [
       "True"
      ]
     },
     "execution_count": 1,
     "metadata": {},
     "output_type": "execute_result"
    }
   ],
   "source": [
    "from music21 import chord\n",
    "\n",
    "c = chord.Chord(\"C4 E4 G4\")\n",
    "c.isConsonant()"
   ]
  },
  {
   "cell_type": "code",
   "execution_count": 3,
   "id": "given-edward",
   "metadata": {},
   "outputs": [
    {
     "data": {
      "image/png": "[encoded data removed]",
      "text/plain": [
       "<IPython.core.display.Image object>"
      ]
     },
     "metadata": {
      "image/png": {
       "height": 50,
       "width": 136
      }
     },
     "output_type": "display_data"
    }
   ],
   "source": [
    "c.show()"
   ]
  },
  {
   "cell_type": "code",
   "execution_count": 5,
   "id": "challenging-wesley",
   "metadata": {},
   "outputs": [
    {
     "data": {
      "image/png": "[encoded data removed]",
      "text/plain": [
       "<IPython.core.display.Image object>"
      ]
     },
     "metadata": {
      "image/png": {
       "height": 46,
       "width": 366
      }
     },
     "output_type": "display_data"
    }
   ],
   "source": [
    "from music21 import converter\n",
    "\n",
    "s = converter.parse('tinyNotation: 4/4 C4 D4 E4 F4 G4 A4 B4 c4')\n",
    "\n",
    "s.show()"
   ]
  },
  {
   "cell_type": "code",
   "execution_count": 7,
   "id": "encouraging-jimmy",
   "metadata": {},
   "outputs": [
    {
     "data": {
      "image/png": "[encoded data removed]",
      "text/plain": [
       "<IPython.core.display.Image object>"
      ]
     },
     "metadata": {
      "image/png": {
       "height": 290,
       "width": 750
      }
     },
     "output_type": "display_data"
    }
   ],
   "source": [
    "from music21 import corpus\n",
    "\n",
    "myBach = corpus.parse('bach/bwv57.8')\n",
    "alto = myBach.parts['Alto']\n",
    "\n",
    "alto.show()"
   ]
  },
  {
   "cell_type": "code",
   "execution_count": 8,
   "id": "assisted-newman",
   "metadata": {},
   "outputs": [
    {
     "data": {
      "text/html": [
       "\n",
       "                <div id='midiPlayerDiv3252'></div>\n",
       "                <link rel=\"stylesheet\" href=\"//cuthbertLab.github.io/music21j/css/m21.css\"\n",
       "                    type=\"text/css\" />\n",
       "                <script>\n",
       "                require.config({\n",
       "                    paths: {'music21': '//cuthbertLab.github.io/music21j/src/music21'}\n",
       "                });\n",
       "                require(['music21'], function() {\n",
       "                               mp = new music21.miditools.MidiPlayer();\n",
       "                               mp.addPlayer('#midiPlayerDiv3252');\n",
       "                               mp.base64Load('data:audio/midi;base64,TVRoZAAAAAYAAQACBABNVHJrAAAAKQD/UQMHoSAA/1kC/gAA/1gEAwIYCPgA/1kC/gAA/1gEAwIYCIgA/y8ATVRyawAAAfQA/wMEQWx0bwDgAEAAwACIAJBBWogAgEEAAJBBWogAgEEAAJBBWogAgEEAAJBBWowAgEEAAJBBWoQAgEEAAJBDWogAgEMAAJA8WogAgDwAAJA8WogAgDwAAJA8WogAgDwAAJBBWogAgEEAAJBDWoQAgEMAAJBFWoQAgEUAAJBGWoQAgEYAAJBIWoQAgEgAAJBFWpAAgEUAAJBBWogAgEEAAJBBWogAgEEAAJBBWogAgEEAAJBBWogAgEEAAJBBWowAgEEAAJBBWoQAgEEAAJBDWogAgEMAAJA8WogAgDwAAJA8WogAgDwAAJA8WogAgDwAAJBBWogAgEEAAJBDWoQAgEMAAJBFWoQAgEUAAJBGWoQAgEYAAJBIWoQAgEgAAJBFWpAAgEUAAJBBWogAgEEAAJBGWogAgEYAAJBFWogAgEUAAJBBWogAgEEAAJBGWpAAgEYAiACQRlqIAIBGAACQRlqIAIBGAACQRVqEAIBFAACQQ1qEAIBDAACQQVqIAIBBAACQRlqIAIBGAACQQ1qIAIBDAACQRVqQAIBFAIgAkEFaiACAQQAAkDxaiACAPAAAkDxaiACAPAAAkDpaiACAOgAAkEFaiACAQQAAkEFaiACAQQAAkEFajACAQQAAkD9ahACAPwAAkD5aiACAPgCIAP8vAA==');\n",
       "                        });\n",
       "                </script>"
      ],
      "text/plain": [
       "<IPython.core.display.HTML object>"
      ]
     },
     "metadata": {},
     "output_type": "display_data"
    }
   ],
   "source": [
    "alto.show('midi')"
   ]
  },
  {
   "cell_type": "code",
   "execution_count": null,
   "id": "moved-reviewer",
   "metadata": {},
   "outputs": [],
   "source": []
  }
 ],
 "metadata": {
  "celltoolbar": "Tags",
  "kernelspec": {
   "display_name": "Python 3",
   "language": "python",
   "name": "python3"
  },
  "language_info": {
   "codemirror_mode": {
    "name": "ipython",
    "version": 3
   },
   "file_extension": ".py",
   "mimetype": "text/x-python",
   "name": "python",
   "nbconvert_exporter": "python",
   "pygments_lexer": "ipython3",
   "version": "3.9.5"
  }
 },
 "nbformat": 4,
 "nbformat_minor": 5
}
