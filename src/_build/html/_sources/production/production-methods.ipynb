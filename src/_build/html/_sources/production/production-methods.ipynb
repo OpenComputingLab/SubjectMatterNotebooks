{
 "cells": [
  {
   "cell_type": "markdown",
   "id": "ab634706",
   "metadata": {},
   "source": [
    "# Production Methods\n",
    "\n",
    "What, then are the means of production of generative works?\n",
    "\n",
    "\n",
    "## Reproducible -ish\n",
    "All a nonsense - the work is not complete, it requires a significant amount additional packages, although complete in sense of:\n",
    "\n",
    "- package formally included (for example, a Python `import` statement, an R `library()` call;\n",
    "- hidden package installation code *in the source document* to check for the presence of a package and install it if it isn't available;\n",
    "- requirements files that specify required packages (where a package is itself a requirement of another package, we might just declare that package, rather than its requirements, as required.\n",
    "- a build recipe such as a Dockerfile;\n",
    "- a dependent self-contained execution environment, such as a Docker image, that is self-contained BUT has a dependency on a non-operating system application to work;\n",
    "- an independent self-contained execution environment such as a desktop application that bundles all it's requirements (no additional installation required) and will run on a specified desktop;\n",
    "- a self-contained bootable medium such as an SD card preinstalled with an operating system and execution environment that can be used directly by a physical computing device such as a Rapsberry Pi;\n",
    "- a physical computer with aan operating system and the required environment (for example, a Raspberry Pi running an operating system that runs Docker that runs a container specifiying our execution environment."
   ]
  },
  {
   "cell_type": "markdown",
   "id": "e38286fd",
   "metadata": {},
   "source": [
    "## Loopback Methods\n",
    "\n",
    "In which the script generates an asset, such as an audio file or image file, and then that object is loaded back into the source document and rendered. As well as a the finished document, we also get assets that are included in output document, but they are seondary in the sense that we can always regenerate them if we need to."
   ]
  },
  {
   "cell_type": "markdown",
   "id": "066e27f0",
   "metadata": {},
   "source": [
    "## Jupyter Book Workflows"
   ]
  },
  {
   "cell_type": "markdown",
   "id": "9fecec10",
   "metadata": {},
   "source": [
    "## `bookdown` Workflows"
   ]
  }
 ],
 "metadata": {
  "kernelspec": {
   "display_name": "Python 3",
   "language": "python",
   "name": "python3"
  },
  "language_info": {
   "codemirror_mode": {
    "name": "ipython",
    "version": 3
   },
   "file_extension": ".py",
   "mimetype": "text/x-python",
   "name": "python",
   "nbconvert_exporter": "python",
   "pygments_lexer": "ipython3",
   "version": "3.9.5"
  }
 },
 "nbformat": 4,
 "nbformat_minor": 5
}
