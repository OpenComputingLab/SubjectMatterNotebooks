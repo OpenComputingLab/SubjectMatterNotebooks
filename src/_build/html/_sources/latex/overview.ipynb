{
 "cells": [
  {
   "cell_type": "markdown",
   "id": "considered-burke",
   "metadata": {},
   "source": [
    "# LaTeX Overview\n",
    "\n",
    "Rendering of inline `LaTex` is supportedly natively within Jupyter notebooks and Jupyter Book publishing workflows.\n",
    "\n",
    "$$f(x) = x^2 +x - \\sin(x)$$"
   ]
  },
  {
   "cell_type": "markdown",
   "id": "a675bf60",
   "metadata": {},
   "source": [
    "## Rendering `tikz` Diagrams\n",
    "\n",
    "In a Jupyter Book workflow, the [`sphinx-contrib/tikz`](https://github.com/sphinx-contrib/tikz) renderer can be used to render `tikz` diagrams from `tikz` scripts in appropriately labeled fenced code blocks."
   ]
  },
  {
   "cell_type": "markdown",
   "id": "14490b7f",
   "metadata": {},
   "source": [
    "```{tikz}\n",
    "\\draw[thick,rounded corners=8pt]\n",
    "(0,0)--(0,2)--(1,3.25)--(2,2)--(2,0)--(0,2)--(2,2)--(0,0)--(2,0);\n",
    "```"
   ]
  },
  {
   "cell_type": "markdown",
   "id": "b5cd2048",
   "metadata": {},
   "source": [
    "The [`innovationOUtside/ipython_magic_tikz`](https://github.com/innovationOUtside/ipython_magic_tikz) IPython magic can also be used to render `tikz` defined diagrams inside a notebook from an appropriately magicked code cell:"
   ]
  },
  {
   "cell_type": "code",
   "execution_count": 1,
   "id": "27ff553d",
   "metadata": {
    "tags": [
     "render-tikz"
    ]
   },
   "outputs": [],
   "source": [
    "%load_ext tikz_magic"
   ]
  },
  {
   "cell_type": "code",
   "execution_count": 2,
   "id": "3c59730b",
   "metadata": {},
   "outputs": [
    {
     "data": {
      "image/png": "[encoded data removed]",
      "text/plain": [
       "<IPython.core.display.Image object>"
      ]
     },
     "execution_count": 2,
     "metadata": {},
     "output_type": "execute_result"
    }
   ],
   "source": [
    "%%tikz\n",
    "\\draw[thick,rounded corners=8pt]\n",
    "(0,0)--(0,2)--(1,3.25)--(2,2)--(2,0)--(0,2)--(2,2)--(0,0)--(2,0);"
   ]
  },
  {
   "cell_type": "code",
   "execution_count": null,
   "id": "baf79451",
   "metadata": {},
   "outputs": [],
   "source": []
  }
 ],
 "metadata": {
  "celltoolbar": "Tags",
  "kernelspec": {
   "display_name": "Python 3",
   "language": "python",
   "name": "python3"
  },
  "language_info": {
   "codemirror_mode": {
    "name": "ipython",
    "version": 3
   },
   "file_extension": ".py",
   "mimetype": "text/x-python",
   "name": "python",
   "nbconvert_exporter": "python",
   "pygments_lexer": "ipython3",
   "version": "3.9.7"
  }
 },
 "nbformat": 4,
 "nbformat_minor": 5
}
