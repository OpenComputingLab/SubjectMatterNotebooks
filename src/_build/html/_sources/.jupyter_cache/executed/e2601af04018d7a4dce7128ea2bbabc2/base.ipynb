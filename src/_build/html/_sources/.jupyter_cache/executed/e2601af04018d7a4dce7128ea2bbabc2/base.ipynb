{
 "cells": [
  {
   "cell_type": "code",
   "execution_count": 1,
   "id": "thick-farming",
   "metadata": {},
   "outputs": [
    {
     "data": {
      "application/papermill.record/text/plain": "'ethanol'"
     },
     "metadata": {
      "scrapbook": {
       "mime_prefix": "application/papermill.record/",
       "name": "compound"
      }
     },
     "output_type": "display_data"
    }
   ],
   "source": [
    "#Provide the common name of a compound\n",
    "compound_name = \"ethanol\"\n",
    "\n",
    "# Create a reference to a value we can use in our markdown text\n",
    "from myst_nb import glue\n",
    "\n",
    "glue(\"compound\", compound_name, display=False)"
   ]
  },
  {
   "cell_type": "code",
   "execution_count": 2,
   "id": "stable-arbor",
   "metadata": {},
   "outputs": [],
   "source": [
    "import pubchempy as pcp\n",
    "\n",
    "_compound = pcp.get_compounds(compound_name, 'name')[0]\n",
    "_compound_latex = '$\\ce{'+_compound.molecular_formula+'}$' "
   ]
  },
  {
   "cell_type": "code",
   "execution_count": 3,
   "id": "outdoor-rebel",
   "metadata": {},
   "outputs": [
    {
     "data": {
      "text/latex": [
       "$\\ce{C2H6O}$"
      ],
      "text/plain": [
       "<IPython.core.display.Latex object>"
      ]
     },
     "execution_count": 3,
     "metadata": {},
     "output_type": "execute_result"
    }
   ],
   "source": [
    "from IPython.display import Latex\n",
    "\n",
    "Latex('$\\ce{'+_compound.molecular_formula+'}$')"
   ]
  },
  {
   "cell_type": "code",
   "execution_count": 4,
   "id": "random-czech",
   "metadata": {},
   "outputs": [
    {
     "data": {
      "application/papermill.record/text/latex": "$\\ce{C2H6O}$",
      "application/papermill.record/text/plain": "<IPython.core.display.Latex object>"
     },
     "metadata": {
      "scrapbook": {
       "mime_prefix": "application/papermill.record/",
       "name": "compound_latex"
      }
     },
     "output_type": "display_data"
    }
   ],
   "source": [
    "glue(\"compound_latex\", Latex('$\\ce{'+_compound.molecular_formula+'}$'), display=False)"
   ]
  },
  {
   "cell_type": "code",
   "execution_count": 5,
   "id": "fatal-minneapolis",
   "metadata": {},
   "outputs": [
    {
     "data": {
      "application/3dmoljs_load.v0": "<div id=\"3dmolviewer_1621937605231422\"  style=\"position: relative; width: 640px; height: 480px\">\n        <p id=\"3dmolwarning_1621937605231422\" style=\"background-color:#ffcccc;color:black\">You appear to be running in JupyterLab (or JavaScript failed to load for some other reason).  You need to install the 3dmol extension: <br>\n        <tt>jupyter labextension install jupyterlab_3dmol</tt></p>\n        </div>\n<script>\n\nvar loadScriptAsync = function(uri){\n  return new Promise((resolve, reject) => {\n    var tag = document.createElement('script');\n    tag.src = uri;\n    tag.async = true;\n    tag.onload = () => {\n      resolve();\n    };\n  var firstScriptTag = document.getElementsByTagName('script')[0];\n  firstScriptTag.parentNode.insertBefore(tag, firstScriptTag);\n});\n};\n\nif(typeof $3Dmolpromise === 'undefined') {\n$3Dmolpromise = null;\n  $3Dmolpromise = loadScriptAsync('https://3dmol.org/build/3Dmol.js');\n}\n\nvar viewer_1621937605231422 = null;\nvar warn = document.getElementById(\"3dmolwarning_1621937605231422\");\nif(warn) {\n    warn.parentNode.removeChild(warn);\n}\n$3Dmolpromise.then(function() {\nviewer_1621937605231422 = $3Dmol.createViewer($(\"#3dmolviewer_1621937605231422\"),{backgroundColor:\"white\"});\n$3Dmol.download(\"cid:702\", viewer_1621937605231422, {}, function() {\nviewer_1621937605231422.zoomTo();\n\tviewer_1621937605231422.setStyle({\"stick\": {\"radius\": 0.1}, \"sphere\": {\"scale\": 0.25}});\nviewer_1621937605231422.render();\n})\n});\n</script>",
      "text/html": [
       "<div id=\"3dmolviewer_1621937605231422\"  style=\"position: relative; width: 640px; height: 480px\">\n",
       "        <p id=\"3dmolwarning_1621937605231422\" style=\"background-color:#ffcccc;color:black\">You appear to be running in JupyterLab (or JavaScript failed to load for some other reason).  You need to install the 3dmol extension: <br>\n",
       "        <tt>jupyter labextension install jupyterlab_3dmol</tt></p>\n",
       "        </div>\n",
       "<script>\n",
       "\n",
       "var loadScriptAsync = function(uri){\n",
       "  return new Promise((resolve, reject) => {\n",
       "    var tag = document.createElement('script');\n",
       "    tag.src = uri;\n",
       "    tag.async = true;\n",
       "    tag.onload = () => {\n",
       "      resolve();\n",
       "    };\n",
       "  var firstScriptTag = document.getElementsByTagName('script')[0];\n",
       "  firstScriptTag.parentNode.insertBefore(tag, firstScriptTag);\n",
       "});\n",
       "};\n",
       "\n",
       "if(typeof $3Dmolpromise === 'undefined') {\n",
       "$3Dmolpromise = null;\n",
       "  $3Dmolpromise = loadScriptAsync('https://3dmol.org/build/3Dmol.js');\n",
       "}\n",
       "\n",
       "var viewer_1621937605231422 = null;\n",
       "var warn = document.getElementById(\"3dmolwarning_1621937605231422\");\n",
       "if(warn) {\n",
       "    warn.parentNode.removeChild(warn);\n",
       "}\n",
       "$3Dmolpromise.then(function() {\n",
       "viewer_1621937605231422 = $3Dmol.createViewer($(\"#3dmolviewer_1621937605231422\"),{backgroundColor:\"white\"});\n",
       "$3Dmol.download(\"cid:702\", viewer_1621937605231422, {}, function() {\n",
       "viewer_1621937605231422.zoomTo();\n",
       "\tviewer_1621937605231422.setStyle({\"stick\": {\"radius\": 0.1}, \"sphere\": {\"scale\": 0.25}});\n",
       "viewer_1621937605231422.render();\n",
       "})\n",
       "});\n",
       "</script>"
      ]
     },
     "metadata": {},
     "output_type": "display_data"
    }
   ],
   "source": [
    "import py3Dmol\n",
    "\n",
    "# Lookup a molecule using its CID (PubChem Compound Identification) code\n",
    "p=py3Dmol.view(query = f'cid:{_compound.cid}')\n",
    "\n",
    "# Set the render style\n",
    "p.setStyle({'stick': {'radius': .1}, 'sphere': {'scale': 0.25}})\n",
    "p.show()"
   ]
  }
 ],
 "metadata": {
  "kernelspec": {
   "display_name": "Python 3",
   "language": "python",
   "name": "python3"
  },
  "language_info": {
   "codemirror_mode": {
    "name": "ipython",
    "version": 3
   },
   "file_extension": ".py",
   "mimetype": "text/x-python",
   "name": "python",
   "nbconvert_exporter": "python",
   "pygments_lexer": "ipython3",
   "version": "3.9.5"
  }
 },
 "nbformat": 4,
 "nbformat_minor": 5
}