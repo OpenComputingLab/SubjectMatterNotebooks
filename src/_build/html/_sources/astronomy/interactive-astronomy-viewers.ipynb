{
 "cells": [
  {
   "cell_type": "markdown",
   "id": "magnetic-despite",
   "metadata": {},
   "source": [
    "# Astronomy — Interactive Viewers\n",
    "\n",
    "Several interactive widgets are available that allow interactive exploration of various astronomical image collections.\n",
    "\n",
    "\n",
    "```{warning}\n",
    "Many interactive `ipywidgets` will only work in the context of a live notebook.\n",
    "```"
   ]
  },
  {
   "cell_type": "markdown",
   "id": "senior-excerpt",
   "metadata": {},
   "source": [
    "## `ipyaladin`"
   ]
  },
  {
   "cell_type": "code",
   "execution_count": 4,
   "id": "sufficient-conclusion",
   "metadata": {
    "tags": [
     "remove-cell"
    ]
   },
   "outputs": [],
   "source": [
    "%%capture\n",
    "try:\n",
    "    import ipyaladin\n",
    "except:\n",
    "    %pip install ipyaladin\n",
    "    %pip install astroquery\n",
    "    !jupyter nbextension enable --py widgetsnbextension\n",
    "    !jupyter nbextension enable --py --sys-prefix ipyaladin"
   ]
  },
  {
   "cell_type": "code",
   "execution_count": 20,
   "id": "naughty-marathon",
   "metadata": {
    "scrolled": true
   },
   "outputs": [
    {
     "data": {
      "application/vnd.jupyter.widget-view+json": {
       "model_id": "ca7198e0a03e4c58aa470315dfc495c7",
       "version_major": 2,
       "version_minor": 0
      },
      "text/plain": [
       "Aladin(fov=1.0, options=['allow_full_zoomout', 'coo_frame', 'fov', 'full_screen', 'log', 'overlay_survey', 'ov…"
      ]
     },
     "metadata": {},
     "output_type": "display_data"
    }
   ],
   "source": [
    "import ipyaladin as ipyal\n",
    "\n",
    "aladin= ipyal.Aladin(target='messier 51', fov=1)\n",
    "\n",
    "# When using this in an interactive notebook,\n",
    "# we can use https://github.com/innovationOUtside/nb_cell_dialog extension\n",
    "# to pop the cell or cell ouput out into a floating widget \n",
    "# rather than have it anchored in a fixed place in the linear flow of a notebook\n",
    "aladin"
   ]
  },
  {
   "cell_type": "markdown",
   "id": "normal-intro",
   "metadata": {},
   "source": [
    "```{note}\n",
    "If the [`nb_cell_dialog`](https://github.com/innovationOUtside/nb_cell_dialog) extension is installed, the widget can be popped out of the code cell output area and into its own floating widget. This allows the widget to remain in view as commands are issued throughout the notebook to change the WWT view rendered by it.\n",
    "```\n",
    "\n",
    "Set a new target object by name:"
   ]
  },
  {
   "cell_type": "code",
   "execution_count": 12,
   "id": "loaded-poker",
   "metadata": {},
   "outputs": [],
   "source": [
    "aladin.target='M82'"
   ]
  },
  {
   "cell_type": "markdown",
   "id": "informational-distribution",
   "metadata": {},
   "source": [
    "Set the zoom level:"
   ]
  },
  {
   "cell_type": "code",
   "execution_count": 13,
   "id": "loved-charm",
   "metadata": {},
   "outputs": [],
   "source": [
    "aladin.fov=0.3"
   ]
  },
  {
   "cell_type": "markdown",
   "id": "owned-gnome",
   "metadata": {},
   "source": [
    "Enable the layers control in the widget:"
   ]
  },
  {
   "cell_type": "code",
   "execution_count": 24,
   "id": "juvenile-inspiration",
   "metadata": {},
   "outputs": [],
   "source": [
    "aladin.show_layers_control=True"
   ]
  },
  {
   "cell_type": "markdown",
   "id": "tender-registrar",
   "metadata": {},
   "source": [
    "Set a layer explicitly:"
   ]
  },
  {
   "cell_type": "code",
   "execution_count": 26,
   "id": "continued-soundtrack",
   "metadata": {},
   "outputs": [],
   "source": [
    "aladin.survey = 'P/2MASS/color'"
   ]
  },
  {
   "cell_type": "markdown",
   "id": "parental-maine",
   "metadata": {},
   "source": [
    "Look up objects in a particular area:"
   ]
  },
  {
   "cell_type": "code",
   "execution_count": 9,
   "id": "induced-absolute",
   "metadata": {},
   "outputs": [],
   "source": [
    "from astroquery.simbad import Simbad\n",
    "\n",
    "table = Simbad.query_region(\"M82\", radius=\"4 arcmin\")"
   ]
  },
  {
   "cell_type": "markdown",
   "id": "formal-cause",
   "metadata": {},
   "source": [
    "And overlay objects on the image in the widget viewer:"
   ]
  },
  {
   "cell_type": "code",
   "execution_count": 10,
   "id": "speaking-configuration",
   "metadata": {},
   "outputs": [],
   "source": [
    "aladin.add_table(table)"
   ]
  },
  {
   "cell_type": "markdown",
   "id": "flush-estate",
   "metadata": {},
   "source": [
    "## `pywwt`\n",
    "\n",
    "The [`pywwt`](https://pywwt.readthedocs.io/en/stable/settings.html) package provides an interactive widget for making observations using the [AAS World Wide Telescope](http://www.worldwidetelescope.org/home/), a suite of tools that provide access to a wide variety of astronomical visualisations.\n",
    "\n",
    "Start by loading the default widget:"
   ]
  },
  {
   "cell_type": "code",
   "execution_count": 2,
   "id": "express-belize",
   "metadata": {
    "tags": [
     "remove-cell"
    ]
   },
   "outputs": [],
   "source": [
    "%%capture\n",
    "try:\n",
    "    import pywwt\n",
    "except:\n",
    "    %pip install pywwt\n",
    "    !jupyter nbextension install --py --symlink --sys-prefix pywwt\n",
    "    !jupyter nbextension enable --py --sys-prefix pywwt\n",
    "    !jupyter serverextension enable --py --sys-prefix pywwt\n",
    "    %pip install git+https://github.com/innovationOUtside/nb_cell_dialog.git"
   ]
  },
  {
   "cell_type": "code",
   "execution_count": 32,
   "id": "piano-success",
   "metadata": {},
   "outputs": [
    {
     "data": {
      "application/vnd.jupyter.widget-view+json": {
       "model_id": "3a9611cfb890491cb6d28d6a621b8ad7",
       "version_major": 2,
       "version_minor": 0
      },
      "text/plain": [
       "WWTJupyterWidget(layout=Layout(align_self='stretch', height='400px'))"
      ]
     },
     "metadata": {},
     "output_type": "display_data"
    }
   ],
   "source": [
    "from pywwt.jupyter import WWTJupyterWidget\n",
    "\n",
    "wwt = WWTJupyterWidget()\n",
    "\n",
    "# When using this in an interactive notebook,\n",
    "# we can use https://github.com/innovationOUtside/nb_cell_dialog extension\n",
    "# to pop the cell or cell ouput out into a floating widget \n",
    "# rather than have it anchored in a fixed place in the linear flow of a notebook\n",
    "wwt"
   ]
  },
  {
   "cell_type": "markdown",
   "id": "twelve-stuart",
   "metadata": {},
   "source": [
    "A series of code cell commands then configure the view displayed by the widget.\n",
    "\n",
    "```{note}\n",
    "If the [`nb_cell_dialog`](https://github.com/innovationOUtside/nb_cell_dialog) extension is installed, the widget can be popped out of the code cell output area and into its own floating widget. This allows the widget to remain in view as commands are issued throughout the notebook to change the WWT view rendered by it.\n",
    "```"
   ]
  },
  {
   "cell_type": "markdown",
   "id": "cosmetic-nirvana",
   "metadata": {},
   "source": [
    "Enable constellation boundaries:"
   ]
  },
  {
   "cell_type": "code",
   "execution_count": 6,
   "id": "meaningful-wrestling",
   "metadata": {},
   "outputs": [],
   "source": [
    "wwt.constellation_boundaries = True"
   ]
  },
  {
   "cell_type": "markdown",
   "id": "muslim-trace",
   "metadata": {},
   "source": [
    "Enable constellation figures:"
   ]
  },
  {
   "cell_type": "code",
   "execution_count": 7,
   "id": "expired-investor",
   "metadata": {},
   "outputs": [],
   "source": [
    "wwt.constellation_figures = True"
   ]
  },
  {
   "cell_type": "markdown",
   "id": "formal-drive",
   "metadata": {},
   "source": [
    "View telescope layers that are available:"
   ]
  },
  {
   "cell_type": "code",
   "execution_count": 16,
   "id": "technical-british",
   "metadata": {},
   "outputs": [
    {
     "data": {
      "text/plain": [
       "['2MASS: Catalog (Synthetic, Near Infrared)',\n",
       " '2MASS: Two Micron All Sky Survey (Synthetic, Near Infrared)',\n",
       " '2Mass: Imagery (Infrared)',\n",
       " 'Big Picture (Optical)',\n",
       " 'Black Sky Background']"
      ]
     },
     "execution_count": 16,
     "metadata": {},
     "output_type": "execute_result"
    }
   ],
   "source": [
    "wwt.available_layers[:5]"
   ]
  },
  {
   "cell_type": "markdown",
   "id": "detected-cement",
   "metadata": {},
   "source": [
    "Bring a particular object into view at a specified magnification:"
   ]
  },
  {
   "cell_type": "code",
   "execution_count": 13,
   "id": "measured-syria",
   "metadata": {},
   "outputs": [],
   "source": [
    "from astropy import units as u\n",
    "from astropy.coordinates import SkyCoord\n",
    "\n",
    "coord = SkyCoord.from_name('Alpha Centauri')\n",
    "wwt.center_on_coordinates(coord, fov=10 * u.deg)"
   ]
  },
  {
   "cell_type": "markdown",
   "id": "mobile-husband",
   "metadata": {},
   "source": [
    "Enable foreground and background layers:"
   ]
  },
  {
   "cell_type": "code",
   "execution_count": 14,
   "id": "vital-region",
   "metadata": {},
   "outputs": [],
   "source": [
    "wwt.background = wwt.imagery.gamma.fermi\n",
    "wwt.foreground = wwt.imagery.other.planck\n",
    "wwt.foreground_opacity = .75"
   ]
  },
  {
   "cell_type": "markdown",
   "id": "backed-million",
   "metadata": {},
   "source": [
    "Foreground and background layer views, and the relative opoacity, can also be controlled via interactive widgets:"
   ]
  },
  {
   "cell_type": "code",
   "execution_count": 17,
   "id": "residential-luxury",
   "metadata": {},
   "outputs": [
    {
     "data": {
      "application/vnd.jupyter.widget-view+json": {
       "model_id": "d06e7eeca6274d6aa7b80911998ea55c",
       "version_major": 2,
       "version_minor": 0
      },
      "text/plain": [
       "HBox(children=(Dropdown(index=19, options=('2MASS: Catalog (Synthetic, Near Infrared)', '2MASS: Two Micron All…"
      ]
     },
     "metadata": {},
     "output_type": "display_data"
    }
   ],
   "source": [
    "wwt.layer_controls"
   ]
  },
  {
   "cell_type": "markdown",
   "id": "noted-petroleum",
   "metadata": {},
   "source": [
    "## Change of View\n",
    "\n",
    "Onservations can be rendered for particular views:"
   ]
  },
  {
   "cell_type": "code",
   "execution_count": 20,
   "id": "veterinary-header",
   "metadata": {},
   "outputs": [
    {
     "data": {
      "text/plain": [
       "['callisto',\n",
       " 'earth',\n",
       " 'europa',\n",
       " 'ganymede',\n",
       " 'io',\n",
       " 'jupiter',\n",
       " 'mars',\n",
       " 'mercury',\n",
       " 'milky way',\n",
       " 'moon',\n",
       " 'neptune',\n",
       " 'panorama',\n",
       " 'pluto',\n",
       " 'saturn',\n",
       " 'sky',\n",
       " 'solar system',\n",
       " 'sun',\n",
       " 'universe',\n",
       " 'uranus',\n",
       " 'venus']"
      ]
     },
     "execution_count": 20,
     "metadata": {},
     "output_type": "execute_result"
    }
   ],
   "source": [
    "wwt.available_views"
   ]
  },
  {
   "cell_type": "markdown",
   "id": "neural-flavor",
   "metadata": {},
   "source": [
    "For example, we can view Saturn:"
   ]
  },
  {
   "cell_type": "code",
   "execution_count": 25,
   "id": "searching-agency",
   "metadata": {},
   "outputs": [],
   "source": [
    "wwt.set_view('jupiter')"
   ]
  },
  {
   "cell_type": "markdown",
   "id": "interpreted-tiffany",
   "metadata": {},
   "source": [
    "Or the whole Milky Way:"
   ]
  },
  {
   "cell_type": "code",
   "execution_count": 30,
   "id": "internal-packet",
   "metadata": {},
   "outputs": [],
   "source": [
    "wwt.set_view('milky way')"
   ]
  },
  {
   "cell_type": "markdown",
   "id": "dominant-vintage",
   "metadata": {},
   "source": [
    "We can also draw constellations:"
   ]
  },
  {
   "cell_type": "code",
   "execution_count": 33,
   "id": "enabling-azerbaijan",
   "metadata": {},
   "outputs": [],
   "source": [
    "from astropy import units as u\n",
    "from astropy.coordinates import concatenate, SkyCoord\n",
    "\n",
    "bd = concatenate((SkyCoord.from_name('Alkaid'),  # stars in Big Dipper\n",
    "                  SkyCoord.from_name('Mizar'),\n",
    "                  SkyCoord.from_name('Alioth'),\n",
    "                  SkyCoord.from_name('Megrez'),\n",
    "                  SkyCoord.from_name('Phecda'),\n",
    "                  SkyCoord.from_name('Merak'),\n",
    "                  SkyCoord.from_name('Dubhe')))\n",
    "\n",
    "wwt.center_on_coordinates(SkyCoord.from_name('Megrez'))\n",
    "line = wwt.add_line(bd, width=3 * u.pixel)"
   ]
  },
  {
   "cell_type": "markdown",
   "id": "bound-second",
   "metadata": {},
   "source": [
    "A particular view can be save as an HTML bundle with the command: `wwt.save_as_html_bundle()`"
   ]
  }
 ],
 "metadata": {
  "celltoolbar": "Tags",
  "kernelspec": {
   "display_name": "Python 3",
   "language": "python",
   "name": "python3"
  },
  "language_info": {
   "codemirror_mode": {
    "name": "ipython",
    "version": 3
   },
   "file_extension": ".py",
   "mimetype": "text/x-python",
   "name": "python",
   "nbconvert_exporter": "python",
   "pygments_lexer": "ipython3",
   "version": "3.9.5"
  }
 },
 "nbformat": 4,
 "nbformat_minor": 5
}
