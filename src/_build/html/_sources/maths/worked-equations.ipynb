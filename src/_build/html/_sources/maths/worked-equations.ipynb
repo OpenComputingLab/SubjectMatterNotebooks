{
 "cells": [
  {
   "cell_type": "markdown",
   "id": "forbidden-flash",
   "metadata": {},
   "source": [
    "# Worked Equations and Equations With Units\n",
    "\n",
    "One of the common refrains in maths, physics and engineering education is to \"show your working\" and \"check your working\".\n",
    "\n",
    "In a one piece generative production workflow, various tools are available that support the creation of simple worked examples. By using a *generative* approach, the working is guaranteed to be correct (even if the style of presentation may not be *exactly* as desired) which provides a great benefit in terms of material production.\n",
    "\n",
    "In addition, tools are available that also allow dimensions, or units of measurement, to form part of the calculation, as well as providing an important way (through dimensional analysis) of checking that a derived formula does indeed create a quantity of the desired type — with the desired or expected unit of measurement — from the manipulated values.\n",
    "\n",
    "For the learner, being able to generate a worked example from an arbitrary set-up allows them to check their own working against the worked steps generated automatically / mechanically from an arbitrary set-up.\n",
    "\n",
    "Once again, sharing the means of production that helps authors create logically correct materials also provides learners with a mechanical tutor at their side to help them check their own work."
   ]
  },
  {
   "cell_type": "markdown",
   "id": "written-wichita",
   "metadata": {},
   "source": [
    "## `handcalcs` Equations\n",
    "\n",
    "The  [`handcalcs`](https://github.com/connorferster/handcalcs) package provides a simple way for writing mathematical equations using simple text and then rendering them using LaTeX equation style layout.\n",
    "\n",
    "If the full power of `sympy` is not required, `handcalcs` may provide all the manipulation we need:"
   ]
  },
  {
   "cell_type": "code",
   "execution_count": 2,
   "id": "another-dynamics",
   "metadata": {
    "tags": [
     "remove-cell"
    ]
   },
   "outputs": [],
   "source": [
    "%%capture\n",
    "try:\n",
    "    import handcalcs\n",
    "except:\n",
    "    %pip install handcalcs"
   ]
  },
  {
   "cell_type": "code",
   "execution_count": 20,
   "id": "standard-wages",
   "metadata": {},
   "outputs": [],
   "source": [
    "import handcalcs.render\n",
    "from math import pi"
   ]
  },
  {
   "cell_type": "markdown",
   "id": "vocational-korea",
   "metadata": {},
   "source": [
    "We can easily write equations that reference greek letters and subscripted values, expanding on a symbolic equation using some provided magic:"
   ]
  },
  {
   "cell_type": "code",
   "execution_count": 22,
   "id": "handmade-sympathy",
   "metadata": {},
   "outputs": [
    {
     "data": {
      "text/latex": [
       "\\[\n",
       "\\begin{aligned}\n",
       "t &= 1 \\; \n",
       "\\\\[10pt]\n",
       "\\theta &= \\frac{ \\pi }{ 2 }  = \\frac{ 3.142 }{ 2 } &= 1.571  \n",
       "\\\\[10pt]\n",
       "\\omega_{t} &= 2 \\cdot \\frac{ \\pi }{ t }  = 2 \\cdot \\frac{ 3.142 }{ 1 } &= 6.283  \n",
       "\\end{aligned}\n",
       "\\]"
      ],
      "text/plain": [
       "<IPython.core.display.Latex object>"
      ]
     },
     "metadata": {},
     "output_type": "display_data"
    }
   ],
   "source": [
    "%%render\n",
    "t = 1\n",
    "theta = pi / 2\n",
    "omega_t =  2 * pi / t"
   ]
  },
  {
   "cell_type": "markdown",
   "id": "billion-season",
   "metadata": {},
   "source": [
    "We can prevent the magic from evaluating the expression by telling it we want the expression to remain a symbolic one:"
   ]
  },
  {
   "cell_type": "code",
   "execution_count": 39,
   "id": "backed-paintball",
   "metadata": {},
   "outputs": [
    {
     "data": {
      "text/latex": [
       "\\[\n",
       "\\begin{aligned}\n",
       "a &= 2 \\; \n",
       "\\\\[10pt]\n",
       "b &= 3 \\; \n",
       "\\\\[10pt]\n",
       "c &= 2 \\cdot a + \\frac{ b }{ 3 } \\; \n",
       "\\end{aligned}\n",
       "\\]"
      ],
      "text/plain": [
       "<IPython.core.display.Latex object>"
      ]
     },
     "metadata": {},
     "output_type": "display_data"
    }
   ],
   "source": [
    "%%render symbolic\n",
    "\n",
    "a = 2\n",
    "b = 3\n",
    "c = 2*a + b/3"
   ]
  },
  {
   "cell_type": "markdown",
   "id": "vietnamese-thinking",
   "metadata": {},
   "source": [
    "If the expression is evaluated, elements will be expanded along a single line, unless we force a \"long\" format output which splits the output over several lines:"
   ]
  },
  {
   "cell_type": "code",
   "execution_count": 6,
   "id": "cutting-bulgaria",
   "metadata": {
    "tags": [
     "hide-input"
    ]
   },
   "outputs": [
    {
     "data": {
      "text/latex": [
       "\\[\n",
       "\\begin{aligned}\n",
       "a &= 2 \\; \n",
       "\\\\[10pt]\n",
       "b &= 3 \\; \n",
       "\\\\[10pt]\n",
       "c &= 2 \\cdot a + \\frac{ b }{ 3 } \\\\&= 2 \\cdot 2 + \\frac{ 3 }{ 3 } \\\\&= 5.0  \\\\\n",
       "\\end{aligned}\n",
       "\\]"
      ],
      "text/plain": [
       "<IPython.core.display.Latex object>"
      ]
     },
     "metadata": {},
     "output_type": "display_data"
    }
   ],
   "source": [
    "%%render long\n",
    "a = 2\n",
    "b = 3\n",
    "c = 2*a + b/3"
   ]
  },
  {
   "cell_type": "markdown",
   "id": "copyrighted-novelty",
   "metadata": {},
   "source": [
    "If the output isn't to your liking, `handcalcs` might still help accelerate authoring by providing a *draft* of some raw laTeX that you could copy and edit by hand and then render by other means.\n",
    "\n",
    "```{note}\n",
    "In single piece generative document workflow terms, the `%%tex` magic cell could be removed from a rendered version of the notebook and yet still be used to create raw TeX that might be manually copied into, edited and rendered from a `%%latex` magicked cell with a hidden input.\n",
    "```"
   ]
  },
  {
   "cell_type": "code",
   "execution_count": 51,
   "id": "green-theology",
   "metadata": {},
   "outputs": [
    {
     "name": "stdout",
     "output_type": "stream",
     "text": [
      "\\[\n",
      "\\begin{aligned}\n",
      "a &= 2 \\; \n",
      "\\\\[10pt]\n",
      "b &= 3 \\; \n",
      "\\\\[10pt]\n",
      "c &= 2 \\cdot a + \\frac{ b }{ 3 } \\\\&= 2 \\cdot 2 + \\frac{ 3 }{ 3 } \\\\&= 5.0  \\\\\n",
      "\\end{aligned}\n",
      "\\]\n"
     ]
    }
   ],
   "source": [
    "%%tex long\n",
    "a = 2\n",
    "b = 3\n",
    "c = 2*a + b/3"
   ]
  },
  {
   "cell_type": "markdown",
   "id": "analyzed-showcase",
   "metadata": {},
   "source": [
    "For example, we might copy the generated LaTeX, edited as required, perhaps with one of the steps omitted, into a `%%latex` magic cell:"
   ]
  },
  {
   "cell_type": "code",
   "execution_count": 56,
   "id": "historical-throat",
   "metadata": {},
   "outputs": [
    {
     "data": {
      "text/latex": [
       "\\[\n",
       "\\begin{aligned}\n",
       "a &= 2 \\; \n",
       "\\\\[10pt]\n",
       "b &= 3 \\; \n",
       "\\\\[10pt]\n",
       "c &= 2 \\cdot a + \\frac{ b }{ 3 } \\\\&= 5.0  \\\\\n",
       "\\end{aligned}\n",
       "\\]\n"
      ],
      "text/plain": [
       "<IPython.core.display.Latex object>"
      ]
     },
     "metadata": {},
     "output_type": "display_data"
    }
   ],
   "source": [
    "%%latex\n",
    "\n",
    "\\[\n",
    "\\begin{aligned}\n",
    "a &= 2 \\; \n",
    "\\\\[10pt]\n",
    "b &= 3 \\; \n",
    "\\\\[10pt]\n",
    "c &= 2 \\cdot a + \\frac{ b }{ 3 } \\\\&= 5.0  \\\\\n",
    "\\end{aligned}\n",
    "\\]"
   ]
  },
  {
   "cell_type": "markdown",
   "id": "hybrid-opening",
   "metadata": {},
   "source": [
    "We can use a decorator rather than magic to expand various expressions contained within a function.\n",
    "\n",
    "For example, suppose we want to calculate the two roots of a quadratic equation. We can define a function containing an expression for each solution, and decorate it appropriately:"
   ]
  },
  {
   "cell_type": "code",
   "execution_count": 47,
   "id": "disabled-hacker",
   "metadata": {},
   "outputs": [],
   "source": [
    "from math import sqrt\n",
    "from handcalcs import handcalc\n",
    "\n",
    "@handcalc(override='long', jupyter_display=True)\n",
    "def quadratic(a, b, c):\n",
    "    a\n",
    "    b\n",
    "    c\n",
    "    x_1 = (-b + sqrt(b**2 - 4*a*c)) / (2*a)\n",
    "    x_2 = (-b - sqrt(b**2 - 4*a*c)) / (2*a)"
   ]
  },
  {
   "cell_type": "markdown",
   "id": "straight-parts",
   "metadata": {},
   "source": [
    "We can now present the worked solution directly:"
   ]
  },
  {
   "cell_type": "code",
   "execution_count": 48,
   "id": "universal-contribution",
   "metadata": {},
   "outputs": [
    {
     "data": {
      "text/latex": [
       "\\[\n",
       "\\begin{aligned}\n",
       "a &= 3 \\; \n",
       "\\\\[10pt]\n",
       "b &= 4 \\; \n",
       "\\\\[10pt]\n",
       "c &= -5 \\; \n",
       "\\\\[10pt]\n",
       "x_{1} &= \\frac{ \\left( - b \\right) + \\sqrt { \\left( b \\right) ^{ 2 } - 4 \\cdot a \\cdot c } }{ 2 \\cdot a } \\\\&= \\frac{ \\left( - 4 \\right) + \\sqrt { \\left( 4 \\right) ^{ 2 } - 4 \\cdot 3 \\cdot -5 } }{ 2 \\cdot 3 } \\\\&= 7.863 \\times 10 ^ {-1 }  \\\\\n",
       "\\\\[10pt]\n",
       "x_{2} &= \\frac{ \\left( - b \\right) - \\sqrt { \\left( b \\right) ^{ 2 } - 4 \\cdot a \\cdot c } }{ 2 \\cdot a } \\\\&= \\frac{ \\left( - 4 \\right) - \\sqrt { \\left( 4 \\right) ^{ 2 } - 4 \\cdot 3 \\cdot -5 } }{ 2 \\cdot 3 } \\\\&= -2.12  \\\\\n",
       "\\end{aligned}\n",
       "\\]"
      ],
      "text/plain": [
       "<IPython.core.display.Latex object>"
      ]
     },
     "metadata": {},
     "output_type": "display_data"
    }
   ],
   "source": [
    "quadratic(a, b, c)"
   ]
  },
  {
   "cell_type": "markdown",
   "id": "electronic-groove",
   "metadata": {},
   "source": [
    "## Working with Dimensions\n",
    "\n",
    "In some situations, such as physics or engineering calculations, it might be important to make use of dimensioned quantities. The [`forallpeople`](https://github.com/connorferster/forallpeople) package is one of several packages that provides dimensional units. Conveniently, it also works with the `handcalcs` package."
   ]
  },
  {
   "cell_type": "code",
   "execution_count": 62,
   "id": "cooperative-republican",
   "metadata": {
    "tags": [
     "remove-cell"
    ]
   },
   "outputs": [],
   "source": [
    "%%capture\n",
    "try:\n",
    "    import forallpeople\n",
    "except:\n",
    "    %pip install forallpeople"
   ]
  },
  {
   "cell_type": "markdown",
   "id": "illegal-calculator",
   "metadata": {},
   "source": [
    "By default, we can load a particular measurement framework, such as the SI units of measurement. (Alternatives include things like Imperial measurements.)"
   ]
  },
  {
   "cell_type": "code",
   "execution_count": 6,
   "id": "pressing-february",
   "metadata": {},
   "outputs": [],
   "source": [
    "import forallpeople as si\n",
    "\n",
    "si.environment('default') #, top_level=True)\n",
    "# Describes the SI derived units\n",
    "# Units are created by compounding the base units (e.g. Newton, Pascal, Celsius, Watt, Joule, etc.)"
   ]
  },
  {
   "cell_type": "markdown",
   "id": "faced-crest",
   "metadata": {},
   "source": [
    "Calculated quantities have a value and a dimension. An appropriate magnitude prefix is determined automatically:"
   ]
  },
  {
   "cell_type": "code",
   "execution_count": 7,
   "id": "signal-discrimination",
   "metadata": {},
   "outputs": [
    {
     "data": {
      "text/html": [
       "10.000 kPa"
      ],
      "text/latex": [
       "10.000\\ \\text{kPa}"
      ],
      "text/markdown": [
       "10.000 kPa"
      ],
      "text/plain": [
       "10.000 kPa"
      ]
     },
     "execution_count": 7,
     "metadata": {},
     "output_type": "execute_result"
    }
   ],
   "source": [
    "force = 20000 * si.N\n",
    "area = 2 * si.m**2\n",
    "pressure = force / area\n",
    "\n",
    "pressure"
   ]
  },
  {
   "cell_type": "markdown",
   "id": "ordinary-coordinate",
   "metadata": {},
   "source": [
    "Small units are also determined correctly:"
   ]
  },
  {
   "cell_type": "code",
   "execution_count": 50,
   "id": "focused-helicopter",
   "metadata": {},
   "outputs": [
    {
     "data": {
      "text/html": [
       "2.000 μF"
      ],
      "text/latex": [
       "2.000\\ \\text{μF}"
      ],
      "text/markdown": [
       "2.000 μF"
      ],
      "text/plain": [
       "2.000 μF"
      ]
     },
     "execution_count": 50,
     "metadata": {},
     "output_type": "execute_result"
    }
   ],
   "source": [
    "2e-6 * si.F"
   ]
  },
  {
   "cell_type": "markdown",
   "id": "selected-marina",
   "metadata": {},
   "source": [
    "Dimensional values can be associated with terms in expressions rendered using `handcalcs` magic, with appropriate units being displayed as part of a rendered calculation.\n",
    "\n",
    "```{note}\n",
    "Dimensional analysis can be very useful when checking equation derivations or trying to remember particular formulae: was it $V=IR$, or $V=I/R$? A quick dimensional analysis, if you know your SI units, can help check...\n",
    "```"
   ]
  },
  {
   "cell_type": "code",
   "execution_count": 16,
   "id": "brown-treasurer",
   "metadata": {},
   "outputs": [
    {
     "data": {
      "text/latex": [
       "\\[\n",
       "\\begin{aligned}\n",
       "I &= 3.000\\ \\text{mA} \\; \\;\\textrm{(set the current)}\n",
       "\\\\[10pt]\n",
       "V &= 20.000\\ \\text{V} \\; \\;\\textrm{(set the voltage)}\n",
       "\\\\[10pt]\n",
       "R &= \\frac{ V }{ I }  = \\frac{ 20.000\\ \\text{V} }{ 3.000\\ \\text{mA} } &= 6.667\\ \\text{k\\Omega}  \n",
       "\\end{aligned}\n",
       "\\]"
      ],
      "text/plain": [
       "<IPython.core.display.Latex object>"
      ]
     },
     "metadata": {},
     "output_type": "display_data"
    }
   ],
   "source": [
    "%%render\n",
    "\n",
    "# We need to bracket the terms to not expand the units equation\n",
    "I = (3e-3 * si.A) #  set the current\n",
    "V = (20 * si.V) # set the voltage\n",
    "\n",
    "R = V/I\n",
    "# Incorrect omega, issue: https://github.com/connorferster/handcalcs/issues/76"
   ]
  }
 ],
 "metadata": {
  "kernelspec": {
   "display_name": "Python 3",
   "language": "python",
   "name": "python3"
  },
  "language_info": {
   "codemirror_mode": {
    "name": "ipython",
    "version": 3
   },
   "file_extension": ".py",
   "mimetype": "text/x-python",
   "name": "python",
   "nbconvert_exporter": "python",
   "pygments_lexer": "ipython3",
   "version": "3.9.7"
  },
  "vp": {
   "base_numbering": 1,
   "nav_menu": {},
   "number_sections": true,
   "sideBar": true,
   "title_cell": "VisualPython",
   "title_sidebar": "VisualPython",
   "vpPosition": {
    "height": "calc(100% - 180px)",
    "right": "10px",
    "top": "110px",
    "width": "50%"
   },
   "vp_cell": false,
   "vp_section_display": true,
   "vp_window_display": false
  }
 },
 "nbformat": 4,
 "nbformat_minor": 5
}
