{
 "cells": [
  {
   "cell_type": "markdown",
   "id": "printable-reward",
   "metadata": {},
   "source": [
    "# Chemistry — Visualising Chemical Structures\n",
    "\n",
    "Various tools exist for visualising various chemical structures using static images as well as interactive 3d representations."
   ]
  },
  {
   "cell_type": "markdown",
   "id": "light-mistress",
   "metadata": {},
   "source": [
    "## 2D visualisations\n",
    "\n",
    "A wide range of packages are available for depicting two dimensional representations of chemical structures defined in conventional ways.\n",
    "\n",
    "For example ?SMILES"
   ]
  },
  {
   "cell_type": "markdown",
   "id": "legislative-irish",
   "metadata": {},
   "source": [
    "### `rdkit`\n",
    "\n",
    "The [`rdkit`](https://rdkit.org/docs/index.html) package, an open source toolkit for cheminformatics, provides a wide range of tools for working with chemical representations."
   ]
  },
  {
   "cell_type": "code",
   "execution_count": 1,
   "id": "rolled-cursor",
   "metadata": {},
   "outputs": [],
   "source": [
    "#%pip install rdkit-pypi\n",
    "#import rdkit"
   ]
  },
  {
   "cell_type": "code",
   "execution_count": 2,
   "id": "sublime-frontier",
   "metadata": {},
   "outputs": [
    {
     "data": {
      "image/png": "[encoded data removed]",
      "text/plain": [
       "<rdkit.Chem.rdchem.Mol at 0x10cccd880>"
      ]
     },
     "execution_count": 2,
     "metadata": {},
     "output_type": "execute_result"
    }
   ],
   "source": [
    "from rdkit import Chem\n",
    "\n",
    "m = Chem.MolFromSmiles(\"C1=NC2=C(N1)C(=NC=N2)N\")\n",
    "m"
   ]
  },
  {
   "cell_type": "code",
   "execution_count": 3,
   "id": "continental-supervisor",
   "metadata": {},
   "outputs": [
    {
     "data": {
      "image/png": "[encoded data removed]",
      "text/plain": [
       "<rdkit.Chem.rdchem.Mol at 0x10cd7de20>"
      ]
     },
     "execution_count": 3,
     "metadata": {},
     "output_type": "execute_result"
    }
   ],
   "source": [
    "m = Chem.AddHs(m)\n",
    "m"
   ]
  },
  {
   "cell_type": "code",
   "execution_count": 4,
   "id": "bibliographic-thesaurus",
   "metadata": {},
   "outputs": [
    {
     "data": {
      "image/svg+xml": [
       "<svg xmlns=\"http://www.w3.org/2000/svg\" xmlns:rdkit=\"http://www.rdkit.org/xml\" xmlns:xlink=\"http://www.w3.org/1999/xlink\" version=\"1.1\" baseProfile=\"full\" xml:space=\"preserve\" width=\"600px\" height=\"400px\" viewBox=\"0 0 600 400\">\n",
       "<!-- END OF HEADER -->\n",
       "<rect style=\"opacity:1.0;fill:#FFFFFF;stroke:none\" width=\"600\" height=\"400\" x=\"0\" y=\"0\"> </rect>\n",
       "<rect style=\"opacity:1.0;fill:#FFFFFF;stroke:none\" width=\"600\" height=\"400\" x=\"0\" y=\"0\"> </rect>\n",
       "<rect style=\"opacity:1.0;fill:#FFFFFF;stroke:none\" width=\"600\" height=\"400\" x=\"0\" y=\"0\"> </rect>\n",
       "<rect style=\"opacity:1.0;fill:#FFFFFF;stroke:none\" width=\"600\" height=\"400\" x=\"0\" y=\"0\"> </rect>\n",
       "<rect style=\"opacity:1.0;fill:#FFFFFF;stroke:none\" width=\"600\" height=\"400\" x=\"0\" y=\"0\"> </rect>\n",
       "<path class=\"bond-0 atom-0 atom-1\" d=\"M 100,88.6672 L 118.924,88.6672\" style=\"fill:none;fill-rule:evenodd;stroke:#000000;stroke-width:2.0px;stroke-linecap:butt;stroke-linejoin:miter;stroke-opacity:1\"/>\n",
       "<path class=\"bond-0 atom-0 atom-1\" d=\"M 118.924,88.6672 L 137.849,88.6672\" style=\"fill:none;fill-rule:evenodd;stroke:#7F4C19;stroke-width:2.0px;stroke-linecap:butt;stroke-linejoin:miter;stroke-opacity:1\"/>\n",
       "<path class=\"bond-1 atom-0 atom-2\" d=\"M 100,88.6672 L 62.7802,88.6672\" style=\"fill:none;fill-rule:evenodd;stroke:#000000;stroke-width:2.0px;stroke-linecap:butt;stroke-linejoin:miter;stroke-opacity:1\"/>\n",
       "<path class=\"bond-2 atom-0 atom-3\" d=\"M 100,88.6672 L 100,52.7739\" style=\"fill:none;fill-rule:evenodd;stroke:#000000;stroke-width:2.0px;stroke-linecap:butt;stroke-linejoin:miter;stroke-opacity:1\"/>\n",
       "<path class=\"bond-3 atom-0 atom-4\" d=\"M 100,88.6672 L 100,124.561\" style=\"fill:none;fill-rule:evenodd;stroke:#000000;stroke-width:2.0px;stroke-linecap:butt;stroke-linejoin:miter;stroke-opacity:1\"/>\n",
       "<path class=\"atom-1\" d=\"M 144.852 88.3571 Q 146.023 88.6844, 146.609 89.408 Q 147.212 90.1143, 147.212 91.1652 Q 147.212 92.8535, 146.126 93.8182 Q 145.058 94.7657, 143.025 94.7657 L 138.925 94.7657 L 138.925 82.5687 L 142.526 82.5687 Q 144.61 82.5687, 145.661 83.4129 Q 146.712 84.257, 146.712 85.8075 Q 146.712 87.6508, 144.852 88.3571 M 140.562 83.9469 L 140.562 87.7714 L 142.526 87.7714 Q 143.732 87.7714, 144.352 87.289 Q 144.989 86.7894, 144.989 85.8075 Q 144.989 83.9469, 142.526 83.9469 L 140.562 83.9469 M 143.025 93.3875 Q 144.214 93.3875, 144.852 92.819 Q 145.489 92.2505, 145.489 91.1652 Q 145.489 90.166, 144.783 89.6664 Q 144.094 89.1496, 142.767 89.1496 L 140.562 89.1496 L 140.562 93.3875 L 143.025 93.3875 \" fill=\"#7F4C19\"/>\n",
       "<path class=\"atom-1\" d=\"M 149.985 85.9108 L 150.175 87.134 Q 151.105 85.7558, 152.621 85.7558 Q 153.104 85.7558, 153.758 85.9281 L 153.5 87.3752 Q 152.759 87.2029, 152.346 87.2029 Q 151.622 87.2029, 151.14 87.4958 Q 150.674 87.7714, 150.295 88.4433 L 150.295 94.7657 L 148.676 94.7657 L 148.676 85.9108 L 149.985 85.9108 \" fill=\"#7F4C19\"/>\n",
       "<path class=\"atom-2\" d=\"M 52.1595 82.5687 L 53.8133 82.5687 L 53.8133 87.7542 L 60.0496 87.7542 L 60.0496 82.5687 L 61.7034 82.5687 L 61.7034 94.7657 L 60.0496 94.7657 L 60.0496 89.1324 L 53.8133 89.1324 L 53.8133 94.7657 L 52.1595 94.7657 L 52.1595 82.5687 \" fill=\"#000000\"/>\n",
       "<path class=\"atom-3\" d=\"M 95.228 39.5002 L 96.8818 39.5002 L 96.8818 44.6856 L 103.118 44.6856 L 103.118 39.5002 L 104.772 39.5002 L 104.772 51.6972 L 103.118 51.6972 L 103.118 46.0638 L 96.8818 46.0638 L 96.8818 51.6972 L 95.228 51.6972 L 95.228 39.5002 \" fill=\"#000000\"/>\n",
       "<path class=\"atom-4\" d=\"M 95.228 125.637 L 96.8818 125.637 L 96.8818 130.823 L 103.118 130.823 L 103.118 125.637 L 104.772 125.637 L 104.772 137.834 L 103.118 137.834 L 103.118 132.201 L 96.8818 132.201 L 96.8818 137.834 L 95.228 137.834 L 95.228 125.637 \" fill=\"#000000\"/>\n",
       "<path class=\"bond-0 atom-0 atom-1\" d=\"M 278.466,88.6672 L 321.534,88.6672\" style=\"fill:none;fill-rule:evenodd;stroke:#000000;stroke-width:2.0px;stroke-linecap:butt;stroke-linejoin:miter;stroke-opacity:1\"/>\n",
       "<path class=\"bond-2 atom-0 atom-3\" d=\"M 278.466,88.6672 L 241.246,88.6672\" style=\"fill:none;fill-rule:evenodd;stroke:#000000;stroke-width:2.0px;stroke-linecap:butt;stroke-linejoin:miter;stroke-opacity:1\"/>\n",
       "<path class=\"bond-3 atom-0 atom-4\" d=\"M 278.466,88.6672 L 278.466,52.7739\" style=\"fill:none;fill-rule:evenodd;stroke:#000000;stroke-width:2.0px;stroke-linecap:butt;stroke-linejoin:miter;stroke-opacity:1\"/>\n",
       "<path class=\"bond-4 atom-0 atom-5\" d=\"M 278.466,88.6672 L 278.466,124.561\" style=\"fill:none;fill-rule:evenodd;stroke:#000000;stroke-width:2.0px;stroke-linecap:butt;stroke-linejoin:miter;stroke-opacity:1\"/>\n",
       "<path class=\"bond-1 atom-1 atom-2\" d=\"M 321.534,88.6672 L 340.459,88.6672\" style=\"fill:none;fill-rule:evenodd;stroke:#000000;stroke-width:2.0px;stroke-linecap:butt;stroke-linejoin:miter;stroke-opacity:1\"/>\n",
       "<path class=\"bond-1 atom-1 atom-2\" d=\"M 340.459,88.6672 L 359.383,88.6672\" style=\"fill:none;fill-rule:evenodd;stroke:#7F4C19;stroke-width:2.0px;stroke-linecap:butt;stroke-linejoin:miter;stroke-opacity:1\"/>\n",
       "<path class=\"bond-5 atom-1 atom-6\" d=\"M 321.534,88.6672 L 321.534,124.561\" style=\"fill:none;fill-rule:evenodd;stroke:#000000;stroke-width:2.0px;stroke-linecap:butt;stroke-linejoin:miter;stroke-opacity:1\"/>\n",
       "<path class=\"bond-6 atom-1 atom-7\" d=\"M 321.534,88.6672 L 321.534,52.7739\" style=\"fill:none;fill-rule:evenodd;stroke:#000000;stroke-width:2.0px;stroke-linecap:butt;stroke-linejoin:miter;stroke-opacity:1\"/>\n",
       "<path class=\"atom-2\" d=\"M 366.386 88.3571 Q 367.557 88.6844, 368.143 89.408 Q 368.746 90.1143, 368.746 91.1652 Q 368.746 92.8535, 367.661 93.8182 Q 366.593 94.7657, 364.56 94.7657 L 360.46 94.7657 L 360.46 82.5687 L 364.06 82.5687 Q 366.145 82.5687, 367.196 83.4129 Q 368.246 84.257, 368.246 85.8075 Q 368.246 87.6508, 366.386 88.3571 M 362.096 83.9469 L 362.096 87.7714 L 364.06 87.7714 Q 365.266 87.7714, 365.886 87.289 Q 366.524 86.7894, 366.524 85.8075 Q 366.524 83.9469, 364.06 83.9469 L 362.096 83.9469 M 364.56 93.3875 Q 365.748 93.3875, 366.386 92.819 Q 367.023 92.2505, 367.023 91.1652 Q 367.023 90.166, 366.317 89.6664 Q 365.628 89.1496, 364.301 89.1496 L 362.096 89.1496 L 362.096 93.3875 L 364.56 93.3875 \" fill=\"#7F4C19\"/>\n",
       "<path class=\"atom-2\" d=\"M 371.52 85.9108 L 371.709 87.134 Q 372.639 85.7558, 374.155 85.7558 Q 374.638 85.7558, 375.292 85.9281 L 375.034 87.3752 Q 374.293 87.2029, 373.88 87.2029 Q 373.156 87.2029, 372.674 87.4958 Q 372.209 87.7714, 371.83 88.4433 L 371.83 94.7657 L 370.21 94.7657 L 370.21 85.9108 L 371.52 85.9108 \" fill=\"#7F4C19\"/>\n",
       "<path class=\"atom-3\" d=\"M 230.625 82.5687 L 232.279 82.5687 L 232.279 87.7542 L 238.515 87.7542 L 238.515 82.5687 L 240.169 82.5687 L 240.169 94.7657 L 238.515 94.7657 L 238.515 89.1324 L 232.279 89.1324 L 232.279 94.7657 L 230.625 94.7657 L 230.625 82.5687 \" fill=\"#000000\"/>\n",
       "<path class=\"atom-4\" d=\"M 273.694 39.5002 L 275.348 39.5002 L 275.348 44.6856 L 281.584 44.6856 L 281.584 39.5002 L 283.238 39.5002 L 283.238 51.6972 L 281.584 51.6972 L 281.584 46.0638 L 275.348 46.0638 L 275.348 51.6972 L 273.694 51.6972 L 273.694 39.5002 \" fill=\"#000000\"/>\n",
       "<path class=\"atom-5\" d=\"M 273.694 125.637 L 275.348 125.637 L 275.348 130.823 L 281.584 130.823 L 281.584 125.637 L 283.238 125.637 L 283.238 137.834 L 281.584 137.834 L 281.584 132.201 L 275.348 132.201 L 275.348 137.834 L 273.694 137.834 L 273.694 125.637 \" fill=\"#000000\"/>\n",
       "<path class=\"atom-6\" d=\"M 316.762 125.637 L 318.416 125.637 L 318.416 130.823 L 324.652 130.823 L 324.652 125.637 L 326.306 125.637 L 326.306 137.834 L 324.652 137.834 L 324.652 132.201 L 318.416 132.201 L 318.416 137.834 L 316.762 137.834 L 316.762 125.637 \" fill=\"#000000\"/>\n",
       "<path class=\"atom-7\" d=\"M 316.762 39.5002 L 318.416 39.5002 L 318.416 44.6856 L 324.652 44.6856 L 324.652 39.5002 L 326.306 39.5002 L 326.306 51.6972 L 324.652 51.6972 L 324.652 46.0638 L 318.416 46.0638 L 318.416 51.6972 L 316.762 51.6972 L 316.762 39.5002 \" fill=\"#000000\"/>\n",
       "<path class=\"bond-0 atom-0 atom-1\" d=\"M 456.931,88.6672 L 500,88.6672\" style=\"fill:none;fill-rule:evenodd;stroke:#000000;stroke-width:2.0px;stroke-linecap:butt;stroke-linejoin:miter;stroke-opacity:1\"/>\n",
       "<path class=\"bond-3 atom-0 atom-4\" d=\"M 456.931,88.6672 L 419.712,88.6672\" style=\"fill:none;fill-rule:evenodd;stroke:#000000;stroke-width:2.0px;stroke-linecap:butt;stroke-linejoin:miter;stroke-opacity:1\"/>\n",
       "<path class=\"bond-4 atom-0 atom-5\" d=\"M 456.931,88.6672 L 456.931,52.7739\" style=\"fill:none;fill-rule:evenodd;stroke:#000000;stroke-width:2.0px;stroke-linecap:butt;stroke-linejoin:miter;stroke-opacity:1\"/>\n",
       "<path class=\"bond-5 atom-0 atom-6\" d=\"M 456.931,88.6672 L 456.931,124.561\" style=\"fill:none;fill-rule:evenodd;stroke:#000000;stroke-width:2.0px;stroke-linecap:butt;stroke-linejoin:miter;stroke-opacity:1\"/>\n",
       "<path class=\"bond-1 atom-1 atom-2\" d=\"M 500,88.6672 L 500,106.614\" style=\"fill:none;fill-rule:evenodd;stroke:#000000;stroke-width:2.0px;stroke-linecap:butt;stroke-linejoin:miter;stroke-opacity:1\"/>\n",
       "<path class=\"bond-1 atom-1 atom-2\" d=\"M 500,106.614 L 500,124.561\" style=\"fill:none;fill-rule:evenodd;stroke:#7F4C19;stroke-width:2.0px;stroke-linecap:butt;stroke-linejoin:miter;stroke-opacity:1\"/>\n",
       "<path class=\"bond-2 atom-1 atom-3\" d=\"M 500,88.6672 L 543.069,88.6672\" style=\"fill:none;fill-rule:evenodd;stroke:#000000;stroke-width:2.0px;stroke-linecap:butt;stroke-linejoin:miter;stroke-opacity:1\"/>\n",
       "<path class=\"bond-6 atom-1 atom-7\" d=\"M 500,88.6672 L 500,52.7739\" style=\"fill:none;fill-rule:evenodd;stroke:#000000;stroke-width:2.0px;stroke-linecap:butt;stroke-linejoin:miter;stroke-opacity:1\"/>\n",
       "<path class=\"bond-7 atom-3 atom-8\" d=\"M 543.069,88.6672 L 580.288,88.6672\" style=\"fill:none;fill-rule:evenodd;stroke:#000000;stroke-width:2.0px;stroke-linecap:butt;stroke-linejoin:miter;stroke-opacity:1\"/>\n",
       "<path class=\"bond-8 atom-3 atom-9\" d=\"M 543.069,88.6672 L 543.069,52.7739\" style=\"fill:none;fill-rule:evenodd;stroke:#000000;stroke-width:2.0px;stroke-linecap:butt;stroke-linejoin:miter;stroke-opacity:1\"/>\n",
       "<path class=\"bond-9 atom-3 atom-10\" d=\"M 543.069,88.6672 L 543.069,124.561\" style=\"fill:none;fill-rule:evenodd;stroke:#000000;stroke-width:2.0px;stroke-linecap:butt;stroke-linejoin:miter;stroke-opacity:1\"/>\n",
       "<path class=\"atom-2\" d=\"M 501.783 131.426 Q 502.955 131.753, 503.54 132.477 Q 504.143 133.183, 504.143 134.234 Q 504.143 135.922, 503.058 136.887 Q 501.99 137.834, 499.957 137.834 L 495.857 137.834 L 495.857 125.637 L 499.457 125.637 Q 501.542 125.637, 502.593 126.481 Q 503.644 127.326, 503.644 128.876 Q 503.644 130.719, 501.783 131.426 M 497.493 127.015 L 497.493 130.84 L 499.457 130.84 Q 500.663 130.84, 501.283 130.358 Q 501.921 129.858, 501.921 128.876 Q 501.921 127.015, 499.457 127.015 L 497.493 127.015 M 499.957 136.456 Q 501.146 136.456, 501.783 135.888 Q 502.42 135.319, 502.42 134.234 Q 502.42 133.235, 501.714 132.735 Q 501.025 132.218, 499.699 132.218 L 497.493 132.218 L 497.493 136.456 L 499.957 136.456 \" fill=\"#7F4C19\"/>\n",
       "<path class=\"atom-2\" d=\"M 506.917 128.979 L 507.106 130.203 Q 508.037 128.824, 509.553 128.824 Q 510.035 128.824, 510.69 128.997 L 510.431 130.444 Q 509.69 130.271, 509.277 130.271 Q 508.553 130.271, 508.071 130.564 Q 507.606 130.84, 507.227 131.512 L 507.227 137.834 L 505.608 137.834 L 505.608 128.979 L 506.917 128.979 \" fill=\"#7F4C19\"/>\n",
       "<path class=\"atom-4\" d=\"M 409.091 82.5687 L 410.745 82.5687 L 410.745 87.7542 L 416.981 87.7542 L 416.981 82.5687 L 418.635 82.5687 L 418.635 94.7657 L 416.981 94.7657 L 416.981 89.1324 L 410.745 89.1324 L 410.745 94.7657 L 409.091 94.7657 L 409.091 82.5687 \" fill=\"#000000\"/>\n",
       "<path class=\"atom-5\" d=\"M 452.159 39.5002 L 453.813 39.5002 L 453.813 44.6856 L 460.05 44.6856 L 460.05 39.5002 L 461.703 39.5002 L 461.703 51.6972 L 460.05 51.6972 L 460.05 46.0638 L 453.813 46.0638 L 453.813 51.6972 L 452.159 51.6972 L 452.159 39.5002 \" fill=\"#000000\"/>\n",
       "<path class=\"atom-6\" d=\"M 452.159 125.637 L 453.813 125.637 L 453.813 130.823 L 460.05 130.823 L 460.05 125.637 L 461.703 125.637 L 461.703 137.834 L 460.05 137.834 L 460.05 132.201 L 453.813 132.201 L 453.813 137.834 L 452.159 137.834 L 452.159 125.637 \" fill=\"#000000\"/>\n",
       "<path class=\"atom-7\" d=\"M 495.228 39.5002 L 496.882 39.5002 L 496.882 44.6856 L 503.118 44.6856 L 503.118 39.5002 L 504.772 39.5002 L 504.772 51.6972 L 503.118 51.6972 L 503.118 46.0638 L 496.882 46.0638 L 496.882 51.6972 L 495.228 51.6972 L 495.228 39.5002 \" fill=\"#000000\"/>\n",
       "<path class=\"atom-8\" d=\"M 581.365 82.5687 L 583.019 82.5687 L 583.019 87.7542 L 589.255 87.7542 L 589.255 82.5687 L 590.909 82.5687 L 590.909 94.7657 L 589.255 94.7657 L 589.255 89.1324 L 583.019 89.1324 L 583.019 94.7657 L 581.365 94.7657 L 581.365 82.5687 \" fill=\"#000000\"/>\n",
       "<path class=\"atom-9\" d=\"M 538.297 39.5002 L 539.95 39.5002 L 539.95 44.6856 L 546.187 44.6856 L 546.187 39.5002 L 547.841 39.5002 L 547.841 51.6972 L 546.187 51.6972 L 546.187 46.0638 L 539.95 46.0638 L 539.95 51.6972 L 538.297 51.6972 L 538.297 39.5002 \" fill=\"#000000\"/>\n",
       "<path class=\"atom-10\" d=\"M 538.297 125.637 L 539.95 125.637 L 539.95 130.823 L 546.187 130.823 L 546.187 125.637 L 547.841 125.637 L 547.841 137.834 L 546.187 137.834 L 546.187 132.201 L 539.95 132.201 L 539.95 137.834 L 538.297 137.834 L 538.297 125.637 \" fill=\"#000000\"/>\n",
       "<path class=\"bond-0 atom-0 atom-1\" d=\"M 56.9315,278.466 L 100,278.466\" style=\"fill:none;fill-rule:evenodd;stroke:#000000;stroke-width:2.0px;stroke-linecap:butt;stroke-linejoin:miter;stroke-opacity:1\"/>\n",
       "<path class=\"bond-4 atom-0 atom-5\" d=\"M 56.9315,278.466 L 19.7116,278.466\" style=\"fill:none;fill-rule:evenodd;stroke:#000000;stroke-width:2.0px;stroke-linecap:butt;stroke-linejoin:miter;stroke-opacity:1\"/>\n",
       "<path class=\"bond-5 atom-0 atom-6\" d=\"M 56.9315,278.466 L 56.9315,242.572\" style=\"fill:none;fill-rule:evenodd;stroke:#000000;stroke-width:2.0px;stroke-linecap:butt;stroke-linejoin:miter;stroke-opacity:1\"/>\n",
       "<path class=\"bond-6 atom-0 atom-7\" d=\"M 56.9315,278.466 L 54.6585,296.973\" style=\"fill:none;fill-rule:evenodd;stroke:#000000;stroke-width:2.0px;stroke-linecap:butt;stroke-linejoin:miter;stroke-opacity:1\"/>\n",
       "<path class=\"bond-1 atom-1 atom-2\" d=\"M 100,278.466 L 100,260.519\" style=\"fill:none;fill-rule:evenodd;stroke:#000000;stroke-width:2.0px;stroke-linecap:butt;stroke-linejoin:miter;stroke-opacity:1\"/>\n",
       "<path class=\"bond-1 atom-1 atom-2\" d=\"M 100,260.519 L 100,242.572\" style=\"fill:none;fill-rule:evenodd;stroke:#7F4C19;stroke-width:2.0px;stroke-linecap:butt;stroke-linejoin:miter;stroke-opacity:1\"/>\n",
       "<path class=\"bond-2 atom-1 atom-3\" d=\"M 100,278.466 L 143.069,278.466\" style=\"fill:none;fill-rule:evenodd;stroke:#000000;stroke-width:2.0px;stroke-linecap:butt;stroke-linejoin:miter;stroke-opacity:1\"/>\n",
       "<path class=\"bond-3 atom-1 atom-4\" d=\"M 100,278.466 L 100,321.534\" style=\"fill:none;fill-rule:evenodd;stroke:#000000;stroke-width:2.0px;stroke-linecap:butt;stroke-linejoin:miter;stroke-opacity:1\"/>\n",
       "<path class=\"bond-7 atom-3 atom-8\" d=\"M 143.069,278.466 L 180.288,278.466\" style=\"fill:none;fill-rule:evenodd;stroke:#000000;stroke-width:2.0px;stroke-linecap:butt;stroke-linejoin:miter;stroke-opacity:1\"/>\n",
       "<path class=\"bond-8 atom-3 atom-9\" d=\"M 143.069,278.466 L 143.069,242.572\" style=\"fill:none;fill-rule:evenodd;stroke:#000000;stroke-width:2.0px;stroke-linecap:butt;stroke-linejoin:miter;stroke-opacity:1\"/>\n",
       "<path class=\"bond-9 atom-3 atom-10\" d=\"M 143.069,278.466 L 145.342,296.973\" style=\"fill:none;fill-rule:evenodd;stroke:#000000;stroke-width:2.0px;stroke-linecap:butt;stroke-linejoin:miter;stroke-opacity:1\"/>\n",
       "<path class=\"bond-10 atom-4 atom-11\" d=\"M 100,321.534 L 100,357.428\" style=\"fill:none;fill-rule:evenodd;stroke:#000000;stroke-width:2.0px;stroke-linecap:butt;stroke-linejoin:miter;stroke-opacity:1\"/>\n",
       "<path class=\"bond-11 atom-4 atom-12\" d=\"M 100,321.534 L 119.834,323.97\" style=\"fill:none;fill-rule:evenodd;stroke:#000000;stroke-width:2.0px;stroke-linecap:butt;stroke-linejoin:miter;stroke-opacity:1\"/>\n",
       "<path class=\"bond-12 atom-4 atom-13\" d=\"M 100,321.534 L 80.1659,323.97\" style=\"fill:none;fill-rule:evenodd;stroke:#000000;stroke-width:2.0px;stroke-linecap:butt;stroke-linejoin:miter;stroke-opacity:1\"/>\n",
       "<path class=\"atom-2\" d=\"M 101.783 235.087 Q 102.955 235.414, 103.54 236.138 Q 104.143 236.844, 104.143 237.895 Q 104.143 239.583, 103.058 240.548 Q 101.99 241.496, 99.9569 241.496 L 95.8568 241.496 L 95.8568 229.299 L 99.4573 229.299 Q 101.542 229.299, 102.593 230.143 Q 103.644 230.987, 103.644 232.537 Q 103.644 234.381, 101.783 235.087 M 97.4934 230.677 L 97.4934 234.501 L 99.4573 234.501 Q 100.663 234.501, 101.283 234.019 Q 101.921 233.519, 101.921 232.537 Q 101.921 230.677, 99.4573 230.677 L 97.4934 230.677 M 99.9569 240.117 Q 101.146 240.117, 101.783 239.549 Q 102.42 238.98, 102.42 237.895 Q 102.42 236.896, 101.714 236.396 Q 101.025 235.88, 99.6985 235.88 L 97.4934 235.88 L 97.4934 240.117 L 99.9569 240.117 \" fill=\"#7F4C19\"/>\n",
       "<path class=\"atom-2\" d=\"M 106.917 232.641 L 107.106 233.864 Q 108.037 232.486, 109.553 232.486 Q 110.035 232.486, 110.69 232.658 L 110.431 234.105 Q 109.69 233.933, 109.277 233.933 Q 108.553 233.933, 108.071 234.226 Q 107.606 234.501, 107.227 235.173 L 107.227 241.496 L 105.608 241.496 L 105.608 232.641 L 106.917 232.641 \" fill=\"#7F4C19\"/>\n",
       "<path class=\"atom-5\" d=\"M 9.09091 272.367 L 10.7447 272.367 L 10.7447 277.553 L 16.9811 277.553 L 16.9811 272.367 L 18.6349 272.367 L 18.6349 284.564 L 16.9811 284.564 L 16.9811 278.931 L 10.7447 278.931 L 10.7447 284.564 L 9.09091 284.564 L 9.09091 272.367 \" fill=\"#000000\"/>\n",
       "<path class=\"atom-6\" d=\"M 52.1595 229.299 L 53.8133 229.299 L 53.8133 234.484 L 60.0496 234.484 L 60.0496 229.299 L 61.7034 229.299 L 61.7034 241.496 L 60.0496 241.496 L 60.0496 235.862 L 53.8133 235.862 L 53.8133 241.496 L 52.1595 241.496 L 52.1595 229.299 \" fill=\"#000000\"/>\n",
       "<path class=\"atom-7\" d=\"M 49.0595 297.609 L 50.7133 297.609 L 50.7133 302.795 L 56.9496 302.795 L 56.9496 297.609 L 58.6034 297.609 L 58.6034 309.806 L 56.9496 309.806 L 56.9496 304.173 L 50.7133 304.173 L 50.7133 309.806 L 49.0595 309.806 L 49.0595 297.609 \" fill=\"#000000\"/>\n",
       "<path class=\"atom-8\" d=\"M 181.365 272.367 L 183.019 272.367 L 183.019 277.553 L 189.255 277.553 L 189.255 272.367 L 190.909 272.367 L 190.909 284.564 L 189.255 284.564 L 189.255 278.931 L 183.019 278.931 L 183.019 284.564 L 181.365 284.564 L 181.365 272.367 \" fill=\"#000000\"/>\n",
       "<path class=\"atom-9\" d=\"M 138.297 229.299 L 139.95 229.299 L 139.95 234.484 L 146.187 234.484 L 146.187 229.299 L 147.841 229.299 L 147.841 241.496 L 146.187 241.496 L 146.187 235.862 L 139.95 235.862 L 139.95 241.496 L 138.297 241.496 L 138.297 229.299 \" fill=\"#000000\"/>\n",
       "<path class=\"atom-10\" d=\"M 141.397 297.609 L 143.05 297.609 L 143.05 302.795 L 149.287 302.795 L 149.287 297.609 L 150.941 297.609 L 150.941 309.806 L 149.287 309.806 L 149.287 304.173 L 143.05 304.173 L 143.05 309.806 L 141.397 309.806 L 141.397 297.609 \" fill=\"#000000\"/>\n",
       "<path class=\"atom-11\" d=\"M 95.228 358.504 L 96.8818 358.504 L 96.8818 363.69 L 103.118 363.69 L 103.118 358.504 L 104.772 358.504 L 104.772 370.701 L 103.118 370.701 L 103.118 365.068 L 96.8818 365.068 L 96.8818 370.701 L 95.228 370.701 L 95.228 358.504 \" fill=\"#000000\"/>\n",
       "<path class=\"atom-12\" d=\"M 120.47 318.536 L 122.124 318.536 L 122.124 323.721 L 128.36 323.721 L 128.36 318.536 L 130.014 318.536 L 130.014 330.733 L 128.36 330.733 L 128.36 325.099 L 122.124 325.099 L 122.124 330.733 L 120.47 330.733 L 120.47 318.536 \" fill=\"#000000\"/>\n",
       "<path class=\"atom-13\" d=\"M 69.9861 318.536 L 71.6399 318.536 L 71.6399 323.721 L 77.8763 323.721 L 77.8763 318.536 L 79.5301 318.536 L 79.5301 330.733 L 77.8763 330.733 L 77.8763 325.099 L 71.6399 325.099 L 71.6399 330.733 L 69.9861 330.733 L 69.9861 318.536 \" fill=\"#000000\"/>\n",
       "</svg>"
      ],
      "text/plain": [
       "<IPython.core.display.SVG object>"
      ]
     },
     "execution_count": 4,
     "metadata": {},
     "output_type": "execute_result"
    }
   ],
   "source": [
    "from rdkit.Chem import Draw\n",
    "\n",
    "def smilesH(m):\n",
    "    return Chem.AddHs(Chem.MolFromSmiles(m))\n",
    "\n",
    "bromomethane = smilesH('CBr')\n",
    "bromoethane = smilesH('CCBr')\n",
    "_2_bromopropane =  smilesH('CC(Br)C')\n",
    "_2_bromo_2_methylpropane = smilesH('CC(Br)(C)C')\n",
    "\n",
    "my_molecules = [bromomethane, \n",
    "                bromoethane,\n",
    "                _2_bromopropane,\n",
    "                _2_bromo_2_methylpropane,\n",
    "               ]\n",
    "\n",
    "Draw.MolsToGridImage(my_molecules, useSVG=True)"
   ]
  },
  {
   "cell_type": "code",
   "execution_count": 5,
   "id": "fatty-shelf",
   "metadata": {},
   "outputs": [
    {
     "data": {
      "image/png": "[encoded data removed]",
      "text/plain": [
       "<rdkit.Chem.rdchem.Mol at 0x11f62be20>"
      ]
     },
     "execution_count": 5,
     "metadata": {},
     "output_type": "execute_result"
    }
   ],
   "source": [
    "from rdkit.Chem import RemoveHs\n",
    "\n",
    "RemoveHs(_2_bromo_2_methylpropane)"
   ]
  },
  {
   "cell_type": "code",
   "execution_count": 6,
   "id": "scenic-robert",
   "metadata": {},
   "outputs": [
    {
     "data": {
      "image/png": "[encoded data removed]",
      "text/plain": [
       "<rdkit.Chem.rdchem.Mol at 0x10cd7de20>"
      ]
     },
     "execution_count": 6,
     "metadata": {},
     "output_type": "execute_result"
    }
   ],
   "source": [
    "#Highlight a substructure\n",
    "m.GetSubstructMatch(Chem.MolFromSmiles('C(N)'))\n",
    "m"
   ]
  },
  {
   "cell_type": "code",
   "execution_count": 7,
   "id": "mysterious-joint",
   "metadata": {},
   "outputs": [],
   "source": [
    "#Following is needed to render molecule structure views in Jupyter notebook\n",
    "from rdkit.Chem.Draw import IPythonConsole\n",
    "from rdkit.Chem import rdChemReactions\n",
    "\n",
    "IPythonConsole.ipython_useSVG=True  \n",
    "\n",
    "rdChemReactions.ReactionFromSmarts(\"C=CCBr>>C=CCI\");"
   ]
  },
  {
   "cell_type": "markdown",
   "id": "sustainable-challenge",
   "metadata": {},
   "source": [
    "### `openbabel` and `pybel`\n",
    "\n",
    "[`openbabel`](http://openbabel.org/wiki/Main_Page), an open source chemistry toolbox, provides a wide range of tools for searching for and converting between various chemistry related representations.\n",
    "\n",
    "A key part of the *openbabel* Python API is the `pybel` package which supports chemical structure parsing, format conversion, and display."
   ]
  },
  {
   "cell_type": "code",
   "execution_count": null,
   "id": "israeli-montgomery",
   "metadata": {
    "tags": [
     "remove-cell"
    ]
   },
   "outputs": [],
   "source": [
    "%%capture\n",
    "\n",
    "try:\n",
    "    import openbabel\n",
    "except:\n",
    "    %pip install openbabel-wheel\n",
    "    ##!brew install open-babel"
   ]
  },
  {
   "cell_type": "code",
   "execution_count": 8,
   "id": "developmental-reflection",
   "metadata": {},
   "outputs": [
    {
     "data": {
      "image/svg+xml": [
       "<svg xmlns=\"http://www.w3.org/2000/svg\" width=\"100\" height=\"100\" x=\"0\" y=\"0\" viewBox=\"0 0 285.477 220\" font-family=\"sans-serif\" stroke=\"rgb(0,0,0)\" stroke-width=\"2\" stroke-linecap=\"round\">\n",
       "<line x1=\"176.2\" y1=\"120.0\" x2=\"176.2\" y2=\"147.0\" opacity=\"1.0\" stroke=\"rgb(0,0,0)\" stroke-width=\"2.0\" />\n",
       "<line x1=\"80.0\" y1=\"80.0\" x2=\"53.0\" y2=\"80.0\" opacity=\"1.0\" stroke=\"rgb(0,0,0)\" stroke-width=\"2.0\" />\n",
       "<line x1=\"99.5\" y1=\"124.7\" x2=\"95.2\" y2=\"138.0\" opacity=\"1.0\" stroke=\"rgb(0,0,0)\" stroke-width=\"2.0\" />\n",
       "<line x1=\"210.8\" y1=\"60.0\" x2=\"234.2\" y2=\"46.5\" opacity=\"1.0\" stroke=\"rgb(0,0,0)\" stroke-width=\"2.0\" />\n",
       "<line x1=\"164.9\" y1=\"166.5\" x2=\"152.8\" y2=\"173.5\" opacity=\"1.0\" stroke=\"rgb(0,0,0)\" stroke-width=\"2.0\" />\n",
       "<line x1=\"187.5\" y1=\"166.5\" x2=\"199.6\" y2=\"173.5\" opacity=\"1.0\" stroke=\"rgb(0,0,0)\" stroke-width=\"2.0\" />\n",
       "<line x1=\"95.8\" y1=\"58.3\" x2=\"80.0\" y2=\"80.0\" opacity=\"1.0\" stroke=\"rgb(0,0,0)\" stroke-width=\"2.0\" />\n",
       "<line x1=\"100.4\" y1=\"64.2\" x2=\"89.4\" y2=\"79.4\" opacity=\"1.0\" stroke=\"rgb(0,0,0)\" stroke-width=\"2.0\" />\n",
       "<line x1=\"80.0\" y1=\"80.0\" x2=\"95.9\" y2=\"101.8\" opacity=\"1.0\" stroke=\"rgb(0,0,0)\" stroke-width=\"2.0\" />\n",
       "<line x1=\"115.9\" y1=\"108.3\" x2=\"141.6\" y2=\"100.0\" opacity=\"1.0\" stroke=\"rgb(0,0,0)\" stroke-width=\"2.0\" />\n",
       "<line x1=\"141.6\" y1=\"100.0\" x2=\"141.6\" y2=\"60.0\" opacity=\"1.0\" stroke=\"rgb(0,0,0)\" stroke-width=\"2.0\" />\n",
       "<line x1=\"134.4\" y1=\"94.0\" x2=\"134.4\" y2=\"66.0\" opacity=\"1.0\" stroke=\"rgb(0,0,0)\" stroke-width=\"2.0\" />\n",
       "<line x1=\"141.6\" y1=\"60.0\" x2=\"115.9\" y2=\"51.7\" opacity=\"1.0\" stroke=\"rgb(0,0,0)\" stroke-width=\"2.0\" />\n",
       "<line x1=\"210.8\" y1=\"60.0\" x2=\"187.6\" y2=\"46.6\" opacity=\"1.0\" stroke=\"rgb(0,0,0)\" stroke-width=\"2.0\" />\n",
       "<line x1=\"202.0\" y1=\"63.2\" x2=\"185.8\" y2=\"53.8\" opacity=\"1.0\" stroke=\"rgb(0,0,0)\" stroke-width=\"2.0\" />\n",
       "<line x1=\"164.9\" y1=\"46.5\" x2=\"141.6\" y2=\"60.0\" opacity=\"1.0\" stroke=\"rgb(0,0,0)\" stroke-width=\"2.0\" />\n",
       "<line x1=\"141.6\" y1=\"100.0\" x2=\"176.2\" y2=\"120.0\" opacity=\"1.0\" stroke=\"rgb(0,0,0)\" stroke-width=\"2.0\" />\n",
       "<line x1=\"176.2\" y1=\"120.0\" x2=\"199.4\" y2=\"106.6\" opacity=\"1.0\" stroke=\"rgb(0,0,0)\" stroke-width=\"2.0\" />\n",
       "<line x1=\"177.8\" y1=\"110.8\" x2=\"194.1\" y2=\"101.4\" opacity=\"1.0\" stroke=\"rgb(0,0,0)\" stroke-width=\"2.0\" />\n",
       "<line x1=\"210.8\" y1=\"87.0\" x2=\"210.8\" y2=\"60.0\" opacity=\"1.0\" stroke=\"rgb(0,0,0)\" stroke-width=\"2.0\" />\n",
       "<text x=\"97.511410\" y=\"55.639320\" fill=\"rgb(12,12,255)\" stroke-width=\"0\" font-weight=\"bold\" font-size=\"16\">N</text>\n",
       "<text x=\"97.511410\" y=\"120.360680\" fill=\"rgb(12,12,255)\" stroke-width=\"0\" font-weight=\"bold\" font-size=\"16\">N</text>\n",
       "<text x=\"204.835703\" y=\"108.000000\" fill=\"rgb(12,12,255)\" stroke-width=\"0\" font-weight=\"bold\" font-size=\"16\">N</text>\n",
       "<text x=\"170.194687\" y=\"48.000000\" fill=\"rgb(12,12,255)\" stroke-width=\"0\" font-weight=\"bold\" font-size=\"16\">N</text>\n",
       "<text x=\"170.194687\" y=\"168.000000\" fill=\"rgb(12,12,255)\" stroke-width=\"0\" font-weight=\"bold\" font-size=\"16\">N</text>\n",
       "<text x=\"34.000000\" y=\"88.000000\" fill=\"rgb(191,191,191)\" stroke-width=\"0\" font-weight=\"bold\" font-size=\"16\">H</text>\n",
       "<text x=\"85.150730\" y=\"158.402940\" fill=\"rgb(191,191,191)\" stroke-width=\"0\" font-weight=\"bold\" font-size=\"16\">H</text>\n",
       "<text x=\"239.476719\" y=\"48.000000\" fill=\"rgb(191,191,191)\" stroke-width=\"0\" font-weight=\"bold\" font-size=\"16\">H</text>\n",
       "<text x=\"135.553671\" y=\"188.000000\" fill=\"rgb(191,191,191)\" stroke-width=\"0\" font-weight=\"bold\" font-size=\"16\">H</text>\n",
       "<text x=\"204.835703\" y=\"188.000000\" fill=\"rgb(191,191,191)\" stroke-width=\"0\" font-weight=\"bold\" font-size=\"16\">H</text>\n",
       "</svg>\n"
      ],
      "text/plain": [
       "<openbabel.pybel.Molecule at 0x11fcff160>"
      ]
     },
     "execution_count": 8,
     "metadata": {},
     "output_type": "execute_result"
    }
   ],
   "source": [
    "from openbabel import pybel\n",
    "\n",
    "mol = pybel.readstring( \"smi\",\"C1=NC2=C(N1)C(=NC=N2)N\" )\n",
    "\n",
    "#Add hydrogens\n",
    "mol.addh()\n",
    "\n",
    "#By default, we preview a small SVG output graphic\n",
    "mol"
   ]
  },
  {
   "cell_type": "code",
   "execution_count": 9,
   "id": "wanted-spotlight",
   "metadata": {},
   "outputs": [
    {
     "data": {
      "image/svg+xml": [
       "<svg xmlns=\"http://www.w3.org/2000/svg\" xmlns:xlink=\"http://www.w3.org/1999/xlink\" xmlns:cml=\"http://www.xml-cml.org/schema\" version=\"1.1\" id=\"topsvg\" x=\"0\" y=\"0\" width=\"200px\" height=\"200px\" viewBox=\"0 0 100 100\">\n",
       "<title> - Open Babel Depiction</title>\n",
       "<rect x=\"0\" y=\"0\" width=\"100\" height=\"100\" fill=\"white\"/>\n",
       "<g transform=\"translate(0,0)\">\n",
       "<svg width=\"100\" height=\"100\" x=\"0\" y=\"0\" viewBox=\"0 0 285.477 220\" font-family=\"sans-serif\" stroke=\"rgb(0,0,0)\" stroke-width=\"2\" stroke-linecap=\"round\">\n",
       "<line x1=\"176.2\" y1=\"120.0\" x2=\"176.2\" y2=\"147.0\" opacity=\"1.0\" stroke=\"rgb(0,0,0)\" stroke-width=\"2.0\"/>\n",
       "<line x1=\"80.0\" y1=\"80.0\" x2=\"53.0\" y2=\"80.0\" opacity=\"1.0\" stroke=\"rgb(0,0,0)\" stroke-width=\"2.0\"/>\n",
       "<line x1=\"99.5\" y1=\"124.7\" x2=\"95.2\" y2=\"138.0\" opacity=\"1.0\" stroke=\"rgb(0,0,0)\" stroke-width=\"2.0\"/>\n",
       "<line x1=\"210.8\" y1=\"60.0\" x2=\"234.2\" y2=\"46.5\" opacity=\"1.0\" stroke=\"rgb(0,0,0)\" stroke-width=\"2.0\"/>\n",
       "<line x1=\"164.9\" y1=\"166.5\" x2=\"152.8\" y2=\"173.5\" opacity=\"1.0\" stroke=\"rgb(0,0,0)\" stroke-width=\"2.0\"/>\n",
       "<line x1=\"187.5\" y1=\"166.5\" x2=\"199.6\" y2=\"173.5\" opacity=\"1.0\" stroke=\"rgb(0,0,0)\" stroke-width=\"2.0\"/>\n",
       "<line x1=\"141.6\" y1=\"60.0\" x2=\"141.6\" y2=\"100.0\" opacity=\"1.0\" stroke=\"rgb(0,0,0)\" stroke-width=\"2.0\"/>\n",
       "<line x1=\"134.4\" y1=\"66.0\" x2=\"134.4\" y2=\"94.0\" opacity=\"1.0\" stroke=\"rgb(0,0,0)\" stroke-width=\"2.0\"/>\n",
       "<line x1=\"141.6\" y1=\"100.0\" x2=\"115.9\" y2=\"108.3\" opacity=\"1.0\" stroke=\"rgb(0,0,0)\" stroke-width=\"2.0\"/>\n",
       "<line x1=\"95.9\" y1=\"101.8\" x2=\"80.0\" y2=\"80.0\" opacity=\"1.0\" stroke=\"rgb(0,0,0)\" stroke-width=\"2.0\"/>\n",
       "<line x1=\"80.0\" y1=\"80.0\" x2=\"95.8\" y2=\"58.3\" opacity=\"1.0\" stroke=\"rgb(0,0,0)\" stroke-width=\"2.0\"/>\n",
       "<line x1=\"89.4\" y1=\"79.4\" x2=\"100.4\" y2=\"64.2\" opacity=\"1.0\" stroke=\"rgb(0,0,0)\" stroke-width=\"2.0\"/>\n",
       "<line x1=\"115.9\" y1=\"51.7\" x2=\"141.6\" y2=\"60.0\" opacity=\"1.0\" stroke=\"rgb(0,0,0)\" stroke-width=\"2.0\"/>\n",
       "<line x1=\"210.8\" y1=\"60.0\" x2=\"210.8\" y2=\"87.0\" opacity=\"1.0\" stroke=\"rgb(0,0,0)\" stroke-width=\"2.0\"/>\n",
       "<line x1=\"199.4\" y1=\"106.6\" x2=\"176.2\" y2=\"120.0\" opacity=\"1.0\" stroke=\"rgb(0,0,0)\" stroke-width=\"2.0\"/>\n",
       "<line x1=\"194.1\" y1=\"101.4\" x2=\"177.8\" y2=\"110.8\" opacity=\"1.0\" stroke=\"rgb(0,0,0)\" stroke-width=\"2.0\"/>\n",
       "<line x1=\"176.2\" y1=\"120.0\" x2=\"141.6\" y2=\"100.0\" opacity=\"1.0\" stroke=\"rgb(0,0,0)\" stroke-width=\"2.0\"/>\n",
       "<line x1=\"141.6\" y1=\"60.0\" x2=\"164.9\" y2=\"46.5\" opacity=\"1.0\" stroke=\"rgb(0,0,0)\" stroke-width=\"2.0\"/>\n",
       "<line x1=\"187.6\" y1=\"46.6\" x2=\"210.8\" y2=\"60.0\" opacity=\"1.0\" stroke=\"rgb(0,0,0)\" stroke-width=\"2.0\"/>\n",
       "<line x1=\"185.8\" y1=\"53.8\" x2=\"202.0\" y2=\"63.2\" opacity=\"1.0\" stroke=\"rgb(0,0,0)\" stroke-width=\"2.0\"/>\n",
       "<text x=\"97.511410\" y=\"55.639320\" fill=\"rgb(12,12,255)\" stroke-width=\"0\" font-weight=\"bold\" font-size=\"16\">N</text>\n",
       "<text x=\"97.511410\" y=\"120.360680\" fill=\"rgb(12,12,255)\" stroke-width=\"0\" font-weight=\"bold\" font-size=\"16\">N</text>\n",
       "<text x=\"204.835703\" y=\"108.000000\" fill=\"rgb(12,12,255)\" stroke-width=\"0\" font-weight=\"bold\" font-size=\"16\">N</text>\n",
       "<text x=\"170.194687\" y=\"48.000000\" fill=\"rgb(12,12,255)\" stroke-width=\"0\" font-weight=\"bold\" font-size=\"16\">N</text>\n",
       "<text x=\"170.194687\" y=\"168.000000\" fill=\"rgb(12,12,255)\" stroke-width=\"0\" font-weight=\"bold\" font-size=\"16\">N</text>\n",
       "<text x=\"34.000000\" y=\"88.000000\" fill=\"rgb(191,191,191)\" stroke-width=\"0\" font-weight=\"bold\" font-size=\"16\">H</text>\n",
       "<text x=\"85.150730\" y=\"158.402940\" fill=\"rgb(191,191,191)\" stroke-width=\"0\" font-weight=\"bold\" font-size=\"16\">H</text>\n",
       "<text x=\"239.476719\" y=\"48.000000\" fill=\"rgb(191,191,191)\" stroke-width=\"0\" font-weight=\"bold\" font-size=\"16\">H</text>\n",
       "<text x=\"135.553671\" y=\"188.000000\" fill=\"rgb(191,191,191)\" stroke-width=\"0\" font-weight=\"bold\" font-size=\"16\">H</text>\n",
       "<text x=\"204.835703\" y=\"188.000000\" fill=\"rgb(191,191,191)\" stroke-width=\"0\" font-weight=\"bold\" font-size=\"16\">H</text>\n",
       "</svg>\n",
       "</g>\n",
       "<text font-size=\"18.000000\" fill=\"black\" font-family=\"sans-serif\" x=\"10.000000\" y=\"20.000000\"/>\n",
       "</svg>"
      ],
      "text/plain": [
       "<IPython.core.display.SVG object>"
      ]
     },
     "execution_count": 9,
     "metadata": {},
     "output_type": "execute_result"
    }
   ],
   "source": [
    "#  Better preview\n",
    "from IPython.display import SVG\n",
    "\n",
    "SVG(mol.write(\"svg\"))"
   ]
  },
  {
   "cell_type": "code",
   "execution_count": 10,
   "id": "champion-senior",
   "metadata": {},
   "outputs": [
    {
     "data": {
      "text/plain": [
       "'c1nc2c([nH]1)c(ncn2)N\\t\\n'"
      ]
     },
     "execution_count": 10,
     "metadata": {},
     "output_type": "execute_result"
    }
   ],
   "source": [
    "mol.write(\"smi\")"
   ]
  },
  {
   "cell_type": "code",
   "execution_count": 11,
   "id": "imported-dodge",
   "metadata": {},
   "outputs": [],
   "source": [
    "from IPython.display import display\n",
    "\n",
    "def smilesSVG(smi, addH=False, bw=False):\n",
    "    ''' Render molecule structure from SMILES string as SVG. '''\n",
    "    \n",
    "    mol = pybel.readstring( \"smi\",smi )\n",
    "    if addH: mol.addh()\n",
    "    conv = pybel.ob.OBConversion()\n",
    "    conv.SetOutFormat(\"svg\")\n",
    "    #Optonally, set black and white output\n",
    "    #The openbabel SVG export formatter has an -xu option which we can pass\n",
    "    #Via: https://github.com/openbabel/openbabel/issues/1879#issuecomment-411830813\n",
    "    if bw:\n",
    "        conv.SetOptions('u', conv.OUTOPTIONS)\n",
    "    display(SVG(conv.WriteString(mol.OBMol)))\n",
    "    #display(SVG(mol.write(\"svg\")))"
   ]
  },
  {
   "cell_type": "code",
   "execution_count": 12,
   "id": "purple-teens",
   "metadata": {},
   "outputs": [
    {
     "data": {
      "image/svg+xml": [
       "<svg xmlns=\"http://www.w3.org/2000/svg\" xmlns:xlink=\"http://www.w3.org/1999/xlink\" xmlns:cml=\"http://www.xml-cml.org/schema\" version=\"1.1\" id=\"topsvg\" x=\"0\" y=\"0\" width=\"200px\" height=\"200px\" viewBox=\"0 0 100 100\">\n",
       "<title> - Open Babel Depiction</title>\n",
       "<rect x=\"0\" y=\"0\" width=\"100\" height=\"100\" fill=\"white\"/>\n",
       "<g transform=\"translate(0,0)\">\n",
       "<svg width=\"100\" height=\"100\" x=\"0\" y=\"0\" viewBox=\"0 0 210.836 200\" font-family=\"sans-serif\" stroke=\"rgb(0,0,0)\" stroke-width=\"2\" stroke-linecap=\"round\">\n",
       "<line x1=\"136.2\" y1=\"120.0\" x2=\"136.2\" y2=\"147.0\" opacity=\"1.0\" stroke=\"rgb(0,0,0)\" stroke-width=\"2.0\"/>\n",
       "<line x1=\"101.6\" y1=\"60.0\" x2=\"101.6\" y2=\"100.0\" opacity=\"1.0\" stroke=\"rgb(0,0,0)\" stroke-width=\"2.0\"/>\n",
       "<line x1=\"94.4\" y1=\"66.0\" x2=\"94.4\" y2=\"94.0\" opacity=\"1.0\" stroke=\"rgb(0,0,0)\" stroke-width=\"2.0\"/>\n",
       "<line x1=\"101.6\" y1=\"100.0\" x2=\"75.9\" y2=\"108.3\" opacity=\"1.0\" stroke=\"rgb(0,0,0)\" stroke-width=\"2.0\"/>\n",
       "<line x1=\"55.9\" y1=\"101.8\" x2=\"40.0\" y2=\"80.0\" opacity=\"1.0\" stroke=\"rgb(0,0,0)\" stroke-width=\"2.0\"/>\n",
       "<line x1=\"40.0\" y1=\"80.0\" x2=\"55.8\" y2=\"58.3\" opacity=\"1.0\" stroke=\"rgb(0,0,0)\" stroke-width=\"2.0\"/>\n",
       "<line x1=\"49.4\" y1=\"79.4\" x2=\"60.4\" y2=\"64.2\" opacity=\"1.0\" stroke=\"rgb(0,0,0)\" stroke-width=\"2.0\"/>\n",
       "<line x1=\"75.9\" y1=\"51.7\" x2=\"101.6\" y2=\"60.0\" opacity=\"1.0\" stroke=\"rgb(0,0,0)\" stroke-width=\"2.0\"/>\n",
       "<line x1=\"170.8\" y1=\"60.0\" x2=\"170.8\" y2=\"87.0\" opacity=\"1.0\" stroke=\"rgb(0,0,0)\" stroke-width=\"2.0\"/>\n",
       "<line x1=\"159.4\" y1=\"106.6\" x2=\"136.2\" y2=\"120.0\" opacity=\"1.0\" stroke=\"rgb(0,0,0)\" stroke-width=\"2.0\"/>\n",
       "<line x1=\"154.1\" y1=\"101.4\" x2=\"137.8\" y2=\"110.8\" opacity=\"1.0\" stroke=\"rgb(0,0,0)\" stroke-width=\"2.0\"/>\n",
       "<line x1=\"136.2\" y1=\"120.0\" x2=\"101.6\" y2=\"100.0\" opacity=\"1.0\" stroke=\"rgb(0,0,0)\" stroke-width=\"2.0\"/>\n",
       "<line x1=\"101.6\" y1=\"60.0\" x2=\"124.9\" y2=\"46.5\" opacity=\"1.0\" stroke=\"rgb(0,0,0)\" stroke-width=\"2.0\"/>\n",
       "<line x1=\"147.6\" y1=\"46.6\" x2=\"170.8\" y2=\"60.0\" opacity=\"1.0\" stroke=\"rgb(0,0,0)\" stroke-width=\"2.0\"/>\n",
       "<line x1=\"145.8\" y1=\"53.8\" x2=\"162.0\" y2=\"63.2\" opacity=\"1.0\" stroke=\"rgb(0,0,0)\" stroke-width=\"2.0\"/>\n",
       "<text x=\"57.511410\" y=\"55.639320\" fill=\"rgb(12,12,255)\" stroke-width=\"0\" font-weight=\"bold\" font-size=\"16\">N</text>\n",
       "<text x=\"57.511410\" y=\"120.360680\" fill=\"rgb(12,12,255)\" stroke-width=\"0\" font-weight=\"bold\" font-size=\"16\">N</text>\n",
       "<text x=\"57.511410\" y=\"136.360680\" fill=\"rgb(12,12,255)\" stroke-width=\"0\" font-weight=\"bold\" font-size=\"16\">H</text>\n",
       "<text x=\"164.835703\" y=\"108.000000\" fill=\"rgb(12,12,255)\" stroke-width=\"0\" font-weight=\"bold\" font-size=\"16\">N</text>\n",
       "<text x=\"130.194687\" y=\"48.000000\" fill=\"rgb(12,12,255)\" stroke-width=\"0\" font-weight=\"bold\" font-size=\"16\">N</text>\n",
       "<text x=\"132.194687\" y=\"168.000000\" fill=\"rgb(12,12,255)\" stroke-width=\"0\" font-weight=\"bold\" font-size=\"16\">NH</text>\n",
       "<text x=\"156.194687\" y=\"171.680000\" fill=\"rgb(12,12,255)\" stroke-width=\"0\" font-weight=\"bold\" font-size=\"13\">2</text>\n",
       "</svg>\n",
       "</g>\n",
       "<text font-size=\"18.000000\" fill=\"black\" font-family=\"sans-serif\" x=\"10.000000\" y=\"20.000000\"/>\n",
       "</svg>"
      ],
      "text/plain": [
       "<IPython.core.display.SVG object>"
      ]
     },
     "metadata": {},
     "output_type": "display_data"
    }
   ],
   "source": [
    "smilesSVG( \"C1=NC2=C(N1)C(=NC=N2)N\" )"
   ]
  },
  {
   "cell_type": "code",
   "execution_count": 13,
   "id": "disciplinary-mathematics",
   "metadata": {},
   "outputs": [
    {
     "data": {
      "image/svg+xml": [
       "<svg xmlns=\"http://www.w3.org/2000/svg\" xmlns:xlink=\"http://www.w3.org/1999/xlink\" xmlns:cml=\"http://www.xml-cml.org/schema\" version=\"1.1\" id=\"topsvg\" x=\"0\" y=\"0\" width=\"200px\" height=\"200px\" viewBox=\"0 0 100 100\">\n",
       "<title> - Open Babel Depiction</title>\n",
       "<rect x=\"0\" y=\"0\" width=\"100\" height=\"100\" fill=\"white\"/>\n",
       "<g transform=\"translate(0,0)\">\n",
       "<svg width=\"100\" height=\"100\" x=\"0\" y=\"0\" viewBox=\"0 0 285.477 220\" font-family=\"sans-serif\" stroke=\"rgb(0,0,0)\" stroke-width=\"2\" stroke-linecap=\"round\">\n",
       "<line x1=\"176.2\" y1=\"120.0\" x2=\"176.2\" y2=\"147.0\" opacity=\"1.0\" stroke=\"rgb(0,0,0)\" stroke-width=\"2.0\"/>\n",
       "<line x1=\"80.0\" y1=\"80.0\" x2=\"53.0\" y2=\"80.0\" opacity=\"1.0\" stroke=\"rgb(0,0,0)\" stroke-width=\"2.0\"/>\n",
       "<line x1=\"99.5\" y1=\"124.7\" x2=\"95.2\" y2=\"138.0\" opacity=\"1.0\" stroke=\"rgb(0,0,0)\" stroke-width=\"2.0\"/>\n",
       "<line x1=\"210.8\" y1=\"60.0\" x2=\"234.2\" y2=\"46.5\" opacity=\"1.0\" stroke=\"rgb(0,0,0)\" stroke-width=\"2.0\"/>\n",
       "<line x1=\"164.9\" y1=\"166.5\" x2=\"152.8\" y2=\"173.5\" opacity=\"1.0\" stroke=\"rgb(0,0,0)\" stroke-width=\"2.0\"/>\n",
       "<line x1=\"187.5\" y1=\"166.5\" x2=\"199.6\" y2=\"173.5\" opacity=\"1.0\" stroke=\"rgb(0,0,0)\" stroke-width=\"2.0\"/>\n",
       "<line x1=\"141.6\" y1=\"60.0\" x2=\"141.6\" y2=\"100.0\" opacity=\"1.0\" stroke=\"rgb(0,0,0)\" stroke-width=\"2.0\"/>\n",
       "<line x1=\"134.4\" y1=\"66.0\" x2=\"134.4\" y2=\"94.0\" opacity=\"1.0\" stroke=\"rgb(0,0,0)\" stroke-width=\"2.0\"/>\n",
       "<line x1=\"141.6\" y1=\"100.0\" x2=\"115.9\" y2=\"108.3\" opacity=\"1.0\" stroke=\"rgb(0,0,0)\" stroke-width=\"2.0\"/>\n",
       "<line x1=\"95.9\" y1=\"101.8\" x2=\"80.0\" y2=\"80.0\" opacity=\"1.0\" stroke=\"rgb(0,0,0)\" stroke-width=\"2.0\"/>\n",
       "<line x1=\"80.0\" y1=\"80.0\" x2=\"95.8\" y2=\"58.3\" opacity=\"1.0\" stroke=\"rgb(0,0,0)\" stroke-width=\"2.0\"/>\n",
       "<line x1=\"89.4\" y1=\"79.4\" x2=\"100.4\" y2=\"64.2\" opacity=\"1.0\" stroke=\"rgb(0,0,0)\" stroke-width=\"2.0\"/>\n",
       "<line x1=\"115.9\" y1=\"51.7\" x2=\"141.6\" y2=\"60.0\" opacity=\"1.0\" stroke=\"rgb(0,0,0)\" stroke-width=\"2.0\"/>\n",
       "<line x1=\"210.8\" y1=\"60.0\" x2=\"210.8\" y2=\"87.0\" opacity=\"1.0\" stroke=\"rgb(0,0,0)\" stroke-width=\"2.0\"/>\n",
       "<line x1=\"199.4\" y1=\"106.6\" x2=\"176.2\" y2=\"120.0\" opacity=\"1.0\" stroke=\"rgb(0,0,0)\" stroke-width=\"2.0\"/>\n",
       "<line x1=\"194.1\" y1=\"101.4\" x2=\"177.8\" y2=\"110.8\" opacity=\"1.0\" stroke=\"rgb(0,0,0)\" stroke-width=\"2.0\"/>\n",
       "<line x1=\"176.2\" y1=\"120.0\" x2=\"141.6\" y2=\"100.0\" opacity=\"1.0\" stroke=\"rgb(0,0,0)\" stroke-width=\"2.0\"/>\n",
       "<line x1=\"141.6\" y1=\"60.0\" x2=\"164.9\" y2=\"46.5\" opacity=\"1.0\" stroke=\"rgb(0,0,0)\" stroke-width=\"2.0\"/>\n",
       "<line x1=\"187.6\" y1=\"46.6\" x2=\"210.8\" y2=\"60.0\" opacity=\"1.0\" stroke=\"rgb(0,0,0)\" stroke-width=\"2.0\"/>\n",
       "<line x1=\"185.8\" y1=\"53.8\" x2=\"202.0\" y2=\"63.2\" opacity=\"1.0\" stroke=\"rgb(0,0,0)\" stroke-width=\"2.0\"/>\n",
       "<text x=\"97.511410\" y=\"55.639320\" fill=\"rgb(12,12,255)\" stroke-width=\"0\" font-weight=\"bold\" font-size=\"16\">N</text>\n",
       "<text x=\"97.511410\" y=\"120.360680\" fill=\"rgb(12,12,255)\" stroke-width=\"0\" font-weight=\"bold\" font-size=\"16\">N</text>\n",
       "<text x=\"204.835703\" y=\"108.000000\" fill=\"rgb(12,12,255)\" stroke-width=\"0\" font-weight=\"bold\" font-size=\"16\">N</text>\n",
       "<text x=\"170.194687\" y=\"48.000000\" fill=\"rgb(12,12,255)\" stroke-width=\"0\" font-weight=\"bold\" font-size=\"16\">N</text>\n",
       "<text x=\"170.194687\" y=\"168.000000\" fill=\"rgb(12,12,255)\" stroke-width=\"0\" font-weight=\"bold\" font-size=\"16\">N</text>\n",
       "<text x=\"34.000000\" y=\"88.000000\" fill=\"rgb(191,191,191)\" stroke-width=\"0\" font-weight=\"bold\" font-size=\"16\">H</text>\n",
       "<text x=\"85.150730\" y=\"158.402940\" fill=\"rgb(191,191,191)\" stroke-width=\"0\" font-weight=\"bold\" font-size=\"16\">H</text>\n",
       "<text x=\"239.476719\" y=\"48.000000\" fill=\"rgb(191,191,191)\" stroke-width=\"0\" font-weight=\"bold\" font-size=\"16\">H</text>\n",
       "<text x=\"135.553671\" y=\"188.000000\" fill=\"rgb(191,191,191)\" stroke-width=\"0\" font-weight=\"bold\" font-size=\"16\">H</text>\n",
       "<text x=\"204.835703\" y=\"188.000000\" fill=\"rgb(191,191,191)\" stroke-width=\"0\" font-weight=\"bold\" font-size=\"16\">H</text>\n",
       "</svg>\n",
       "</g>\n",
       "<text font-size=\"18.000000\" fill=\"black\" font-family=\"sans-serif\" x=\"10.000000\" y=\"20.000000\"/>\n",
       "</svg>"
      ],
      "text/plain": [
       "<IPython.core.display.SVG object>"
      ]
     },
     "metadata": {},
     "output_type": "display_data"
    }
   ],
   "source": [
    "smilesSVG( \"C1=NC2=C(N1)C(=NC=N2)N\", addH= True )\n"
   ]
  },
  {
   "cell_type": "code",
   "execution_count": 14,
   "id": "sporting-resistance",
   "metadata": {},
   "outputs": [
    {
     "data": {
      "image/svg+xml": [
       "<svg xmlns=\"http://www.w3.org/2000/svg\" xmlns:xlink=\"http://www.w3.org/1999/xlink\" xmlns:cml=\"http://www.xml-cml.org/schema\" version=\"1.1\" id=\"topsvg\" x=\"0\" y=\"0\" width=\"200px\" height=\"200px\" viewBox=\"0 0 100 100\">\n",
       "<title> - Open Babel Depiction</title>\n",
       "<rect x=\"0\" y=\"0\" width=\"100\" height=\"100\" fill=\"white\"/>\n",
       "<g transform=\"translate(0,0)\">\n",
       "<svg width=\"100\" height=\"100\" x=\"0\" y=\"0\" viewBox=\"0 0 210.836 200\" font-family=\"sans-serif\" stroke=\"rgb(0,0,0)\" stroke-width=\"2\" stroke-linecap=\"round\">\n",
       "<line x1=\"136.2\" y1=\"120.0\" x2=\"136.2\" y2=\"147.0\" opacity=\"1.0\" stroke=\"rgb(0,0,0)\" stroke-width=\"2.0\"/>\n",
       "<line x1=\"101.6\" y1=\"60.0\" x2=\"101.6\" y2=\"100.0\" opacity=\"1.0\" stroke=\"rgb(0,0,0)\" stroke-width=\"2.0\"/>\n",
       "<line x1=\"94.4\" y1=\"66.0\" x2=\"94.4\" y2=\"94.0\" opacity=\"1.0\" stroke=\"rgb(0,0,0)\" stroke-width=\"2.0\"/>\n",
       "<line x1=\"101.6\" y1=\"100.0\" x2=\"75.9\" y2=\"108.3\" opacity=\"1.0\" stroke=\"rgb(0,0,0)\" stroke-width=\"2.0\"/>\n",
       "<line x1=\"55.9\" y1=\"101.8\" x2=\"40.0\" y2=\"80.0\" opacity=\"1.0\" stroke=\"rgb(0,0,0)\" stroke-width=\"2.0\"/>\n",
       "<line x1=\"40.0\" y1=\"80.0\" x2=\"55.8\" y2=\"58.3\" opacity=\"1.0\" stroke=\"rgb(0,0,0)\" stroke-width=\"2.0\"/>\n",
       "<line x1=\"49.4\" y1=\"79.4\" x2=\"60.4\" y2=\"64.2\" opacity=\"1.0\" stroke=\"rgb(0,0,0)\" stroke-width=\"2.0\"/>\n",
       "<line x1=\"75.9\" y1=\"51.7\" x2=\"101.6\" y2=\"60.0\" opacity=\"1.0\" stroke=\"rgb(0,0,0)\" stroke-width=\"2.0\"/>\n",
       "<line x1=\"170.8\" y1=\"60.0\" x2=\"170.8\" y2=\"87.0\" opacity=\"1.0\" stroke=\"rgb(0,0,0)\" stroke-width=\"2.0\"/>\n",
       "<line x1=\"159.4\" y1=\"106.6\" x2=\"136.2\" y2=\"120.0\" opacity=\"1.0\" stroke=\"rgb(0,0,0)\" stroke-width=\"2.0\"/>\n",
       "<line x1=\"154.1\" y1=\"101.4\" x2=\"137.8\" y2=\"110.8\" opacity=\"1.0\" stroke=\"rgb(0,0,0)\" stroke-width=\"2.0\"/>\n",
       "<line x1=\"136.2\" y1=\"120.0\" x2=\"101.6\" y2=\"100.0\" opacity=\"1.0\" stroke=\"rgb(0,0,0)\" stroke-width=\"2.0\"/>\n",
       "<line x1=\"101.6\" y1=\"60.0\" x2=\"124.9\" y2=\"46.5\" opacity=\"1.0\" stroke=\"rgb(0,0,0)\" stroke-width=\"2.0\"/>\n",
       "<line x1=\"147.6\" y1=\"46.6\" x2=\"170.8\" y2=\"60.0\" opacity=\"1.0\" stroke=\"rgb(0,0,0)\" stroke-width=\"2.0\"/>\n",
       "<line x1=\"145.8\" y1=\"53.8\" x2=\"162.0\" y2=\"63.2\" opacity=\"1.0\" stroke=\"rgb(0,0,0)\" stroke-width=\"2.0\"/>\n",
       "<text x=\"57.511410\" y=\"55.639320\" fill=\"rgb(0,0,0)\" stroke-width=\"0\" font-weight=\"bold\" font-size=\"16\">N</text>\n",
       "<text x=\"57.511410\" y=\"120.360680\" fill=\"rgb(0,0,0)\" stroke-width=\"0\" font-weight=\"bold\" font-size=\"16\">N</text>\n",
       "<text x=\"57.511410\" y=\"136.360680\" fill=\"rgb(0,0,0)\" stroke-width=\"0\" font-weight=\"bold\" font-size=\"16\">H</text>\n",
       "<text x=\"164.835703\" y=\"108.000000\" fill=\"rgb(0,0,0)\" stroke-width=\"0\" font-weight=\"bold\" font-size=\"16\">N</text>\n",
       "<text x=\"130.194687\" y=\"48.000000\" fill=\"rgb(0,0,0)\" stroke-width=\"0\" font-weight=\"bold\" font-size=\"16\">N</text>\n",
       "<text x=\"132.194687\" y=\"168.000000\" fill=\"rgb(0,0,0)\" stroke-width=\"0\" font-weight=\"bold\" font-size=\"16\">NH</text>\n",
       "<text x=\"156.194687\" y=\"171.680000\" fill=\"rgb(0,0,0)\" stroke-width=\"0\" font-weight=\"bold\" font-size=\"13\">2</text>\n",
       "</svg>\n",
       "</g>\n",
       "<text font-size=\"18.000000\" fill=\"black\" font-family=\"sans-serif\" x=\"10.000000\" y=\"20.000000\"/>\n",
       "</svg>"
      ],
      "text/plain": [
       "<IPython.core.display.SVG object>"
      ]
     },
     "metadata": {},
     "output_type": "display_data"
    }
   ],
   "source": [
    "smilesSVG( \"C1=NC2=C(N1)C(=NC=N2)N\", addH=False, bw=True );\n"
   ]
  },
  {
   "cell_type": "markdown",
   "id": "precise-refund",
   "metadata": {},
   "source": [
    "##  3D visualisations — `py3dmol` demo\n",
    "\n",
    "We can embed interactive 3D widget visualisations of molecules into a page using the `py3dmol` widget:"
   ]
  },
  {
   "cell_type": "code",
   "execution_count": 15,
   "id": "quality-standing",
   "metadata": {
    "tags": [
     "remove-cell"
    ]
   },
   "outputs": [],
   "source": [
    "%%capture\n",
    "try:\n",
    "    import py3Dmol\n",
    "except:\n",
    "    %pip install py3Dmol"
   ]
  },
  {
   "cell_type": "code",
   "execution_count": 16,
   "id": "located-recruitment",
   "metadata": {
    "tags": [
     "hide-input"
    ]
   },
   "outputs": [
    {
     "data": {
      "application/3dmoljs_load.v0": "<div id=\"3dmolviewer_1621864271005373\"  style=\"position: relative; width: 640px; height: 480px\">\n        <p id=\"3dmolwarning_1621864271005373\" style=\"background-color:#ffcccc;color:black\">You appear to be running in JupyterLab (or JavaScript failed to load for some other reason).  You need to install the 3dmol extension: <br>\n        <tt>jupyter labextension install jupyterlab_3dmol</tt></p>\n        </div>\n<script>\n\nvar loadScriptAsync = function(uri){\n  return new Promise((resolve, reject) => {\n    var tag = document.createElement('script');\n    tag.src = uri;\n    tag.async = true;\n    tag.onload = () => {\n      resolve();\n    };\n  var firstScriptTag = document.getElementsByTagName('script')[0];\n  firstScriptTag.parentNode.insertBefore(tag, firstScriptTag);\n});\n};\n\nif(typeof $3Dmolpromise === 'undefined') {\n$3Dmolpromise = null;\n  $3Dmolpromise = loadScriptAsync('https://3dmol.org/build/3Dmol.js');\n}\n\nvar viewer_1621864271005373 = null;\nvar warn = document.getElementById(\"3dmolwarning_1621864271005373\");\nif(warn) {\n    warn.parentNode.removeChild(warn);\n}\n$3Dmolpromise.then(function() {\nviewer_1621864271005373 = $3Dmol.createViewer($(\"#3dmolviewer_1621864271005373\"),{backgroundColor:\"white\"});\n$3Dmol.download(\"cid:702\", viewer_1621864271005373, {}, function() {\nviewer_1621864271005373.zoomTo();\n\tviewer_1621864271005373.setStyle({\"stick\": {\"radius\": 0.1}, \"sphere\": {\"scale\": 0.25}});\nviewer_1621864271005373.render();\n})\n});\n</script>",
      "text/html": [
       "<div id=\"3dmolviewer_1621864271005373\"  style=\"position: relative; width: 640px; height: 480px\">\n",
       "        <p id=\"3dmolwarning_1621864271005373\" style=\"background-color:#ffcccc;color:black\">You appear to be running in JupyterLab (or JavaScript failed to load for some other reason).  You need to install the 3dmol extension: <br>\n",
       "        <tt>jupyter labextension install jupyterlab_3dmol</tt></p>\n",
       "        </div>\n",
       "<script>\n",
       "\n",
       "var loadScriptAsync = function(uri){\n",
       "  return new Promise((resolve, reject) => {\n",
       "    var tag = document.createElement('script');\n",
       "    tag.src = uri;\n",
       "    tag.async = true;\n",
       "    tag.onload = () => {\n",
       "      resolve();\n",
       "    };\n",
       "  var firstScriptTag = document.getElementsByTagName('script')[0];\n",
       "  firstScriptTag.parentNode.insertBefore(tag, firstScriptTag);\n",
       "});\n",
       "};\n",
       "\n",
       "if(typeof $3Dmolpromise === 'undefined') {\n",
       "$3Dmolpromise = null;\n",
       "  $3Dmolpromise = loadScriptAsync('https://3dmol.org/build/3Dmol.js');\n",
       "}\n",
       "\n",
       "var viewer_1621864271005373 = null;\n",
       "var warn = document.getElementById(\"3dmolwarning_1621864271005373\");\n",
       "if(warn) {\n",
       "    warn.parentNode.removeChild(warn);\n",
       "}\n",
       "$3Dmolpromise.then(function() {\n",
       "viewer_1621864271005373 = $3Dmol.createViewer($(\"#3dmolviewer_1621864271005373\"),{backgroundColor:\"white\"});\n",
       "$3Dmol.download(\"cid:702\", viewer_1621864271005373, {}, function() {\n",
       "viewer_1621864271005373.zoomTo();\n",
       "\tviewer_1621864271005373.setStyle({\"stick\": {\"radius\": 0.1}, \"sphere\": {\"scale\": 0.25}});\n",
       "viewer_1621864271005373.render();\n",
       "})\n",
       "});\n",
       "</script>"
      ]
     },
     "metadata": {},
     "output_type": "display_data"
    }
   ],
   "source": [
    "import py3Dmol\n",
    "\n",
    "# Lookup a molecule using its CID (PubChem Compound Identification) code\n",
    "p=py3Dmol.view(query='cid:702')\n",
    "\n",
    "# Set the render style\n",
    "p.setStyle({'stick': {'radius': .1}, 'sphere': {'scale': 0.25}})\n",
    "p.show()"
   ]
  },
  {
   "cell_type": "markdown",
   "id": "jewish-retrieval",
   "metadata": {},
   "source": [
    "*Various lookup codes: https://pubchem.ncbi.nlm.nih.gov/search/help_search.html*\n",
    "\n",
    "SMILES/SMARTS Input\n",
    "SMILES -- Simplified Molecular Input Line Entry System,\n",
    "\n",
    "Protein Data Bank (PDB) "
   ]
  },
  {
   "cell_type": "code",
   "execution_count": 17,
   "id": "uniform-milwaukee",
   "metadata": {},
   "outputs": [
    {
     "data": {
      "application/3dmoljs_load.v0": "<div id=\"3dmolviewer_1621864271017337\"  style=\"position: relative; width: 640px; height: 480px\">\n        <p id=\"3dmolwarning_1621864271017337\" style=\"background-color:#ffcccc;color:black\">You appear to be running in JupyterLab (or JavaScript failed to load for some other reason).  You need to install the 3dmol extension: <br>\n        <tt>jupyter labextension install jupyterlab_3dmol</tt></p>\n        </div>\n<script>\n\nvar loadScriptAsync = function(uri){\n  return new Promise((resolve, reject) => {\n    var tag = document.createElement('script');\n    tag.src = uri;\n    tag.async = true;\n    tag.onload = () => {\n      resolve();\n    };\n  var firstScriptTag = document.getElementsByTagName('script')[0];\n  firstScriptTag.parentNode.insertBefore(tag, firstScriptTag);\n});\n};\n\nif(typeof $3Dmolpromise === 'undefined') {\n$3Dmolpromise = null;\n  $3Dmolpromise = loadScriptAsync('https://3dmol.org/build/3Dmol.js');\n}\n\nvar viewer_1621864271017337 = null;\nvar warn = document.getElementById(\"3dmolwarning_1621864271017337\");\nif(warn) {\n    warn.parentNode.removeChild(warn);\n}\n$3Dmolpromise.then(function() {\nviewer_1621864271017337 = $3Dmol.createViewer($(\"#3dmolviewer_1621864271017337\"),{backgroundColor:\"white\"});\n$3Dmol.download(\"pdb:1ycr\", viewer_1621864271017337, {}, function() {\nviewer_1621864271017337.zoomTo();\n\tviewer_1621864271017337.setStyle({\"stick\": {\"radius\": 0.1}, \"sphere\": {\"scale\": 0.25}});\nviewer_1621864271017337.render();\n})\n});\n</script>",
      "text/html": [
       "<div id=\"3dmolviewer_1621864271017337\"  style=\"position: relative; width: 640px; height: 480px\">\n",
       "        <p id=\"3dmolwarning_1621864271017337\" style=\"background-color:#ffcccc;color:black\">You appear to be running in JupyterLab (or JavaScript failed to load for some other reason).  You need to install the 3dmol extension: <br>\n",
       "        <tt>jupyter labextension install jupyterlab_3dmol</tt></p>\n",
       "        </div>\n",
       "<script>\n",
       "\n",
       "var loadScriptAsync = function(uri){\n",
       "  return new Promise((resolve, reject) => {\n",
       "    var tag = document.createElement('script');\n",
       "    tag.src = uri;\n",
       "    tag.async = true;\n",
       "    tag.onload = () => {\n",
       "      resolve();\n",
       "    };\n",
       "  var firstScriptTag = document.getElementsByTagName('script')[0];\n",
       "  firstScriptTag.parentNode.insertBefore(tag, firstScriptTag);\n",
       "});\n",
       "};\n",
       "\n",
       "if(typeof $3Dmolpromise === 'undefined') {\n",
       "$3Dmolpromise = null;\n",
       "  $3Dmolpromise = loadScriptAsync('https://3dmol.org/build/3Dmol.js');\n",
       "}\n",
       "\n",
       "var viewer_1621864271017337 = null;\n",
       "var warn = document.getElementById(\"3dmolwarning_1621864271017337\");\n",
       "if(warn) {\n",
       "    warn.parentNode.removeChild(warn);\n",
       "}\n",
       "$3Dmolpromise.then(function() {\n",
       "viewer_1621864271017337 = $3Dmol.createViewer($(\"#3dmolviewer_1621864271017337\"),{backgroundColor:\"white\"});\n",
       "$3Dmol.download(\"pdb:1ycr\", viewer_1621864271017337, {}, function() {\n",
       "viewer_1621864271017337.zoomTo();\n",
       "\tviewer_1621864271017337.setStyle({\"stick\": {\"radius\": 0.1}, \"sphere\": {\"scale\": 0.25}});\n",
       "viewer_1621864271017337.render();\n",
       "})\n",
       "});\n",
       "</script>"
      ]
     },
     "metadata": {},
     "output_type": "display_data"
    },
    {
     "data": {
      "text/plain": [
       "<py3Dmol.view at 0x11fd64580>"
      ]
     },
     "execution_count": 17,
     "metadata": {},
     "output_type": "execute_result"
    }
   ],
   "source": [
    "p = py3Dmol.view(query='pdb:1ycr')\n",
    "p.setStyle({'stick': {'radius': .1}, 'sphere': {'scale': 0.25}})"
   ]
  },
  {
   "cell_type": "code",
   "execution_count": 18,
   "id": "married-premises",
   "metadata": {},
   "outputs": [
    {
     "data": {
      "application/3dmoljs_load.v0": "<div id=\"3dmolviewer_1621864271032054\"  style=\"position: relative; width: 640px; height: 480px\">\n        <p id=\"3dmolwarning_1621864271032054\" style=\"background-color:#ffcccc;color:black\">You appear to be running in JupyterLab (or JavaScript failed to load for some other reason).  You need to install the 3dmol extension: <br>\n        <tt>jupyter labextension install jupyterlab_3dmol</tt></p>\n        </div>\n<script>\n\nvar loadScriptAsync = function(uri){\n  return new Promise((resolve, reject) => {\n    var tag = document.createElement('script');\n    tag.src = uri;\n    tag.async = true;\n    tag.onload = () => {\n      resolve();\n    };\n  var firstScriptTag = document.getElementsByTagName('script')[0];\n  firstScriptTag.parentNode.insertBefore(tag, firstScriptTag);\n});\n};\n\nif(typeof $3Dmolpromise === 'undefined') {\n$3Dmolpromise = null;\n  $3Dmolpromise = loadScriptAsync('https://3dmol.org/build/3Dmol.js');\n}\n\nvar viewer_1621864271032054 = null;\nvar warn = document.getElementById(\"3dmolwarning_1621864271032054\");\nif(warn) {\n    warn.parentNode.removeChild(warn);\n}\n$3Dmolpromise.then(function() {\nviewer_1621864271032054 = $3Dmol.createViewer($(\"#3dmolviewer_1621864271032054\"),{backgroundColor:\"white\"});\n$3Dmol.download(\"pdb:1ycr\", viewer_1621864271032054, {}, function() {\nviewer_1621864271032054.zoomTo();\n\tviewer_1621864271032054.setStyle({\"stick\": {\"radius\": 0.1}, \"sphere\": {\"scale\": 0.25}});\n\tviewer_1621864271032054.setStyle({\"cartoon\": {\"color\": \"spectrum\"}});\nviewer_1621864271032054.render();\n})\n});\n</script>",
      "text/html": [
       "<div id=\"3dmolviewer_1621864271032054\"  style=\"position: relative; width: 640px; height: 480px\">\n",
       "        <p id=\"3dmolwarning_1621864271032054\" style=\"background-color:#ffcccc;color:black\">You appear to be running in JupyterLab (or JavaScript failed to load for some other reason).  You need to install the 3dmol extension: <br>\n",
       "        <tt>jupyter labextension install jupyterlab_3dmol</tt></p>\n",
       "        </div>\n",
       "<script>\n",
       "\n",
       "var loadScriptAsync = function(uri){\n",
       "  return new Promise((resolve, reject) => {\n",
       "    var tag = document.createElement('script');\n",
       "    tag.src = uri;\n",
       "    tag.async = true;\n",
       "    tag.onload = () => {\n",
       "      resolve();\n",
       "    };\n",
       "  var firstScriptTag = document.getElementsByTagName('script')[0];\n",
       "  firstScriptTag.parentNode.insertBefore(tag, firstScriptTag);\n",
       "});\n",
       "};\n",
       "\n",
       "if(typeof $3Dmolpromise === 'undefined') {\n",
       "$3Dmolpromise = null;\n",
       "  $3Dmolpromise = loadScriptAsync('https://3dmol.org/build/3Dmol.js');\n",
       "}\n",
       "\n",
       "var viewer_1621864271032054 = null;\n",
       "var warn = document.getElementById(\"3dmolwarning_1621864271032054\");\n",
       "if(warn) {\n",
       "    warn.parentNode.removeChild(warn);\n",
       "}\n",
       "$3Dmolpromise.then(function() {\n",
       "viewer_1621864271032054 = $3Dmol.createViewer($(\"#3dmolviewer_1621864271032054\"),{backgroundColor:\"white\"});\n",
       "$3Dmol.download(\"pdb:1ycr\", viewer_1621864271032054, {}, function() {\n",
       "viewer_1621864271032054.zoomTo();\n",
       "\tviewer_1621864271032054.setStyle({\"stick\": {\"radius\": 0.1}, \"sphere\": {\"scale\": 0.25}});\n",
       "\tviewer_1621864271032054.setStyle({\"cartoon\": {\"color\": \"spectrum\"}});\n",
       "viewer_1621864271032054.render();\n",
       "})\n",
       "});\n",
       "</script>"
      ]
     },
     "metadata": {},
     "output_type": "display_data"
    },
    {
     "data": {
      "text/plain": [
       "<py3Dmol.view at 0x11fd64580>"
      ]
     },
     "execution_count": 18,
     "metadata": {},
     "output_type": "execute_result"
    }
   ],
   "source": [
    "p.setStyle({'cartoon':{'color':'spectrum'}});"
   ]
  },
  {
   "cell_type": "markdown",
   "id": "charitable-offset",
   "metadata": {},
   "source": [
    "## `nglview`\n",
    "\n"
   ]
  },
  {
   "cell_type": "code",
   "execution_count": 19,
   "id": "variable-noise",
   "metadata": {
    "tags": [
     "remove-cell"
    ]
   },
   "outputs": [],
   "source": [
    "%%capture\n",
    "try:\n",
    "    import nglview\n",
    "except:\n",
    "    %pip install nglview\n",
    "    !jupyter-nbextension enable nglview --py --sys-prefix"
   ]
  },
  {
   "cell_type": "code",
   "execution_count": 20,
   "id": "informative-karaoke",
   "metadata": {},
   "outputs": [
    {
     "data": {
      "application/vnd.jupyter.widget-view+json": {
       "model_id": "fb66ac465be94c0492a6325d36ee3de6",
       "version_major": 2,
       "version_minor": 0
      },
      "text/plain": []
     },
     "metadata": {},
     "output_type": "display_data"
    },
    {
     "data": {
      "application/vnd.jupyter.widget-view+json": {
       "model_id": "520d4bd2291a42bd940121f6e5f88cbf",
       "version_major": 2,
       "version_minor": 0
      },
      "text/plain": [
       "NGLWidget()"
      ]
     },
     "metadata": {},
     "output_type": "display_data"
    }
   ],
   "source": [
    "import nglview as nv\n",
    "\n",
    "view = nv.show_structure_file(nv.datafiles.PDB)\n",
    "view"
   ]
  },
  {
   "cell_type": "code",
   "execution_count": 21,
   "id": "violent-highlight",
   "metadata": {},
   "outputs": [],
   "source": [
    "# Useful to pop out in Jupyter notebook context?\n",
    "view.clear_representations()\n",
    "view.add_licorice('not hydrogen', color='blue')"
   ]
  },
  {
   "cell_type": "code",
   "execution_count": 22,
   "id": "decimal-stuff",
   "metadata": {},
   "outputs": [
    {
     "data": {
      "application/vnd.jupyter.widget-view+json": {
       "model_id": "2b039eba0b6547b2beba59fb6671e7d5",
       "version_major": 2,
       "version_minor": 0
      },
      "text/plain": [
       "Image(value=b'', width='99%')"
      ]
     },
     "metadata": {},
     "output_type": "display_data"
    }
   ],
   "source": [
    "view.clear_representations()\n",
    "view.add_cartoon()\n",
    "view.add_surface(opacity=0.3)\n",
    "\n",
    "# Force render here but the original is also updated?\n",
    "view.render_image()"
   ]
  },
  {
   "cell_type": "code",
   "execution_count": 27,
   "id": "internal-energy",
   "metadata": {},
   "outputs": [],
   "source": [
    "view.download_image(\"test.png\")\n",
    "\n",
    "# Downloads to download dir\n",
    "# To specify a download path requires a workaround of working in a separate thread:\n",
    "# https://github.com/nglviewer/nglview/blob/master/docs/FAQ.md#how-to-make-nglview-view-object-write-png-file\n",
    "#from IPython.display import Image\n",
    "#Image(PATH_TO_IMAGE)"
   ]
  }
 ],
 "metadata": {
  "celltoolbar": "Tags",
  "kernelspec": {
   "display_name": "Python 3",
   "language": "python",
   "name": "python3"
  },
  "language_info": {
   "codemirror_mode": {
    "name": "ipython",
    "version": 3
   },
   "file_extension": ".py",
   "mimetype": "text/x-python",
   "name": "python",
   "nbconvert_exporter": "python",
   "pygments_lexer": "ipython3",
   "version": "3.9.5"
  }
 },
 "nbformat": 4,
 "nbformat_minor": 5
}
