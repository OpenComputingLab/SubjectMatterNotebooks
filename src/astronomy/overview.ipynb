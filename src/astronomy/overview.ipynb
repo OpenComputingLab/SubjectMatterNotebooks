{
 "cells": [
  {
   "cell_type": "markdown",
   "id": "caroline-sharing",
   "metadata": {},
   "source": [
    "# Astronomy Overview\n",
    "\n",
    "A wide range of tools are available for obtaining and working with a huge variety of astronomy related images and datasets, as well as performing astronomical calculations.\n",
    "\n",
    "The complex and exact nature of the subject matter means that being able to script the generation and inclusion of assets into our teaching materials as part of a one piece generative production workflow is likely to reduce chances of mismatches when assembling publication ready documents.\n",
    "\n",
    "In addition, by making tools of production available to learners, we also provide them with increased opportunities to engage in curiosity led *what if?* learning, using a range of visual feedback tools to support their own independent learning.\n",
    "\n",
    "Example use cases will include:\n",
    "\n",
    "- accessing, downloading, rendering and manipulating FITS image data;\n",
    "- working with orbital and ephemeris data;\n",
    "- interactive night sky viewers."
   ]
  }
 ],
 "metadata": {
  "kernelspec": {
   "display_name": "Python 3",
   "language": "python",
   "name": "python3"
  },
  "language_info": {
   "codemirror_mode": {
    "name": "ipython",
    "version": 3
   },
   "file_extension": ".py",
   "mimetype": "text/x-python",
   "name": "python",
   "nbconvert_exporter": "python",
   "pygments_lexer": "ipython3",
   "version": "3.9.5"
  }
 },
 "nbformat": 4,
 "nbformat_minor": 5
}
